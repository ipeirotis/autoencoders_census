{
  "nbformat": 4,
  "nbformat_minor": 0,
  "metadata": {
    "colab": {
      "provenance": [],
      "authorship_tag": "ABX9TyOBhIciLeTrzl+QBuebrtNn",
      "include_colab_link": true
    },
    "kernelspec": {
      "name": "python3",
      "display_name": "Python 3"
    },
    "language_info": {
      "name": "python"
    }
  },
  "cells": [
    {
      "cell_type": "markdown",
      "metadata": {
        "id": "view-in-github",
        "colab_type": "text"
      },
      "source": [
        "<a href=\"https://colab.research.google.com/github/ipeirotis/autoencoders_census/blob/main/Best_Trained_Model.ipynb\" target=\"_parent\"><img src=\"https://colab.research.google.com/assets/colab-badge.svg\" alt=\"Open In Colab\"/></a>"
      ]
    },
    {
      "cell_type": "code",
      "source": [
        "!rm -rf autoencoders_census\n",
        "!git clone https://github.com/ipeirotis/autoencoders_census.git\n",
        "%cd autoencoders_census"
      ],
      "metadata": {
        "id": "u8pPorXMUnHU"
      },
      "execution_count": null,
      "outputs": []
    },
    {
      "cell_type": "code",
      "source": [
        "!pip install -q import_ipynb keras-tuner\n",
        "import import_ipynb\n",
        "from autoencoder import AutoencoderModel\n",
        "from pandas2vector import DataTransformer\n",
        "from data_loader import DataLoader"
      ],
      "metadata": {
        "id": "UeQGPpTaVFMh"
      },
      "execution_count": null,
      "outputs": []
    },
    {
      "cell_type": "code",
      "source": [
        "data_loader = DataLoader()\n",
        "original_df = data_loader.load_original_data()\n",
        "project_data, variable_types = data_loader.prepare_original_dataset(original_df)\n",
        "\n",
        "data_transformer = DataTransformer(variable_types)\n",
        "transformed_df = data_transformer.transform_dataframe(project_data)"
      ],
      "metadata": {
        "id": "CsHOlwAXxryG"
      },
      "execution_count": 9,
      "outputs": []
    },
    {
      "cell_type": "code",
      "execution_count": null,
      "metadata": {
        "id": "r9p0DYTsT4Jg"
      },
      "outputs": [],
      "source": [
        "model = AutoencoderModel()\n",
        "X_train, X_test = model.split_train_test(transformed_df)\n",
        "\n",
        "tuner = model.define_tuner()\n",
        "\n",
        "tuner.search(X_train, X_train, epochs=model.EPOCHS,\n",
        "             # batch_size=model.BATCH_SIZE,\n",
        "             validation_data=(X_test, X_test))\n",
        "\n",
        "best_hps = tuner.get_best_hyperparameters(num_trials=model.NUM_TRIALS)[0]\n",
        "final_model = model.build_autoencoder(best_hps)\n",
        "\n",
        "history = final_model.fit(X_train, X_train, epochs=5*model.EPOCHS, verbose=1, validation_data=(X_test, X_test))\n",
        "\n",
        "model_filename = \"Hyperparameter.h5\"\n",
        "final_model.save(model_filename)\n",
        "\n",
        "hyperparameters_dict = {\n",
        "    \"learning_rate\": best_hps.get('learning_rate'),\n",
        "    \"batch_size\": best_hps.get('batch_size'),\n",
        "    \"num_epochs\": 10,\n",
        "    \"loss\": history.history['loss'][-1],\n",
        "    \"val_loss\": history.history['val_loss'][-1]\n",
        "}"
      ]
    },
    {
      "cell_type": "code",
      "source": [],
      "metadata": {
        "id": "RW2ef17GUSR3"
      },
      "execution_count": null,
      "outputs": []
    }
  ]
}