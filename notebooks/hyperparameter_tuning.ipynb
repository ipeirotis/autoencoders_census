{
 "cells": [
  {
   "cell_type": "markdown",
   "metadata": {
    "id": "view-in-github",
    "colab_type": "text"
   },
   "source": [
    "<a href=\"https://colab.research.google.com/github/ipeirotis/autoencoders_census/blob/main/hyperparameter_tuning.ipynb\" target=\"_parent\"><img src=\"https://colab.research.google.com/assets/colab-badge.svg\" alt=\"Open In Colab\"/></a>"
   ]
  },
  {
   "cell_type": "markdown",
   "source": [
    "# **Autoencoders and Data Quality for Tabular Data**\n",
    "\n",
    "This notebook searches the parameter space to create the best possible architecture for our autoencoder and saves the file into a Google Storage Bucket."
   ],
   "metadata": {
    "id": "9K3IqN1rReVp"
   }
  },
  {
   "cell_type": "code",
   "source": [
    "!rm -rf autoencoders_census\n",
    "!git clone https://github.com/ipeirotis/autoencoders_census.git\n",
    "%cd autoencoders_census"
   ],
   "metadata": {
    "id": "5xeAY39sz-rF",
    "outputId": "56fd39c5-b67a-4ffb-cd2d-f14f4b709181",
    "colab": {
     "base_uri": "https://localhost:8080/"
    }
   },
   "execution_count": 1,
   "outputs": [
    {
     "output_type": "stream",
     "name": "stdout",
     "text": [
      "Cloning into 'autoencoders_census'...\n",
      "remote: Enumerating objects: 549, done.\u001B[K\n",
      "remote: Counting objects: 100% (183/183), done.\u001B[K\n",
      "remote: Compressing objects: 100% (95/95), done.\u001B[K\n",
      "remote: Total 549 (delta 113), reused 145 (delta 88), pack-reused 366\u001B[K\n",
      "Receiving objects: 100% (549/549), 52.21 MiB | 19.74 MiB/s, done.\n",
      "Resolving deltas: 100% (327/327), done.\n",
      "/content/autoencoders_census\n"
     ]
    }
   ]
  },
  {
   "cell_type": "code",
   "source": [
    "from google.colab import auth\n",
    "\n",
    "# Login using the account that has access to the Google project\n",
    "# in order to access the resources for the project\n",
    "auth.authenticate_user()"
   ],
   "metadata": {
    "id": "yPY1_oSpyDTj"
   },
   "execution_count": 2,
   "outputs": []
  },
  {
   "cell_type": "code",
   "source": [
    "!pip install -q import_ipynb keras-tuner\n",
    "import import_ipynb\n",
    "from pandas2vector import Table2Vector\n",
    "from data_loader import DataLoader\n",
    "from autoencoder import AutoencoderModel\n",
    "from autoencoder import VariationalAutoencoderModel"
   ],
   "metadata": {
    "id": "Ex9evWOZ0DF3",
    "outputId": "de5f77bd-6529-4089-c557-e05ea41a4c12",
    "colab": {
     "base_uri": "https://localhost:8080/"
    }
   },
   "execution_count": 3,
   "outputs": [
    {
     "output_type": "stream",
     "name": "stdout",
     "text": [
      "importing Jupyter notebook from pandas2vector.ipynb\n",
      "importing Jupyter notebook from data_loader.ipynb\n",
      "importing Jupyter notebook from autoencoder.ipynb\n",
      "Requirement already satisfied: keras-tuner in /usr/local/lib/python3.10/dist-packages (1.4.6)\n",
      "Requirement already satisfied: keras in /usr/local/lib/python3.10/dist-packages (from keras-tuner) (2.14.0)\n",
      "Requirement already satisfied: packaging in /usr/local/lib/python3.10/dist-packages (from keras-tuner) (23.2)\n",
      "Requirement already satisfied: requests in /usr/local/lib/python3.10/dist-packages (from keras-tuner) (2.31.0)\n",
      "Requirement already satisfied: kt-legacy in /usr/local/lib/python3.10/dist-packages (from keras-tuner) (1.0.5)\n",
      "Requirement already satisfied: charset-normalizer<4,>=2 in /usr/local/lib/python3.10/dist-packages (from requests->keras-tuner) (3.3.2)\n",
      "Requirement already satisfied: idna<4,>=2.5 in /usr/local/lib/python3.10/dist-packages (from requests->keras-tuner) (3.4)\n",
      "Requirement already satisfied: urllib3<3,>=1.21.1 in /usr/local/lib/python3.10/dist-packages (from requests->keras-tuner) (2.0.7)\n",
      "Requirement already satisfied: certifi>=2017.4.17 in /usr/local/lib/python3.10/dist-packages (from requests->keras-tuner) (2023.7.22)\n"
     ]
    }
   ]
  },
  {
   "cell_type": "markdown",
   "source": [
    "# Data Source\n",
    "\n",
    "The used data stems from the Youth Risk Behavior Surveillance System by CDC (Centers for Disease Control and Prevention). It includes data on a set of surveys that track behaviors that can lead to poor health in students grades 9 through 12. [Here](https://www.cdc.gov/healthyyouth/data/yrbs/data.htm) is the link to the dataset.\n",
    "\n",
    "Note: The dataset is updated every two years. We use the 2017 version of the national high school YRBS dataset."
   ],
   "metadata": {
    "id": "dIKX1fZeEwml"
   }
  },
  {
   "cell_type": "markdown",
   "source": [
    "## Libraries"
   ],
   "metadata": {
    "id": "KzyIVNMp_xzs"
   }
  },
  {
   "cell_type": "code",
   "source": [
    "import matplotlib.pyplot as plt\n",
    "import seaborn as sns\n",
    "import numpy as np\n",
    "import pandas as pd\n",
    "import tensorflow as tf\n",
    "from tensorflow import keras"
   ],
   "metadata": {
    "id": "ehzw09wzq97i"
   },
   "execution_count": 4,
   "outputs": []
  },
  {
   "cell_type": "markdown",
   "source": [
    "# Load Original Dataset"
   ],
   "metadata": {
    "id": "ixwUP7RmrXk4"
   }
  },
  {
   "cell_type": "code",
   "source": [
    "# Data Source\n",
    "data_loader = DataLoader()\n"
   ],
   "metadata": {
    "id": "aYREUl3F0Krs"
   },
   "execution_count": 5,
   "outputs": []
  },
  {
   "cell_type": "code",
   "source": [
    "project_data, variable_types  = data_loader.load_2017()"
   ],
   "metadata": {
    "id": "PZuw8q6bygGA"
   },
   "execution_count": 6,
   "outputs": []
  },
  {
   "cell_type": "code",
   "execution_count": 7,
   "metadata": {
    "id": "Jcx7nyTXPyvm",
    "colab": {
     "base_uri": "https://localhost:8080/"
    },
    "outputId": "80d5a9e3-6ea8-48da-9bf3-b913a141d18a"
   },
   "outputs": [
    {
     "output_type": "execute_result",
     "data": {
      "text/plain": [
       "(14765, 98)"
      ]
     },
     "metadata": {},
     "execution_count": 7
    }
   ],
   "source": [
    "project_data.shape"
   ]
  },
  {
   "cell_type": "markdown",
   "source": [
    "# Transforming the original data set"
   ],
   "metadata": {
    "id": "EIe0-IpKoD7D"
   }
  },
  {
   "cell_type": "code",
   "source": [
    "# Data Transformation\n",
    "vectorizer = Table2Vector(variable_types)\n",
    "\n",
    "\n",
    "# Without indicator variables for missingness\n",
    "vectorized_df = vectorizer.vectorize_table(project_data)"
   ],
   "metadata": {
    "id": "x__x4uYp13zZ"
   },
   "execution_count": 8,
   "outputs": []
  },
  {
   "cell_type": "code",
   "source": [
    "vectorized_df.shape"
   ],
   "metadata": {
    "id": "AgNQzWeK2S4x",
    "outputId": "f49222f8-cf11-403e-907c-38c5e666fdb7",
    "colab": {
     "base_uri": "https://localhost:8080/"
    }
   },
   "execution_count": 9,
   "outputs": [
    {
     "output_type": "execute_result",
     "data": {
      "text/plain": [
       "(14765, 609)"
      ]
     },
     "metadata": {},
     "execution_count": 9
    }
   ]
  },
  {
   "cell_type": "code",
   "source": [
    "vectorizer.tabularize_vector(vectorized_df).shape"
   ],
   "metadata": {
    "id": "gowOjPGAHRI3",
    "outputId": "3ed9eeda-5cfd-4be0-d82e-39be96bad1a9",
    "colab": {
     "base_uri": "https://localhost:8080/"
    }
   },
   "execution_count": 10,
   "outputs": [
    {
     "output_type": "execute_result",
     "data": {
      "text/plain": [
       "(14765, 98)"
      ]
     },
     "metadata": {},
     "execution_count": 10
    }
   ]
  },
  {
   "cell_type": "markdown",
   "source": [
    "# Autoencoder training"
   ],
   "metadata": {
    "id": "Gq2Q4-y7qHll"
   }
  },
  {
   "cell_type": "markdown",
   "source": [
    "## Hyperparameter search and model training"
   ],
   "metadata": {
    "id": "mfs9eS6P8qID"
   }
  },
  {
   "cell_type": "markdown",
   "source": [
    "The training of an autoencoder model while effectively handling missing data with mask variables."
   ],
   "metadata": {
    "id": "Ls6VIG74QtWC"
   }
  },
  {
   "cell_type": "code",
   "source": [
    "project_data.describe().T"
   ],
   "metadata": {
    "id": "t4-m9zLH9nzh",
    "outputId": "a223a646-2ccc-458a-934e-444b76ade0c3",
    "colab": {
     "base_uri": "https://localhost:8080/",
     "height": 424
    }
   },
   "execution_count": 11,
   "outputs": [
    {
     "output_type": "execute_result",
     "data": {
      "text/plain": [
       "                    count unique           top   freq\n",
       "age                 14765      8  16 years old   3688\n",
       "sex                 14765      3        Female   7526\n",
       "grade               14765      5           9th   3921\n",
       "Hispanic_or_Latino  14765      5         White   6261\n",
       "race                14765      8         White   6261\n",
       "...                   ...    ...           ...    ...\n",
       "weight_cat          14765      2        normal  13838\n",
       "stheight_cat        14765      4        normal  12204\n",
       "stweight_cat        14765      4        normal  12314\n",
       "bmi_cat             14765      4        normal  12472\n",
       "bmipct_cat          14765      3        normal  12320\n",
       "\n",
       "[98 rows x 4 columns]"
      ],
      "text/html": [
       "\n",
       "  <div id=\"df-ff634dde-1446-4fca-8b38-b507c85f212c\" class=\"colab-df-container\">\n",
       "    <div>\n",
       "<style scoped>\n",
       "    .dataframe tbody tr th:only-of-type {\n",
       "        vertical-align: middle;\n",
       "    }\n",
       "\n",
       "    .dataframe tbody tr th {\n",
       "        vertical-align: top;\n",
       "    }\n",
       "\n",
       "    .dataframe thead th {\n",
       "        text-align: right;\n",
       "    }\n",
       "</style>\n",
       "<table border=\"1\" class=\"dataframe\">\n",
       "  <thead>\n",
       "    <tr style=\"text-align: right;\">\n",
       "      <th></th>\n",
       "      <th>count</th>\n",
       "      <th>unique</th>\n",
       "      <th>top</th>\n",
       "      <th>freq</th>\n",
       "    </tr>\n",
       "  </thead>\n",
       "  <tbody>\n",
       "    <tr>\n",
       "      <th>age</th>\n",
       "      <td>14765</td>\n",
       "      <td>8</td>\n",
       "      <td>16 years old</td>\n",
       "      <td>3688</td>\n",
       "    </tr>\n",
       "    <tr>\n",
       "      <th>sex</th>\n",
       "      <td>14765</td>\n",
       "      <td>3</td>\n",
       "      <td>Female</td>\n",
       "      <td>7526</td>\n",
       "    </tr>\n",
       "    <tr>\n",
       "      <th>grade</th>\n",
       "      <td>14765</td>\n",
       "      <td>5</td>\n",
       "      <td>9th</td>\n",
       "      <td>3921</td>\n",
       "    </tr>\n",
       "    <tr>\n",
       "      <th>Hispanic_or_Latino</th>\n",
       "      <td>14765</td>\n",
       "      <td>5</td>\n",
       "      <td>White</td>\n",
       "      <td>6261</td>\n",
       "    </tr>\n",
       "    <tr>\n",
       "      <th>race</th>\n",
       "      <td>14765</td>\n",
       "      <td>8</td>\n",
       "      <td>White</td>\n",
       "      <td>6261</td>\n",
       "    </tr>\n",
       "    <tr>\n",
       "      <th>...</th>\n",
       "      <td>...</td>\n",
       "      <td>...</td>\n",
       "      <td>...</td>\n",
       "      <td>...</td>\n",
       "    </tr>\n",
       "    <tr>\n",
       "      <th>weight_cat</th>\n",
       "      <td>14765</td>\n",
       "      <td>2</td>\n",
       "      <td>normal</td>\n",
       "      <td>13838</td>\n",
       "    </tr>\n",
       "    <tr>\n",
       "      <th>stheight_cat</th>\n",
       "      <td>14765</td>\n",
       "      <td>4</td>\n",
       "      <td>normal</td>\n",
       "      <td>12204</td>\n",
       "    </tr>\n",
       "    <tr>\n",
       "      <th>stweight_cat</th>\n",
       "      <td>14765</td>\n",
       "      <td>4</td>\n",
       "      <td>normal</td>\n",
       "      <td>12314</td>\n",
       "    </tr>\n",
       "    <tr>\n",
       "      <th>bmi_cat</th>\n",
       "      <td>14765</td>\n",
       "      <td>4</td>\n",
       "      <td>normal</td>\n",
       "      <td>12472</td>\n",
       "    </tr>\n",
       "    <tr>\n",
       "      <th>bmipct_cat</th>\n",
       "      <td>14765</td>\n",
       "      <td>3</td>\n",
       "      <td>normal</td>\n",
       "      <td>12320</td>\n",
       "    </tr>\n",
       "  </tbody>\n",
       "</table>\n",
       "<p>98 rows × 4 columns</p>\n",
       "</div>\n",
       "    <div class=\"colab-df-buttons\">\n",
       "\n",
       "  <div class=\"colab-df-container\">\n",
       "    <button class=\"colab-df-convert\" onclick=\"convertToInteractive('df-ff634dde-1446-4fca-8b38-b507c85f212c')\"\n",
       "            title=\"Convert this dataframe to an interactive table.\"\n",
       "            style=\"display:none;\">\n",
       "\n",
       "  <svg xmlns=\"http://www.w3.org/2000/svg\" height=\"24px\" viewBox=\"0 -960 960 960\">\n",
       "    <path d=\"M120-120v-720h720v720H120Zm60-500h600v-160H180v160Zm220 220h160v-160H400v160Zm0 220h160v-160H400v160ZM180-400h160v-160H180v160Zm440 0h160v-160H620v160ZM180-180h160v-160H180v160Zm440 0h160v-160H620v160Z\"/>\n",
       "  </svg>\n",
       "    </button>\n",
       "\n",
       "  <style>\n",
       "    .colab-df-container {\n",
       "      display:flex;\n",
       "      gap: 12px;\n",
       "    }\n",
       "\n",
       "    .colab-df-convert {\n",
       "      background-color: #E8F0FE;\n",
       "      border: none;\n",
       "      border-radius: 50%;\n",
       "      cursor: pointer;\n",
       "      display: none;\n",
       "      fill: #1967D2;\n",
       "      height: 32px;\n",
       "      padding: 0 0 0 0;\n",
       "      width: 32px;\n",
       "    }\n",
       "\n",
       "    .colab-df-convert:hover {\n",
       "      background-color: #E2EBFA;\n",
       "      box-shadow: 0px 1px 2px rgba(60, 64, 67, 0.3), 0px 1px 3px 1px rgba(60, 64, 67, 0.15);\n",
       "      fill: #174EA6;\n",
       "    }\n",
       "\n",
       "    .colab-df-buttons div {\n",
       "      margin-bottom: 4px;\n",
       "    }\n",
       "\n",
       "    [theme=dark] .colab-df-convert {\n",
       "      background-color: #3B4455;\n",
       "      fill: #D2E3FC;\n",
       "    }\n",
       "\n",
       "    [theme=dark] .colab-df-convert:hover {\n",
       "      background-color: #434B5C;\n",
       "      box-shadow: 0px 1px 3px 1px rgba(0, 0, 0, 0.15);\n",
       "      filter: drop-shadow(0px 1px 2px rgba(0, 0, 0, 0.3));\n",
       "      fill: #FFFFFF;\n",
       "    }\n",
       "  </style>\n",
       "\n",
       "    <script>\n",
       "      const buttonEl =\n",
       "        document.querySelector('#df-ff634dde-1446-4fca-8b38-b507c85f212c button.colab-df-convert');\n",
       "      buttonEl.style.display =\n",
       "        google.colab.kernel.accessAllowed ? 'block' : 'none';\n",
       "\n",
       "      async function convertToInteractive(key) {\n",
       "        const element = document.querySelector('#df-ff634dde-1446-4fca-8b38-b507c85f212c');\n",
       "        const dataTable =\n",
       "          await google.colab.kernel.invokeFunction('convertToInteractive',\n",
       "                                                    [key], {});\n",
       "        if (!dataTable) return;\n",
       "\n",
       "        const docLinkHtml = 'Like what you see? Visit the ' +\n",
       "          '<a target=\"_blank\" href=https://colab.research.google.com/notebooks/data_table.ipynb>data table notebook</a>'\n",
       "          + ' to learn more about interactive tables.';\n",
       "        element.innerHTML = '';\n",
       "        dataTable['output_type'] = 'display_data';\n",
       "        await google.colab.output.renderOutput(dataTable, element);\n",
       "        const docLink = document.createElement('div');\n",
       "        docLink.innerHTML = docLinkHtml;\n",
       "        element.appendChild(docLink);\n",
       "      }\n",
       "    </script>\n",
       "  </div>\n",
       "\n",
       "\n",
       "<div id=\"df-20608c74-a31a-4f3b-9ec5-03a1ac74463f\">\n",
       "  <button class=\"colab-df-quickchart\" onclick=\"quickchart('df-20608c74-a31a-4f3b-9ec5-03a1ac74463f')\"\n",
       "            title=\"Suggest charts\"\n",
       "            style=\"display:none;\">\n",
       "\n",
       "<svg xmlns=\"http://www.w3.org/2000/svg\" height=\"24px\"viewBox=\"0 0 24 24\"\n",
       "     width=\"24px\">\n",
       "    <g>\n",
       "        <path d=\"M19 3H5c-1.1 0-2 .9-2 2v14c0 1.1.9 2 2 2h14c1.1 0 2-.9 2-2V5c0-1.1-.9-2-2-2zM9 17H7v-7h2v7zm4 0h-2V7h2v10zm4 0h-2v-4h2v4z\"/>\n",
       "    </g>\n",
       "</svg>\n",
       "  </button>\n",
       "\n",
       "<style>\n",
       "  .colab-df-quickchart {\n",
       "      --bg-color: #E8F0FE;\n",
       "      --fill-color: #1967D2;\n",
       "      --hover-bg-color: #E2EBFA;\n",
       "      --hover-fill-color: #174EA6;\n",
       "      --disabled-fill-color: #AAA;\n",
       "      --disabled-bg-color: #DDD;\n",
       "  }\n",
       "\n",
       "  [theme=dark] .colab-df-quickchart {\n",
       "      --bg-color: #3B4455;\n",
       "      --fill-color: #D2E3FC;\n",
       "      --hover-bg-color: #434B5C;\n",
       "      --hover-fill-color: #FFFFFF;\n",
       "      --disabled-bg-color: #3B4455;\n",
       "      --disabled-fill-color: #666;\n",
       "  }\n",
       "\n",
       "  .colab-df-quickchart {\n",
       "    background-color: var(--bg-color);\n",
       "    border: none;\n",
       "    border-radius: 50%;\n",
       "    cursor: pointer;\n",
       "    display: none;\n",
       "    fill: var(--fill-color);\n",
       "    height: 32px;\n",
       "    padding: 0;\n",
       "    width: 32px;\n",
       "  }\n",
       "\n",
       "  .colab-df-quickchart:hover {\n",
       "    background-color: var(--hover-bg-color);\n",
       "    box-shadow: 0 1px 2px rgba(60, 64, 67, 0.3), 0 1px 3px 1px rgba(60, 64, 67, 0.15);\n",
       "    fill: var(--button-hover-fill-color);\n",
       "  }\n",
       "\n",
       "  .colab-df-quickchart-complete:disabled,\n",
       "  .colab-df-quickchart-complete:disabled:hover {\n",
       "    background-color: var(--disabled-bg-color);\n",
       "    fill: var(--disabled-fill-color);\n",
       "    box-shadow: none;\n",
       "  }\n",
       "\n",
       "  .colab-df-spinner {\n",
       "    border: 2px solid var(--fill-color);\n",
       "    border-color: transparent;\n",
       "    border-bottom-color: var(--fill-color);\n",
       "    animation:\n",
       "      spin 1s steps(1) infinite;\n",
       "  }\n",
       "\n",
       "  @keyframes spin {\n",
       "    0% {\n",
       "      border-color: transparent;\n",
       "      border-bottom-color: var(--fill-color);\n",
       "      border-left-color: var(--fill-color);\n",
       "    }\n",
       "    20% {\n",
       "      border-color: transparent;\n",
       "      border-left-color: var(--fill-color);\n",
       "      border-top-color: var(--fill-color);\n",
       "    }\n",
       "    30% {\n",
       "      border-color: transparent;\n",
       "      border-left-color: var(--fill-color);\n",
       "      border-top-color: var(--fill-color);\n",
       "      border-right-color: var(--fill-color);\n",
       "    }\n",
       "    40% {\n",
       "      border-color: transparent;\n",
       "      border-right-color: var(--fill-color);\n",
       "      border-top-color: var(--fill-color);\n",
       "    }\n",
       "    60% {\n",
       "      border-color: transparent;\n",
       "      border-right-color: var(--fill-color);\n",
       "    }\n",
       "    80% {\n",
       "      border-color: transparent;\n",
       "      border-right-color: var(--fill-color);\n",
       "      border-bottom-color: var(--fill-color);\n",
       "    }\n",
       "    90% {\n",
       "      border-color: transparent;\n",
       "      border-bottom-color: var(--fill-color);\n",
       "    }\n",
       "  }\n",
       "</style>\n",
       "\n",
       "  <script>\n",
       "    async function quickchart(key) {\n",
       "      const quickchartButtonEl =\n",
       "        document.querySelector('#' + key + ' button');\n",
       "      quickchartButtonEl.disabled = true;  // To prevent multiple clicks.\n",
       "      quickchartButtonEl.classList.add('colab-df-spinner');\n",
       "      try {\n",
       "        const charts = await google.colab.kernel.invokeFunction(\n",
       "            'suggestCharts', [key], {});\n",
       "      } catch (error) {\n",
       "        console.error('Error during call to suggestCharts:', error);\n",
       "      }\n",
       "      quickchartButtonEl.classList.remove('colab-df-spinner');\n",
       "      quickchartButtonEl.classList.add('colab-df-quickchart-complete');\n",
       "    }\n",
       "    (() => {\n",
       "      let quickchartButtonEl =\n",
       "        document.querySelector('#df-20608c74-a31a-4f3b-9ec5-03a1ac74463f button');\n",
       "      quickchartButtonEl.style.display =\n",
       "        google.colab.kernel.accessAllowed ? 'block' : 'none';\n",
       "    })();\n",
       "  </script>\n",
       "</div>\n",
       "    </div>\n",
       "  </div>\n"
      ]
     },
     "metadata": {},
     "execution_count": 11
    }
   ]
  },
  {
   "cell_type": "code",
   "source": [
    "attr_cardinalities = list(project_data.describe().T['unique'].values)\n",
    "print(attr_cardinalities)"
   ],
   "metadata": {
    "id": "KGM4egsikQKM",
    "outputId": "1fce9924-c7a6-4ede-cf46-123104b51082",
    "colab": {
     "base_uri": "https://localhost:8080/"
    }
   },
   "execution_count": 12,
   "outputs": [
    {
     "output_type": "stream",
     "name": "stdout",
     "text": [
      "[8, 3, 5, 5, 8, 3, 3, 5, 5, 5, 4, 5, 4, 6, 6, 7, 9, 6, 6, 6, 9, 9, 9, 3, 7, 7, 3, 3, 3, 3, 3, 6, 4, 3, 8, 8, 3, 8, 8, 8, 8, 8, 9, 9, 8, 8, 7, 7, 7, 7, 7, 7, 7, 7, 4, 3, 3, 9, 8, 9, 4, 4, 9, 6, 5, 8, 8, 8, 8, 8, 8, 8, 8, 9, 9, 8, 8, 7, 5, 4, 6, 4, 8, 8, 7, 8, 8, 4, 9, 7, 7, 3, 5, 2, 4, 4, 4, 3]\n"
     ]
    }
   ]
  },
  {
   "cell_type": "code",
   "source": [
    "sum(attr_cardinalities)"
   ],
   "metadata": {
    "id": "RBnSNkKyUynU",
    "outputId": "21d0dfa0-7d89-4f24-9dcd-e14f45f84fe8",
    "colab": {
     "base_uri": "https://localhost:8080/"
    }
   },
   "execution_count": 13,
   "outputs": [
    {
     "output_type": "execute_result",
     "data": {
      "text/plain": [
       "609"
      ]
     },
     "metadata": {},
     "execution_count": 13
    }
   ]
  },
  {
   "cell_type": "code",
   "source": [
    "# Instantiate the class\n",
    "model = AutoencoderModel(attr_cardinalities)\n",
    "# Preprocess the data\n",
    "X_train, X_test = model.split_train_test(vectorized_df)\n",
    "\n",
    "# Define the search space\n",
    "\n",
    "# how many times to run with the same configuration: offers better statistical significance\n",
    "model.EXECUTIONS_PER_TRIAL=1\n",
    "\n",
    "# how many runs over the training data: the more the better accuracy but takes time\n",
    "model.EPOCHS=5\n",
    "\n",
    "# how many different parameter configurations to try\n",
    "model.MAX_TRIALS=25\n",
    "\n"
   ],
   "metadata": {
    "id": "EpoiRJWKySEb"
   },
   "execution_count": null,
   "outputs": []
  },
  {
   "cell_type": "code",
   "source": [
    "# Define the tuner\n",
    "tuner = model.define_tuner()\n",
    "\n",
    "# Perform hyperparameter search\n",
    "tuner.search(X_train, X_train, epochs=model.EPOCHS,\n",
    "             batch_size=64,\n",
    "             validation_data=(X_test, X_test))\n",
    "\n",
    "# Get the best hyperparameters and build the final model\n",
    "best_hps = tuner.get_best_hyperparameters()[0]\n",
    "final_model = model.build_autoencoder(best_hps)"
   ],
   "metadata": {
    "colab": {
     "base_uri": "https://localhost:8080/"
    },
    "id": "rdQuBFGYBL9K",
    "outputId": "b4488201-1e58-49cd-dfa2-986d27774d53"
   },
   "execution_count": null,
   "outputs": [
    {
     "output_type": "stream",
     "name": "stdout",
     "text": [
      "Trial 25 Complete [00h 01m 19s]\n",
      "val_loss: 4.327934265136719\n",
      "\n",
      "Best val_loss So Far: 0.43019428849220276\n",
      "Total elapsed time: 00h 32m 56s\n"
     ]
    }
   ]
  },
  {
   "cell_type": "code",
   "source": [
    "best_hps.values"
   ],
   "metadata": {
    "id": "ZDJNReL_XpYp",
    "outputId": "78269400-c377-43e3-f153-9f41cb9d04ee",
    "colab": {
     "base_uri": "https://localhost:8080/"
    }
   },
   "execution_count": null,
   "outputs": [
    {
     "output_type": "execute_result",
     "data": {
      "text/plain": [
       "{'learning_rate': 0.001,\n",
       " 'encoder_units_1': 144,\n",
       " 'encoder_l2_1': 0.0,\n",
       " 'encoder_dropout_1': 0.1,\n",
       " 'encoder_units_2': 16,\n",
       " 'encoder_l2_2': 0.0,\n",
       " 'encoder_dropout_2': 0.30000000000000004,\n",
       " 'latent_space_dim': 6,\n",
       " 'decoder_units_1': 112,\n",
       " 'decoder_l2_1': 0.01,\n",
       " 'decoder_dropout_1': 0.0,\n",
       " 'decoder_units_2': 144,\n",
       " 'decoder_l2_2': 0.001,\n",
       " 'decoder_dropout_2': 0.2}"
      ]
     },
     "metadata": {},
     "execution_count": 38
    }
   ]
  },
  {
   "cell_type": "code",
   "source": [
    "# Train the final model\n",
    "history = final_model.fit(X_train, X_train,\n",
    "                           epochs=10*model.EPOCHS,\n",
    "                           verbose=1,\n",
    "                           validation_data=(X_test, X_test))"
   ],
   "metadata": {
    "id": "kpreQbv5-PBb",
    "outputId": "6128ccbc-23b6-4a9a-b211-9d782d15b48c",
    "colab": {
     "base_uri": "https://localhost:8080/"
    }
   },
   "execution_count": null,
   "outputs": [
    {
     "output_type": "stream",
     "name": "stdout",
     "text": [
      "Epoch 1/50\n",
      "370/370 [==============================] - 58s 44ms/step - loss: 0.7822 - val_loss: 0.5502\n",
      "Epoch 2/50\n",
      "370/370 [==============================] - 13s 36ms/step - loss: 0.5196 - val_loss: 0.4635\n",
      "Epoch 3/50\n",
      "370/370 [==============================] - 13s 36ms/step - loss: 0.4901 - val_loss: 0.4459\n",
      "Epoch 4/50\n",
      "370/370 [==============================] - 13s 36ms/step - loss: 0.4784 - val_loss: 0.4377\n",
      "Epoch 5/50\n",
      "370/370 [==============================] - 13s 35ms/step - loss: 0.4715 - val_loss: 0.4367\n",
      "Epoch 6/50\n",
      "370/370 [==============================] - 13s 36ms/step - loss: 0.4668 - val_loss: 0.4307\n",
      "Epoch 7/50\n",
      "370/370 [==============================] - 13s 35ms/step - loss: 0.4630 - val_loss: 0.4304\n",
      "Epoch 8/50\n",
      "370/370 [==============================] - 13s 35ms/step - loss: 0.4609 - val_loss: 0.4289\n",
      "Epoch 9/50\n",
      "370/370 [==============================] - 13s 35ms/step - loss: 0.4577 - val_loss: 0.4253\n",
      "Epoch 10/50\n",
      "370/370 [==============================] - 13s 36ms/step - loss: 0.4558 - val_loss: 0.4263\n",
      "Epoch 11/50\n",
      "370/370 [==============================] - 13s 36ms/step - loss: 0.4539 - val_loss: 0.4237\n",
      "Epoch 12/50\n",
      "370/370 [==============================] - 13s 36ms/step - loss: 0.4526 - val_loss: 0.4242\n",
      "Epoch 13/50\n",
      "370/370 [==============================] - 13s 36ms/step - loss: 0.4507 - val_loss: 0.4206\n",
      "Epoch 14/50\n",
      "370/370 [==============================] - 13s 36ms/step - loss: 0.4507 - val_loss: 0.4223\n",
      "Epoch 15/50\n",
      "370/370 [==============================] - 13s 36ms/step - loss: 0.4487 - val_loss: 0.4255\n",
      "Epoch 16/50\n",
      "370/370 [==============================] - 13s 35ms/step - loss: 0.4474 - val_loss: 0.4194\n",
      "Epoch 17/50\n",
      "370/370 [==============================] - 13s 36ms/step - loss: 0.4471 - val_loss: 0.4173\n",
      "Epoch 18/50\n",
      "370/370 [==============================] - 13s 36ms/step - loss: 0.4447 - val_loss: 0.4139\n",
      "Epoch 19/50\n",
      "370/370 [==============================] - 13s 36ms/step - loss: 0.4453 - val_loss: 0.4179\n",
      "Epoch 20/50\n",
      "370/370 [==============================] - 13s 36ms/step - loss: 0.4456 - val_loss: 0.4133\n",
      "Epoch 21/50\n",
      "370/370 [==============================] - 13s 36ms/step - loss: 0.4426 - val_loss: 0.4102\n",
      "Epoch 22/50\n",
      "370/370 [==============================] - 13s 36ms/step - loss: 0.4425 - val_loss: 0.4159\n",
      "Epoch 23/50\n",
      "370/370 [==============================] - 13s 36ms/step - loss: 0.4419 - val_loss: 0.4116\n",
      "Epoch 24/50\n",
      "370/370 [==============================] - 13s 36ms/step - loss: 0.4418 - val_loss: 0.4089\n",
      "Epoch 25/50\n",
      "370/370 [==============================] - 13s 36ms/step - loss: 0.4404 - val_loss: 0.4106\n",
      "Epoch 26/50\n",
      "370/370 [==============================] - 14s 37ms/step - loss: 0.4397 - val_loss: 0.4047\n",
      "Epoch 27/50\n",
      "370/370 [==============================] - 14s 37ms/step - loss: 0.4400 - val_loss: 0.4055\n",
      "Epoch 28/50\n",
      "370/370 [==============================] - 14s 37ms/step - loss: 0.4390 - val_loss: 0.4098\n",
      "Epoch 29/50\n",
      "370/370 [==============================] - 14s 37ms/step - loss: 0.4389 - val_loss: 0.4073\n",
      "Epoch 30/50\n",
      "370/370 [==============================] - 14s 37ms/step - loss: 0.4384 - val_loss: 0.4076\n",
      "Epoch 31/50\n",
      "370/370 [==============================] - 14s 37ms/step - loss: 0.4394 - val_loss: 0.4048\n",
      "Epoch 32/50\n",
      "370/370 [==============================] - 14s 37ms/step - loss: 0.4379 - val_loss: 0.4035\n",
      "Epoch 33/50\n",
      "370/370 [==============================] - 14s 37ms/step - loss: 0.4378 - val_loss: 0.4027\n",
      "Epoch 34/50\n",
      "370/370 [==============================] - 14s 37ms/step - loss: 0.4378 - val_loss: 0.4050\n",
      "Epoch 35/50\n",
      "370/370 [==============================] - 14s 37ms/step - loss: 0.4359 - val_loss: 0.4032\n",
      "Epoch 36/50\n",
      "370/370 [==============================] - 14s 37ms/step - loss: 0.4358 - val_loss: 0.4041\n",
      "Epoch 37/50\n",
      "370/370 [==============================] - 14s 37ms/step - loss: 0.4356 - val_loss: 0.4042\n",
      "Epoch 38/50\n",
      "370/370 [==============================] - 14s 37ms/step - loss: 0.4367 - val_loss: 0.4021\n",
      "Epoch 39/50\n",
      "370/370 [==============================] - 14s 38ms/step - loss: 0.4345 - val_loss: 0.4002\n",
      "Epoch 40/50\n",
      "370/370 [==============================] - 14s 37ms/step - loss: 0.4346 - val_loss: 0.4043\n",
      "Epoch 41/50\n",
      "370/370 [==============================] - 14s 37ms/step - loss: 0.4336 - val_loss: 0.4012\n",
      "Epoch 42/50\n",
      "370/370 [==============================] - 14s 37ms/step - loss: 0.4335 - val_loss: 0.3999\n",
      "Epoch 43/50\n",
      "370/370 [==============================] - 14s 37ms/step - loss: 0.4337 - val_loss: 0.4004\n",
      "Epoch 44/50\n",
      "370/370 [==============================] - 14s 37ms/step - loss: 0.4320 - val_loss: 0.3987\n",
      "Epoch 45/50\n",
      "370/370 [==============================] - 14s 38ms/step - loss: 0.4320 - val_loss: 0.3985\n",
      "Epoch 46/50\n",
      "370/370 [==============================] - 14s 38ms/step - loss: 0.4321 - val_loss: 0.3988\n",
      "Epoch 47/50\n",
      "370/370 [==============================] - 14s 37ms/step - loss: 0.4311 - val_loss: 0.3978\n",
      "Epoch 48/50\n",
      "370/370 [==============================] - 14s 37ms/step - loss: 0.4315 - val_loss: 0.3990\n",
      "Epoch 49/50\n",
      "370/370 [==============================] - 14s 38ms/step - loss: 0.4323 - val_loss: 0.3986\n",
      "Epoch 50/50\n",
      "370/370 [==============================] - 13s 36ms/step - loss: 0.4317 - val_loss: 0.3966\n"
     ]
    }
   ]
  },
  {
   "cell_type": "markdown",
   "source": [
    "Visualize the training and validation loss values over epochs."
   ],
   "metadata": {
    "id": "ypmzVSeefKbq"
   }
  },
  {
   "cell_type": "code",
   "source": [
    "def model_analysis(train_loss, val_loss):\n",
    "    epochs = range(1, len(train_loss) + 1)\n",
    "\n",
    "    plt.figure(figsize=(8, 6))\n",
    "    plt.title(\"Cross categorical entropy loss\")\n",
    "    sns.lineplot(x=epochs[1:], y=train_loss[1:], label=\"Train\", linewidth=3)\n",
    "    sns.lineplot(x=epochs[1:], y=val_loss[1:], label=\"Validation\", linewidth=3)\n",
    "    plt.xlabel(\"Epochs\")\n",
    "\n",
    "    plt.legend()\n",
    "    plt.show()\n",
    "\n",
    "    print(f\"Training = {(train_loss[-1])}\")\n",
    "    print(f\"Validation = {(val_loss[-1])}\")\n",
    "\n",
    "model_analysis(history.history['loss'], history.history['val_loss'])"
   ],
   "metadata": {
    "id": "FvjUGiv9aGHk",
    "outputId": "05f2a45b-d44c-4413-b40d-49289fecea42",
    "colab": {
     "base_uri": "https://localhost:8080/",
     "height": 600
    }
   },
   "execution_count": null,
   "outputs": [
    {
     "output_type": "display_data",
     "data": {
      "text/plain": [
       "<Figure size 800x600 with 1 Axes>"
      ],
      "image/png": "[encoded data removed]"
     },
     "metadata": {}
    },
    {
     "output_type": "stream",
     "name": "stdout",
     "text": [
      "Training = 0.43170303106307983\n",
      "Validation = 0.3966219127178192\n"
     ]
    }
   ]
  },
  {
   "cell_type": "code",
   "source": [
    "import gcsfs\n",
    "# Create a GCS filesystem object using your project ID\n",
    "fs = gcsfs.GCSFileSystem(project='autoencoder_census')\n",
    "\n",
    "# Save the model locally\n",
    "model_filename = \"best_parameters_autoencoder.keras\"\n",
    "final_model.save(model_filename)\n",
    "\n",
    "\n",
    "\n",
    "# Define the path to the file on GCS\n",
    "gcs_model_path = f\"gs://autoencoder_census_models/{model_filename}\"\n",
    "\n",
    "# Open the local file in binary mode and upload its content to GCS\n",
    "with open(model_filename, 'rb') as local_file:\n",
    "    with fs.open(gcs_model_path, 'wb') as gcs_file:\n",
    "        gcs_file.write(local_file.read())\n"
   ],
   "metadata": {
    "id": "AU-4m0_m4pzY"
   },
   "execution_count": null,
   "outputs": []
  },
  {
   "cell_type": "code",
   "source": [
    "\n",
    "\n",
    "# Store the hyperparameters and evaluation metrics in a dictionary\n",
    "hyperparameters_dict = {\"params\": best_hps.values,\n",
    "                        \"loss\": history.history['loss'][-1],\n",
    "                        \"val_loss\": history.history['val_loss'][-1]}\n",
    "\n",
    "hyperparameters_dict"
   ],
   "metadata": {
    "id": "jMEhtaZvi9eU",
    "outputId": "989e5869-bc46-458b-d596-f85a6d113d3a",
    "colab": {
     "base_uri": "https://localhost:8080/"
    }
   },
   "execution_count": null,
   "outputs": [
    {
     "output_type": "execute_result",
     "data": {
      "text/plain": [
       "{'params': {'learning_rate': 0.001,\n",
       "  'encoder_units_1': 144,\n",
       "  'encoder_l2_1': 0.0,\n",
       "  'encoder_dropout_1': 0.1,\n",
       "  'encoder_units_2': 16,\n",
       "  'encoder_l2_2': 0.0,\n",
       "  'encoder_dropout_2': 0.30000000000000004,\n",
       "  'latent_space_dim': 6,\n",
       "  'decoder_units_1': 112,\n",
       "  'decoder_l2_1': 0.01,\n",
       "  'decoder_dropout_1': 0.0,\n",
       "  'decoder_units_2': 144,\n",
       "  'decoder_l2_2': 0.001,\n",
       "  'decoder_dropout_2': 0.2},\n",
       " 'loss': 0.43170303106307983,\n",
       " 'val_loss': 0.3966219127178192}"
      ]
     },
     "metadata": {},
     "execution_count": 42
    }
   ]
  },
  {
   "cell_type": "markdown",
   "source": [
    "Variational Autoencoder Training"
   ],
   "metadata": {
    "id": "I4Ozpc6P3pkb"
   }
  },
  {
   "cell_type": "code",
   "source": [
    "model = VariationalAutoencoderModel(attr_cardinalities)\n",
    "X_train, X_test = model.split_train_test(vectorized_df)\n",
    "model.EXECUTIONS_PER_TRIAL=1\n",
    "model.EPOCHS=5\n",
    "model.MAX_TRIALS=25"
   ],
   "metadata": {
    "id": "JBWkWH4hl4CI"
   },
   "execution_count": 14,
   "outputs": []
  },
  {
   "cell_type": "code",
   "source": [
    "tuner = model.define_tuner()\n",
    "\n",
    "tuner.search(X_train, X_train, epochs=model.EPOCHS,\n",
    "             batch_size=64,\n",
    "             validation_data=(X_test, X_test))\n",
    "\n",
    "best_hps = tuner.get_best_hyperparameters()[0]\n",
    "final_model = model.build_autoencoder(best_hps)"
   ],
   "metadata": {
    "id": "x3UiZci7l8mK",
    "outputId": "0ca7f97c-77fc-4685-f910-9476d5cabc99",
    "colab": {
     "base_uri": "https://localhost:8080/"
    }
   },
   "execution_count": 15,
   "outputs": [
    {
     "output_type": "stream",
     "name": "stdout",
     "text": [
      "Trial 25 Complete [00h 01m 19s]\n",
      "val_loss: 8.738740921020508\n",
      "\n",
      "Best val_loss So Far: 8.088153839111328\n",
      "Total elapsed time: 00h 33m 26s\n"
     ]
    }
   ]
  },
  {
   "cell_type": "code",
   "source": [
    "best_hps.values"
   ],
   "metadata": {
    "id": "msMHRk4smEy4",
    "outputId": "9c60ccdf-071e-4893-db3e-03f21337a542",
    "colab": {
     "base_uri": "https://localhost:8080/"
    }
   },
   "execution_count": 16,
   "outputs": [
    {
     "output_type": "execute_result",
     "data": {
      "text/plain": [
       "{'learning_rate': 0.001,\n",
       " 'encoder_units_1': 144,\n",
       " 'encoder_l2_1': 0.0,\n",
       " 'encoder_dropout_1': 0.2,\n",
       " 'encoder_units_2': 16,\n",
       " 'encoder_l2_2': 0.001,\n",
       " 'encoder_dropout_2': 0.2,\n",
       " 'latent_space_dim': 28,\n",
       " 'decoder_units_1': 64,\n",
       " 'decoder_l2_1': 0.0,\n",
       " 'decoder_dropout_1': 0.0,\n",
       " 'decoder_units_2': 160,\n",
       " 'decoder_l2_2': 0.0,\n",
       " 'decoder_dropout_2': 0.0}"
      ]
     },
     "metadata": {},
     "execution_count": 16
    }
   ]
  },
  {
   "cell_type": "code",
   "source": [
    "history = final_model.fit(X_train, X_train,\n",
    "                           epochs=10*model.EPOCHS,\n",
    "                           verbose=1,\n",
    "                           validation_data=(X_test, X_test))"
   ],
   "metadata": {
    "id": "9qYyiqW_mgHn",
    "outputId": "701146f9-573f-4989-c28d-f0c9d5ceea9f",
    "colab": {
     "base_uri": "https://localhost:8080/"
    }
   },
   "execution_count": 17,
   "outputs": [
    {
     "output_type": "stream",
     "name": "stdout",
     "text": [
      "Epoch 1/50\n",
      "370/370 [==============================] - 49s 45ms/step - loss: 9.3584 - val_loss: 8.1344\n",
      "Epoch 2/50\n",
      "370/370 [==============================] - 14s 38ms/step - loss: 8.1192 - val_loss: 8.0961\n",
      "Epoch 3/50\n",
      "370/370 [==============================] - 14s 38ms/step - loss: 8.0963 - val_loss: 8.0881\n",
      "Epoch 4/50\n",
      "370/370 [==============================] - 14s 37ms/step - loss: 8.0874 - val_loss: 8.0810\n",
      "Epoch 5/50\n",
      "370/370 [==============================] - 14s 38ms/step - loss: 8.0808 - val_loss: 8.0761\n",
      "Epoch 6/50\n",
      "370/370 [==============================] - 14s 38ms/step - loss: 8.0761 - val_loss: 8.0719\n",
      "Epoch 7/50\n",
      "370/370 [==============================] - 14s 38ms/step - loss: 8.0725 - val_loss: 8.0700\n",
      "Epoch 8/50\n",
      "370/370 [==============================] - 14s 38ms/step - loss: 8.0694 - val_loss: 8.0667\n",
      "Epoch 9/50\n",
      "370/370 [==============================] - 14s 39ms/step - loss: 8.0674 - val_loss: 8.0645\n",
      "Epoch 10/50\n",
      "370/370 [==============================] - 14s 39ms/step - loss: 8.0657 - val_loss: 8.0629\n",
      "Epoch 11/50\n",
      "370/370 [==============================] - 14s 38ms/step - loss: 8.0645 - val_loss: 8.0654\n",
      "Epoch 12/50\n",
      "370/370 [==============================] - 14s 38ms/step - loss: 8.0639 - val_loss: 8.0630\n",
      "Epoch 13/50\n",
      "370/370 [==============================] - 14s 38ms/step - loss: 8.0637 - val_loss: 8.0619\n",
      "Epoch 14/50\n",
      "370/370 [==============================] - 14s 38ms/step - loss: 8.0627 - val_loss: 8.0618\n",
      "Epoch 15/50\n",
      "370/370 [==============================] - 14s 37ms/step - loss: 8.0624 - val_loss: 8.0618\n",
      "Epoch 16/50\n",
      "370/370 [==============================] - 14s 38ms/step - loss: 8.0621 - val_loss: 8.0606\n",
      "Epoch 17/50\n",
      "370/370 [==============================] - 14s 38ms/step - loss: 8.0618 - val_loss: 8.0608\n",
      "Epoch 18/50\n",
      "370/370 [==============================] - 14s 38ms/step - loss: 8.0614 - val_loss: 8.0614\n",
      "Epoch 19/50\n",
      "370/370 [==============================] - 14s 38ms/step - loss: 8.0611 - val_loss: 8.0625\n",
      "Epoch 20/50\n",
      "370/370 [==============================] - 14s 37ms/step - loss: 8.0609 - val_loss: 8.0607\n",
      "Epoch 21/50\n",
      "370/370 [==============================] - 14s 38ms/step - loss: 8.0607 - val_loss: 8.0598\n",
      "Epoch 22/50\n",
      "370/370 [==============================] - 14s 39ms/step - loss: 8.0603 - val_loss: 8.0594\n",
      "Epoch 23/50\n",
      "370/370 [==============================] - 14s 38ms/step - loss: 8.0602 - val_loss: 8.0610\n",
      "Epoch 24/50\n",
      "370/370 [==============================] - 14s 38ms/step - loss: 8.0601 - val_loss: 8.0608\n",
      "Epoch 25/50\n",
      "370/370 [==============================] - 14s 38ms/step - loss: 8.0600 - val_loss: 8.0591\n",
      "Epoch 26/50\n",
      "370/370 [==============================] - 14s 38ms/step - loss: 8.0600 - val_loss: 8.0580\n",
      "Epoch 27/50\n",
      "370/370 [==============================] - 14s 38ms/step - loss: 8.0597 - val_loss: 8.0589\n",
      "Epoch 28/50\n",
      "370/370 [==============================] - 14s 38ms/step - loss: 8.0595 - val_loss: 8.0617\n",
      "Epoch 29/50\n",
      "370/370 [==============================] - 14s 37ms/step - loss: 8.0595 - val_loss: 8.0601\n",
      "Epoch 30/50\n",
      "370/370 [==============================] - 14s 38ms/step - loss: 8.0593 - val_loss: 8.0634\n",
      "Epoch 31/50\n",
      "370/370 [==============================] - 14s 38ms/step - loss: 8.0605 - val_loss: 8.0589\n",
      "Epoch 32/50\n",
      "370/370 [==============================] - 14s 38ms/step - loss: 8.0597 - val_loss: 8.0584\n",
      "Epoch 33/50\n",
      "370/370 [==============================] - 14s 38ms/step - loss: 8.0594 - val_loss: 8.0601\n",
      "Epoch 34/50\n",
      "370/370 [==============================] - 14s 38ms/step - loss: 8.0592 - val_loss: 8.0585\n",
      "Epoch 35/50\n",
      "370/370 [==============================] - 14s 38ms/step - loss: 8.0589 - val_loss: 8.0569\n",
      "Epoch 36/50\n",
      "370/370 [==============================] - 14s 39ms/step - loss: 8.0587 - val_loss: 8.0574\n",
      "Epoch 37/50\n",
      "370/370 [==============================] - 14s 38ms/step - loss: 8.0585 - val_loss: 8.0566\n",
      "Epoch 38/50\n",
      "370/370 [==============================] - 14s 38ms/step - loss: 8.0583 - val_loss: 8.0584\n",
      "Epoch 39/50\n",
      "370/370 [==============================] - 14s 38ms/step - loss: 8.0584 - val_loss: 8.0564\n",
      "Epoch 40/50\n",
      "370/370 [==============================] - 14s 38ms/step - loss: 8.0580 - val_loss: 8.0572\n",
      "Epoch 41/50\n",
      "370/370 [==============================] - 14s 38ms/step - loss: 8.0580 - val_loss: 8.0568\n",
      "Epoch 42/50\n",
      "370/370 [==============================] - 14s 38ms/step - loss: 8.0577 - val_loss: 8.0567\n",
      "Epoch 43/50\n",
      "370/370 [==============================] - 14s 38ms/step - loss: 8.0576 - val_loss: 8.0560\n",
      "Epoch 44/50\n",
      "370/370 [==============================] - 14s 38ms/step - loss: 8.0574 - val_loss: 8.0564\n",
      "Epoch 45/50\n",
      "370/370 [==============================] - 14s 38ms/step - loss: 8.0573 - val_loss: 8.0560\n",
      "Epoch 46/50\n",
      "370/370 [==============================] - 14s 38ms/step - loss: 8.0572 - val_loss: 8.0556\n",
      "Epoch 47/50\n",
      "370/370 [==============================] - 14s 38ms/step - loss: 8.0572 - val_loss: 8.0554\n",
      "Epoch 48/50\n",
      "370/370 [==============================] - 14s 38ms/step - loss: 8.0570 - val_loss: 8.0550\n",
      "Epoch 49/50\n",
      "370/370 [==============================] - 14s 39ms/step - loss: 8.0569 - val_loss: 8.0549\n",
      "Epoch 50/50\n",
      "370/370 [==============================] - 14s 37ms/step - loss: 8.0567 - val_loss: 8.0562\n"
     ]
    }
   ]
  },
  {
   "cell_type": "code",
   "source": [
    "def model_analysis(train_loss, val_loss):\n",
    "    epochs = range(1, len(train_loss) + 1)\n",
    "\n",
    "    plt.figure(figsize=(8, 6))\n",
    "    plt.title(\"Cross categorical entropy loss\")\n",
    "    sns.lineplot(x=epochs[1:], y=train_loss[1:], label=\"Train\", linewidth=3)\n",
    "    sns.lineplot(x=epochs[1:], y=val_loss[1:], label=\"Validation\", linewidth=3)\n",
    "    plt.xlabel(\"Epochs\")\n",
    "\n",
    "    plt.legend()\n",
    "    plt.show()\n",
    "\n",
    "    print(f\"Training = {(train_loss[-1])}\")\n",
    "    print(f\"Validation = {(val_loss[-1])}\")\n",
    "\n",
    "model_analysis(history.history['loss'], history.history['val_loss'])"
   ],
   "metadata": {
    "id": "VAhKkgZynxRl",
    "outputId": "98a45867-9a57-4ec4-ae7b-1f1473b9a08c",
    "colab": {
     "base_uri": "https://localhost:8080/",
     "height": 600
    }
   },
   "execution_count": 18,
   "outputs": [
    {
     "output_type": "display_data",
     "data": {
      "text/plain": [
       "<Figure size 800x600 with 1 Axes>"
      ],
      "image/png": "[encoded data removed]"
     },
     "metadata": {}
    },
    {
     "output_type": "stream",
     "name": "stdout",
     "text": [
      "Training = 8.056731224060059\n",
      "Validation = 8.05615520477295\n"
     ]
    }
   ]
  },
  {
   "cell_type": "code",
   "source": [
    "hyperparameters_dict = {\"params\": best_hps.values,\n",
    "                        \"loss\": history.history['loss'][-1],\n",
    "                        \"val_loss\": history.history['val_loss'][-1]}\n",
    "\n",
    "hyperparameters_dict"
   ],
   "metadata": {
    "id": "R7RDyOWh30K_",
    "outputId": "4c14cbe9-c1dc-4101-d9e6-6bb55ff19e43",
    "colab": {
     "base_uri": "https://localhost:8080/"
    }
   },
   "execution_count": 19,
   "outputs": [
    {
     "output_type": "execute_result",
     "data": {
      "text/plain": [
       "{'params': {'learning_rate': 0.001,\n",
       "  'encoder_units_1': 144,\n",
       "  'encoder_l2_1': 0.0,\n",
       "  'encoder_dropout_1': 0.2,\n",
       "  'encoder_units_2': 16,\n",
       "  'encoder_l2_2': 0.001,\n",
       "  'encoder_dropout_2': 0.2,\n",
       "  'latent_space_dim': 28,\n",
       "  'decoder_units_1': 64,\n",
       "  'decoder_l2_1': 0.0,\n",
       "  'decoder_dropout_1': 0.0,\n",
       "  'decoder_units_2': 160,\n",
       "  'decoder_l2_2': 0.0,\n",
       "  'decoder_dropout_2': 0.0},\n",
       " 'loss': 8.056731224060059,\n",
       " 'val_loss': 8.05615520477295}"
      ]
     },
     "metadata": {},
     "execution_count": 19
    }
   ]
  },
  {
   "cell_type": "code",
   "source": [],
   "metadata": {
    "id": "rwcA3EhW30pK"
   },
   "execution_count": 19,
   "outputs": []
  }
 ],
 "metadata": {
  "colab": {
   "provenance": [],
   "gpuType": "V100",
   "machine_shape": "hm",
   "include_colab_link": true
  },
  "kernelspec": {
   "display_name": "Python 3",
   "name": "python3"
  },
  "language_info": {
   "name": "python"
  },
  "accelerator": "GPU"
 },
 "nbformat": 4,
 "nbformat_minor": 0
}
