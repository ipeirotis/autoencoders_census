{
  "nbformat": 4,
  "nbformat_minor": 0,
  "metadata": {
    "colab": {
      "private_outputs": true,
      "provenance": [],
      "authorship_tag": "ABX9TyMpVHsjyzaeeakf5gtHiMRA",
      "include_colab_link": true
    },
    "kernelspec": {
      "name": "python3",
      "display_name": "Python 3"
    },
    "language_info": {
      "name": "python"
    }
  },
  "cells": [
    {
      "cell_type": "markdown",
      "metadata": {
        "id": "view-in-github",
        "colab_type": "text"
      },
      "source": [
        "<a href=\"https://colab.research.google.com/github/ipeirotis/autoencoders_census/blob/main/Autoencoder.ipynb\" target=\"_parent\"><img src=\"https://colab.research.google.com/assets/colab-badge.svg\" alt=\"Open In Colab\"/></a>"
      ]
    },
    {
      "cell_type": "code",
      "source": [
        "!pip install keras-tuner\n"
      ],
      "metadata": {
        "id": "YYq1HQHYyzO3"
      },
      "execution_count": null,
      "outputs": []
    },
    {
      "cell_type": "code",
      "execution_count": null,
      "metadata": {
        "id": "EgC-DNoNxTC1"
      },
      "outputs": [],
      "source": [
        "from sklearn.model_selection import train_test_split\n",
        "import tensorflow as tf\n",
        "from tensorflow import keras\n",
        "from keras.layers import Input, Dense\n",
        "from keras.models import Model\n",
        "from kerastuner.tuners import RandomSearch\n",
        "\n",
        "class AutoencoderModel:\n",
        "    def __init__(self):\n",
        "        self.INPUT_SHAPE = None\n",
        "        self.D = 5\n",
        "        self.TEST_SIZE = 0.2\n",
        "        self.RANDOM_STATE = 42\n",
        "        self.SEED = 42\n",
        "        self.VAL_LOSS = 'val_loss'\n",
        "        self.MAX_TRIALS = 10\n",
        "        self.EXECUTIONS_PER_TRIAL = 3\n",
        "        self.DIRECTORY = 'my_dir'\n",
        "        self.PROJECT_NAME = 'HDHyperparameter'\n",
        "        self.OVERWRITE = True\n",
        "        self.EPOCHS = 10\n",
        "        self.BATCH_SIZE = 32\n",
        "        self.NUM_TRIALS = 1\n",
        "\n",
        "    def preprocess_dataset(self, df):\n",
        "        df = df.fillna(0.0)\n",
        "        X_train, X_test = train_test_split(df, test_size=self.TEST_SIZE, random_state=self.RANDOM_STATE)\n",
        "        self.INPUT_SHAPE = X_train.shape[1:]\n",
        "        return X_train, X_test\n",
        "\n",
        "    @staticmethod\n",
        "    def masked_mse(y_true, y_pred):\n",
        "        mask = tf.where(tf.math.is_nan(y_true), 0.0, 1.0)\n",
        "        return tf.reduce_mean(tf.square(y_true - y_pred) * mask)\n",
        "\n",
        "    def build_encoder(self, hp):\n",
        "        inputs = Input(shape=self.INPUT_SHAPE)\n",
        "        x = Dense(units=hp.Int('encoder_units_1', min_value=32, max_value=256, step=32), activation='relu')(inputs)\n",
        "        x = Dense(units=hp.Int('encoder_units_2', min_value=16, max_value=128, step=16), activation='relu')(x)\n",
        "        latent_space = Dense(units=self.D, activation='relu')(x)\n",
        "        return Model(inputs, latent_space)\n",
        "\n",
        "    def build_decoder(self, hp):\n",
        "        decoder_inputs = Input(shape=(self.D,))\n",
        "        x = Dense(units=hp.Int('decoder_units_1', min_value=16, max_value=128, step=16), activation='relu')(decoder_inputs)\n",
        "        x = Dense(units=hp.Int('decoder_units_2', min_value=32, max_value=256, step=32), activation='relu')(x)\n",
        "        outputs = Dense(units=self.INPUT_SHAPE[0], activation='linear')(x)\n",
        "        return Model(decoder_inputs, outputs)\n",
        "\n",
        "    def build_autoencoder(self, hp):\n",
        "        learning_rate = hp.Choice('learning_rate', values=[1e-2, 1e-3, 1e-4])\n",
        "        batch_size = hp.Int('batch_size', min_value=16, max_value=128, step=16)\n",
        "        autoencoder_input = Input(shape=self.INPUT_SHAPE)\n",
        "        encoder_output = self.build_encoder(hp)(autoencoder_input)\n",
        "        decoder_output = self.build_decoder(hp)(encoder_output)\n",
        "        autoencoder = Model(autoencoder_input, decoder_output)\n",
        "        autoencoder.compile(optimizer=keras.optimizers.Adam(learning_rate=learning_rate), loss=self.masked_mse)\n",
        "        return autoencoder\n",
        "\n",
        "    def define_tuner(self):\n",
        "        tuner = RandomSearch(\n",
        "            self.build_autoencoder,\n",
        "            objective=self.VAL_LOSS,\n",
        "            max_trials=self.MAX_TRIALS,\n",
        "            executions_per_trial=self.EXECUTIONS_PER_TRIAL,\n",
        "            directory=self.DIRECTORY,\n",
        "            project_name=self.PROJECT_NAME,\n",
        "            overwrite=self.OVERWRITE,\n",
        "            seed=self.SEED)\n",
        "        return tuner\n"
      ]
    }
  ]
}