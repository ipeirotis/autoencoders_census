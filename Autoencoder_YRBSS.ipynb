{
  "cells": [
    {
      "cell_type": "markdown",
      "metadata": {
        "id": "view-in-github",
        "colab_type": "text"
      },
      "source": [
        "<a href=\"https://colab.research.google.com/github/ipeirotis/autoencoders_census/blob/main/Autoencoder_YRBSS.ipynb\" target=\"_parent\"><img src=\"https://colab.research.google.com/assets/colab-badge.svg\" alt=\"Open In Colab\"/></a>"
      ]
    },
    {
      "cell_type": "code",
      "source": [
        "import pandas as pd"
      ],
      "metadata": {
        "id": "ehzw09wzq97i"
      },
      "execution_count": 2,
      "outputs": []
    },
    {
      "cell_type": "code",
      "source": [
        "from sklearn.preprocessing import OneHotEncoder, MinMaxScaler\n",
        "from pandas.api.types import is_numeric_dtype"
      ],
      "metadata": {
        "id": "U4vMhpJqrXPp"
      },
      "execution_count": 3,
      "outputs": []
    },
    {
      "cell_type": "markdown",
      "source": [
        "## Load Dataset"
      ],
      "metadata": {
        "id": "ixwUP7RmrXk4"
      }
    },
    {
      "cell_type": "code",
      "execution_count": 10,
      "metadata": {
        "id": "E7bkPX1yTObl"
      },
      "outputs": [],
      "source": [
        "dataset_url = \"https://github.com/ipeirotis/autoencoders_census/raw/main/sadc_2017only_national_full.csv\"\n",
        "df = pd.read_csv(dataset_url)\n"
      ]
    },
    {
      "cell_type": "code",
      "source": [
        "df.head()"
      ],
      "metadata": {
        "colab": {
          "base_uri": "https://localhost:8080/",
          "height": 473
        },
        "id": "rQ06W0COsTlv",
        "outputId": "940c9097-1b7f-4b36-87b1-108f3006f90b"
      },
      "execution_count": 11,
      "outputs": [
        {
          "output_type": "execute_result",
          "data": {
            "text/plain": [
              "  sitecode            sitename  sitetype  sitetypenum  year  survyear  weight  \\\n",
              "0       XX  United States (XX)  National            3  2017        14  2.4095   \n",
              "1       XX  United States (XX)  National            3  2017        14  1.6614   \n",
              "2       XX  United States (XX)  National            3  2017        14  0.7049   \n",
              "3       XX  United States (XX)  National            3  2017        14  0.7966   \n",
              "4       XX  United States (XX)  National            3  2017        14  1.9776   \n",
              "\n",
              "   stratum     PSU   record  ... qnwenthungry qnmusclestrength qnsunscreenuse  \\\n",
              "0      111  171190  1509749  ...          NaN              1.0            NaN   \n",
              "1      212  170890  1509750  ...          NaN              1.0            NaN   \n",
              "2      212  170890  1509751  ...          NaN              2.0            NaN   \n",
              "3      212  170890  1509752  ...          NaN              1.0            NaN   \n",
              "4      202  160270  1509753  ...          NaN              NaN            NaN   \n",
              "\n",
              "  qnindoortanning qnsunburn  qnconcentrating  qncurrentasthma  qnwheresleep  \\\n",
              "0             2.0       1.0              1.0              NaN           NaN   \n",
              "1             2.0       2.0              1.0              NaN           NaN   \n",
              "2             2.0       2.0              2.0              NaN           NaN   \n",
              "3             2.0       1.0              2.0              NaN           NaN   \n",
              "4             NaN       NaN              NaN              NaN           NaN   \n",
              "\n",
              "   qnspeakenglish  qntransgender  \n",
              "0             1.0            NaN  \n",
              "1             1.0            NaN  \n",
              "2             1.0            NaN  \n",
              "3             1.0            NaN  \n",
              "4             NaN            NaN  \n",
              "\n",
              "[5 rows x 314 columns]"
            ],
            "text/html": [
              "\n",
              "  <div id=\"df-e40bbe4e-dc34-4dca-8789-c0664a17e733\">\n",
              "    <div class=\"colab-df-container\">\n",
              "      <div>\n",
              "<style scoped>\n",
              "    .dataframe tbody tr th:only-of-type {\n",
              "        vertical-align: middle;\n",
              "    }\n",
              "\n",
              "    .dataframe tbody tr th {\n",
              "        vertical-align: top;\n",
              "    }\n",
              "\n",
              "    .dataframe thead th {\n",
              "        text-align: right;\n",
              "    }\n",
              "</style>\n",
              "<table border=\"1\" class=\"dataframe\">\n",
              "  <thead>\n",
              "    <tr style=\"text-align: right;\">\n",
              "      <th></th>\n",
              "      <th>sitecode</th>\n",
              "      <th>sitename</th>\n",
              "      <th>sitetype</th>\n",
              "      <th>sitetypenum</th>\n",
              "      <th>year</th>\n",
              "      <th>survyear</th>\n",
              "      <th>weight</th>\n",
              "      <th>stratum</th>\n",
              "      <th>PSU</th>\n",
              "      <th>record</th>\n",
              "      <th>...</th>\n",
              "      <th>qnwenthungry</th>\n",
              "      <th>qnmusclestrength</th>\n",
              "      <th>qnsunscreenuse</th>\n",
              "      <th>qnindoortanning</th>\n",
              "      <th>qnsunburn</th>\n",
              "      <th>qnconcentrating</th>\n",
              "      <th>qncurrentasthma</th>\n",
              "      <th>qnwheresleep</th>\n",
              "      <th>qnspeakenglish</th>\n",
              "      <th>qntransgender</th>\n",
              "    </tr>\n",
              "  </thead>\n",
              "  <tbody>\n",
              "    <tr>\n",
              "      <th>0</th>\n",
              "      <td>XX</td>\n",
              "      <td>United States (XX)</td>\n",
              "      <td>National</td>\n",
              "      <td>3</td>\n",
              "      <td>2017</td>\n",
              "      <td>14</td>\n",
              "      <td>2.4095</td>\n",
              "      <td>111</td>\n",
              "      <td>171190</td>\n",
              "      <td>1509749</td>\n",
              "      <td>...</td>\n",
              "      <td>NaN</td>\n",
              "      <td>1.0</td>\n",
              "      <td>NaN</td>\n",
              "      <td>2.0</td>\n",
              "      <td>1.0</td>\n",
              "      <td>1.0</td>\n",
              "      <td>NaN</td>\n",
              "      <td>NaN</td>\n",
              "      <td>1.0</td>\n",
              "      <td>NaN</td>\n",
              "    </tr>\n",
              "    <tr>\n",
              "      <th>1</th>\n",
              "      <td>XX</td>\n",
              "      <td>United States (XX)</td>\n",
              "      <td>National</td>\n",
              "      <td>3</td>\n",
              "      <td>2017</td>\n",
              "      <td>14</td>\n",
              "      <td>1.6614</td>\n",
              "      <td>212</td>\n",
              "      <td>170890</td>\n",
              "      <td>1509750</td>\n",
              "      <td>...</td>\n",
              "      <td>NaN</td>\n",
              "      <td>1.0</td>\n",
              "      <td>NaN</td>\n",
              "      <td>2.0</td>\n",
              "      <td>2.0</td>\n",
              "      <td>1.0</td>\n",
              "      <td>NaN</td>\n",
              "      <td>NaN</td>\n",
              "      <td>1.0</td>\n",
              "      <td>NaN</td>\n",
              "    </tr>\n",
              "    <tr>\n",
              "      <th>2</th>\n",
              "      <td>XX</td>\n",
              "      <td>United States (XX)</td>\n",
              "      <td>National</td>\n",
              "      <td>3</td>\n",
              "      <td>2017</td>\n",
              "      <td>14</td>\n",
              "      <td>0.7049</td>\n",
              "      <td>212</td>\n",
              "      <td>170890</td>\n",
              "      <td>1509751</td>\n",
              "      <td>...</td>\n",
              "      <td>NaN</td>\n",
              "      <td>2.0</td>\n",
              "      <td>NaN</td>\n",
              "      <td>2.0</td>\n",
              "      <td>2.0</td>\n",
              "      <td>2.0</td>\n",
              "      <td>NaN</td>\n",
              "      <td>NaN</td>\n",
              "      <td>1.0</td>\n",
              "      <td>NaN</td>\n",
              "    </tr>\n",
              "    <tr>\n",
              "      <th>3</th>\n",
              "      <td>XX</td>\n",
              "      <td>United States (XX)</td>\n",
              "      <td>National</td>\n",
              "      <td>3</td>\n",
              "      <td>2017</td>\n",
              "      <td>14</td>\n",
              "      <td>0.7966</td>\n",
              "      <td>212</td>\n",
              "      <td>170890</td>\n",
              "      <td>1509752</td>\n",
              "      <td>...</td>\n",
              "      <td>NaN</td>\n",
              "      <td>1.0</td>\n",
              "      <td>NaN</td>\n",
              "      <td>2.0</td>\n",
              "      <td>1.0</td>\n",
              "      <td>2.0</td>\n",
              "      <td>NaN</td>\n",
              "      <td>NaN</td>\n",
              "      <td>1.0</td>\n",
              "      <td>NaN</td>\n",
              "    </tr>\n",
              "    <tr>\n",
              "      <th>4</th>\n",
              "      <td>XX</td>\n",
              "      <td>United States (XX)</td>\n",
              "      <td>National</td>\n",
              "      <td>3</td>\n",
              "      <td>2017</td>\n",
              "      <td>14</td>\n",
              "      <td>1.9776</td>\n",
              "      <td>202</td>\n",
              "      <td>160270</td>\n",
              "      <td>1509753</td>\n",
              "      <td>...</td>\n",
              "      <td>NaN</td>\n",
              "      <td>NaN</td>\n",
              "      <td>NaN</td>\n",
              "      <td>NaN</td>\n",
              "      <td>NaN</td>\n",
              "      <td>NaN</td>\n",
              "      <td>NaN</td>\n",
              "      <td>NaN</td>\n",
              "      <td>NaN</td>\n",
              "      <td>NaN</td>\n",
              "    </tr>\n",
              "  </tbody>\n",
              "</table>\n",
              "<p>5 rows × 314 columns</p>\n",
              "</div>\n",
              "      <button class=\"colab-df-convert\" onclick=\"convertToInteractive('df-e40bbe4e-dc34-4dca-8789-c0664a17e733')\"\n",
              "              title=\"Convert this dataframe to an interactive table.\"\n",
              "              style=\"display:none;\">\n",
              "        \n",
              "  <svg xmlns=\"http://www.w3.org/2000/svg\" height=\"24px\"viewBox=\"0 0 24 24\"\n",
              "       width=\"24px\">\n",
              "    <path d=\"M0 0h24v24H0V0z\" fill=\"none\"/>\n",
              "    <path d=\"M18.56 5.44l.94 2.06.94-2.06 2.06-.94-2.06-.94-.94-2.06-.94 2.06-2.06.94zm-11 1L8.5 8.5l.94-2.06 2.06-.94-2.06-.94L8.5 2.5l-.94 2.06-2.06.94zm10 10l.94 2.06.94-2.06 2.06-.94-2.06-.94-.94-2.06-.94 2.06-2.06.94z\"/><path d=\"M17.41 7.96l-1.37-1.37c-.4-.4-.92-.59-1.43-.59-.52 0-1.04.2-1.43.59L10.3 9.45l-7.72 7.72c-.78.78-.78 2.05 0 2.83L4 21.41c.39.39.9.59 1.41.59.51 0 1.02-.2 1.41-.59l7.78-7.78 2.81-2.81c.8-.78.8-2.07 0-2.86zM5.41 20L4 18.59l7.72-7.72 1.47 1.35L5.41 20z\"/>\n",
              "  </svg>\n",
              "      </button>\n",
              "      \n",
              "  <style>\n",
              "    .colab-df-container {\n",
              "      display:flex;\n",
              "      flex-wrap:wrap;\n",
              "      gap: 12px;\n",
              "    }\n",
              "\n",
              "    .colab-df-convert {\n",
              "      background-color: #E8F0FE;\n",
              "      border: none;\n",
              "      border-radius: 50%;\n",
              "      cursor: pointer;\n",
              "      display: none;\n",
              "      fill: #1967D2;\n",
              "      height: 32px;\n",
              "      padding: 0 0 0 0;\n",
              "      width: 32px;\n",
              "    }\n",
              "\n",
              "    .colab-df-convert:hover {\n",
              "      background-color: #E2EBFA;\n",
              "      box-shadow: 0px 1px 2px rgba(60, 64, 67, 0.3), 0px 1px 3px 1px rgba(60, 64, 67, 0.15);\n",
              "      fill: #174EA6;\n",
              "    }\n",
              "\n",
              "    [theme=dark] .colab-df-convert {\n",
              "      background-color: #3B4455;\n",
              "      fill: #D2E3FC;\n",
              "    }\n",
              "\n",
              "    [theme=dark] .colab-df-convert:hover {\n",
              "      background-color: #434B5C;\n",
              "      box-shadow: 0px 1px 3px 1px rgba(0, 0, 0, 0.15);\n",
              "      filter: drop-shadow(0px 1px 2px rgba(0, 0, 0, 0.3));\n",
              "      fill: #FFFFFF;\n",
              "    }\n",
              "  </style>\n",
              "\n",
              "      <script>\n",
              "        const buttonEl =\n",
              "          document.querySelector('#df-e40bbe4e-dc34-4dca-8789-c0664a17e733 button.colab-df-convert');\n",
              "        buttonEl.style.display =\n",
              "          google.colab.kernel.accessAllowed ? 'block' : 'none';\n",
              "\n",
              "        async function convertToInteractive(key) {\n",
              "          const element = document.querySelector('#df-e40bbe4e-dc34-4dca-8789-c0664a17e733');\n",
              "          const dataTable =\n",
              "            await google.colab.kernel.invokeFunction('convertToInteractive',\n",
              "                                                     [key], {});\n",
              "          if (!dataTable) return;\n",
              "\n",
              "          const docLinkHtml = 'Like what you see? Visit the ' +\n",
              "            '<a target=\"_blank\" href=https://colab.research.google.com/notebooks/data_table.ipynb>data table notebook</a>'\n",
              "            + ' to learn more about interactive tables.';\n",
              "          element.innerHTML = '';\n",
              "          dataTable['output_type'] = 'display_data';\n",
              "          await google.colab.output.renderOutput(dataTable, element);\n",
              "          const docLink = document.createElement('div');\n",
              "          docLink.innerHTML = docLinkHtml;\n",
              "          element.appendChild(docLink);\n",
              "        }\n",
              "      </script>\n",
              "    </div>\n",
              "  </div>\n",
              "  "
            ]
          },
          "metadata": {},
          "execution_count": 11
        }
      ]
    },
    {
      "cell_type": "code",
      "source": [
        "columns_to_drop = ['sitecode', 'sitename', 'sitetype', 'sitetypenum', 'year', 'survyear', 'record']\n",
        "df = df.drop(columns = columns_to_drop, axis='columns')"
      ],
      "metadata": {
        "id": "Ky9iKFMvsSNl"
      },
      "execution_count": 12,
      "outputs": []
    },
    {
      "cell_type": "markdown",
      "source": [
        "## Code that transforms a dataframe to vector format and vice versa\n",
        "\n",
        "\n"
      ],
      "metadata": {
        "id": "1kcvxzZqqzmn"
      }
    },
    {
      "cell_type": "code",
      "source": [
        "def transform_dataframe(df, variable_types):\n",
        "    one_hot_encoder = OneHotEncoder(sparse=False, handle_unknown='ignore')\n",
        "    min_max_scaler = MinMaxScaler()\n",
        "\n",
        "    for column, variable_type in variable_types.items():\n",
        "        if variable_type == 'categorical':\n",
        "            df_encoded = pd.DataFrame(one_hot_encoder.fit_transform(df[[column]]))\n",
        "            df_encoded.columns = [f\"{column}_{cat}\" for cat in one_hot_encoder.categories_[0]]\n",
        "            df = pd.concat([df, df_encoded], axis=1)\n",
        "            df = df.drop(column, axis=1)\n",
        "        elif variable_type == 'numeric' and is_numeric_dtype(df[column]):\n",
        "            df[column] = min_max_scaler.fit_transform(df[[column]])\n",
        "    \n",
        "    return df, one_hot_encoder, min_max_scaler\n",
        "\n",
        "\n",
        "def reverse_transform_dataframe(df, variable_types, one_hot_encoder, min_max_scaler):\n",
        "    for column, variable_type in variable_types.items():\n",
        "        if variable_type == 'categorical':\n",
        "            original_cols = [col for col in df.columns if col.startswith(f\"{column}_\")]\n",
        "            df_original = pd.DataFrame(one_hot_encoder.inverse_transform(df[original_cols]))\n",
        "            df_original.columns = [column]\n",
        "            df = pd.concat([df, df_original], axis=1)\n",
        "            df = df.drop(original_cols, axis=1)\n",
        "        elif variable_type == 'numeric' and is_numeric_dtype(df[column]):\n",
        "            df[column] = min_max_scaler.inverse_transform(df[[column]])\n",
        "\n",
        "    return df\n"
      ],
      "metadata": {
        "id": "lra4ga78q5GR"
      },
      "execution_count": null,
      "outputs": []
    },
    {
      "cell_type": "code",
      "source": [
        "# Example code that calls the functions above\n",
        "\n",
        "# For converting \"column1\" as a categorical variable and \"column2\" as a numeric\n",
        "variable_types = {'column1': 'categorical', 'column2': 'numeric'}\n",
        "transformed_df, one_hot_encoder, min_max_scaler = transform_dataframe(df, variable_types)\n",
        "\n",
        "# This code takes the vector representation and does the inverse transform\n",
        "original_df = reverse_transform_dataframe(transformed_df, variable_types, one_hot_encoder, min_max_scaler)\n"
      ],
      "metadata": {
        "id": "Sj-KUwTNq7WQ"
      },
      "execution_count": null,
      "outputs": []
    },
    {
      "cell_type": "code",
      "source": [],
      "metadata": {
        "id": "bsMGIowIq82j"
      },
      "execution_count": null,
      "outputs": []
    },
    {
      "cell_type": "code",
      "source": [],
      "metadata": {
        "id": "GTLX5CH3qq-Y"
      },
      "execution_count": null,
      "outputs": []
    },
    {
      "cell_type": "code",
      "execution_count": 2,
      "metadata": {
        "id": "_XCzCzSPQWaL"
      },
      "outputs": [],
      "source": []
    },
    {
      "cell_type": "code",
      "execution_count": null,
      "metadata": {
        "id": "Jcx7nyTXPyvm"
      },
      "outputs": [],
      "source": [
        "df1 = df.iloc[:, :100]\n",
        "df1.head()"
      ]
    },
    {
      "cell_type": "code",
      "execution_count": 4,
      "metadata": {
        "colab": {
          "base_uri": "https://localhost:8080/",
          "height": 421
        },
        "id": "ETIRJ_UcNPzI",
        "outputId": "a17eb446-d8d7-4a22-d00d-bb0d84bc4b35"
      },
      "outputs": [
        {
          "output_type": "execute_result",
          "data": {
            "text/plain": [
              "   weight  stratum     PSU  age  sex grade race4 race7  stheight  stweight  \\\n",
              "0  2.4095      111  171190  NaN  NaN   NaN   NaN   NaN       NaN       NaN   \n",
              "1  1.6614      212  170890  NaN  NaN   NaN   NaN   NaN       NaN       NaN   \n",
              "2  0.7049      212  170890  NaN  NaN   NaN   NaN   NaN       NaN       NaN   \n",
              "3  0.7966      212  170890  NaN  NaN   NaN   NaN   NaN       NaN       NaN   \n",
              "4  1.9776      202  160270  NaN  NaN   NaN   NaN   NaN       NaN       NaN   \n",
              "\n",
              "   ...  qdrivemarijuana   qhallucdrug                qsportsdrink  \\\n",
              "0  ...          0 times       0 times                1 to 3 times   \n",
              "1  ...    Did not drive       0 times                1 to 3 times   \n",
              "2  ...     2 or 3 times       0 times                1 to 3 times   \n",
              "3  ...     4 or 5 times  3 to 9 times  Did not drink sports drink   \n",
              "4  ...    Did not drive       0 times                1 to 3 times   \n",
              "\n",
              "                    qwater qfoodallergy qmusclestrength qindoortanning  \\\n",
              "0             4 to 6 times     Not sure          3 days        0 times   \n",
              "1           1 time per day     Not sure          4 days        0 times   \n",
              "2             1 to 3 times           No           1 day        0 times   \n",
              "3  4 or more times per day           No          3 days        0 times   \n",
              "4             4 to 6 times           No             NaN            NaN   \n",
              "\n",
              "  qsunburn qconcentrating qspeakenglish  \n",
              "0  2 times            Yes     Very well  \n",
              "1  0 times            Yes     Very well  \n",
              "2  0 times             No     Very well  \n",
              "3   1 time             No     Very well  \n",
              "4      NaN            NaN           NaN  \n",
              "\n",
              "[5 rows x 110 columns]"
            ],
            "text/html": [
              "\n",
              "  <div id=\"df-69739558-bd31-4c77-b180-ad81c6b063b2\">\n",
              "    <div class=\"colab-df-container\">\n",
              "      <div>\n",
              "<style scoped>\n",
              "    .dataframe tbody tr th:only-of-type {\n",
              "        vertical-align: middle;\n",
              "    }\n",
              "\n",
              "    .dataframe tbody tr th {\n",
              "        vertical-align: top;\n",
              "    }\n",
              "\n",
              "    .dataframe thead th {\n",
              "        text-align: right;\n",
              "    }\n",
              "</style>\n",
              "<table border=\"1\" class=\"dataframe\">\n",
              "  <thead>\n",
              "    <tr style=\"text-align: right;\">\n",
              "      <th></th>\n",
              "      <th>weight</th>\n",
              "      <th>stratum</th>\n",
              "      <th>PSU</th>\n",
              "      <th>age</th>\n",
              "      <th>sex</th>\n",
              "      <th>grade</th>\n",
              "      <th>race4</th>\n",
              "      <th>race7</th>\n",
              "      <th>stheight</th>\n",
              "      <th>stweight</th>\n",
              "      <th>...</th>\n",
              "      <th>qdrivemarijuana</th>\n",
              "      <th>qhallucdrug</th>\n",
              "      <th>qsportsdrink</th>\n",
              "      <th>qwater</th>\n",
              "      <th>qfoodallergy</th>\n",
              "      <th>qmusclestrength</th>\n",
              "      <th>qindoortanning</th>\n",
              "      <th>qsunburn</th>\n",
              "      <th>qconcentrating</th>\n",
              "      <th>qspeakenglish</th>\n",
              "    </tr>\n",
              "  </thead>\n",
              "  <tbody>\n",
              "    <tr>\n",
              "      <th>0</th>\n",
              "      <td>2.4095</td>\n",
              "      <td>111</td>\n",
              "      <td>171190</td>\n",
              "      <td>NaN</td>\n",
              "      <td>NaN</td>\n",
              "      <td>NaN</td>\n",
              "      <td>NaN</td>\n",
              "      <td>NaN</td>\n",
              "      <td>NaN</td>\n",
              "      <td>NaN</td>\n",
              "      <td>...</td>\n",
              "      <td>0 times</td>\n",
              "      <td>0 times</td>\n",
              "      <td>1 to 3 times</td>\n",
              "      <td>4 to 6 times</td>\n",
              "      <td>Not sure</td>\n",
              "      <td>3 days</td>\n",
              "      <td>0 times</td>\n",
              "      <td>2 times</td>\n",
              "      <td>Yes</td>\n",
              "      <td>Very well</td>\n",
              "    </tr>\n",
              "    <tr>\n",
              "      <th>1</th>\n",
              "      <td>1.6614</td>\n",
              "      <td>212</td>\n",
              "      <td>170890</td>\n",
              "      <td>NaN</td>\n",
              "      <td>NaN</td>\n",
              "      <td>NaN</td>\n",
              "      <td>NaN</td>\n",
              "      <td>NaN</td>\n",
              "      <td>NaN</td>\n",
              "      <td>NaN</td>\n",
              "      <td>...</td>\n",
              "      <td>Did not drive</td>\n",
              "      <td>0 times</td>\n",
              "      <td>1 to 3 times</td>\n",
              "      <td>1 time per day</td>\n",
              "      <td>Not sure</td>\n",
              "      <td>4 days</td>\n",
              "      <td>0 times</td>\n",
              "      <td>0 times</td>\n",
              "      <td>Yes</td>\n",
              "      <td>Very well</td>\n",
              "    </tr>\n",
              "    <tr>\n",
              "      <th>2</th>\n",
              "      <td>0.7049</td>\n",
              "      <td>212</td>\n",
              "      <td>170890</td>\n",
              "      <td>NaN</td>\n",
              "      <td>NaN</td>\n",
              "      <td>NaN</td>\n",
              "      <td>NaN</td>\n",
              "      <td>NaN</td>\n",
              "      <td>NaN</td>\n",
              "      <td>NaN</td>\n",
              "      <td>...</td>\n",
              "      <td>2 or 3 times</td>\n",
              "      <td>0 times</td>\n",
              "      <td>1 to 3 times</td>\n",
              "      <td>1 to 3 times</td>\n",
              "      <td>No</td>\n",
              "      <td>1 day</td>\n",
              "      <td>0 times</td>\n",
              "      <td>0 times</td>\n",
              "      <td>No</td>\n",
              "      <td>Very well</td>\n",
              "    </tr>\n",
              "    <tr>\n",
              "      <th>3</th>\n",
              "      <td>0.7966</td>\n",
              "      <td>212</td>\n",
              "      <td>170890</td>\n",
              "      <td>NaN</td>\n",
              "      <td>NaN</td>\n",
              "      <td>NaN</td>\n",
              "      <td>NaN</td>\n",
              "      <td>NaN</td>\n",
              "      <td>NaN</td>\n",
              "      <td>NaN</td>\n",
              "      <td>...</td>\n",
              "      <td>4 or 5 times</td>\n",
              "      <td>3 to 9 times</td>\n",
              "      <td>Did not drink sports drink</td>\n",
              "      <td>4 or more times per day</td>\n",
              "      <td>No</td>\n",
              "      <td>3 days</td>\n",
              "      <td>0 times</td>\n",
              "      <td>1 time</td>\n",
              "      <td>No</td>\n",
              "      <td>Very well</td>\n",
              "    </tr>\n",
              "    <tr>\n",
              "      <th>4</th>\n",
              "      <td>1.9776</td>\n",
              "      <td>202</td>\n",
              "      <td>160270</td>\n",
              "      <td>NaN</td>\n",
              "      <td>NaN</td>\n",
              "      <td>NaN</td>\n",
              "      <td>NaN</td>\n",
              "      <td>NaN</td>\n",
              "      <td>NaN</td>\n",
              "      <td>NaN</td>\n",
              "      <td>...</td>\n",
              "      <td>Did not drive</td>\n",
              "      <td>0 times</td>\n",
              "      <td>1 to 3 times</td>\n",
              "      <td>4 to 6 times</td>\n",
              "      <td>No</td>\n",
              "      <td>NaN</td>\n",
              "      <td>NaN</td>\n",
              "      <td>NaN</td>\n",
              "      <td>NaN</td>\n",
              "      <td>NaN</td>\n",
              "    </tr>\n",
              "  </tbody>\n",
              "</table>\n",
              "<p>5 rows × 110 columns</p>\n",
              "</div>\n",
              "      <button class=\"colab-df-convert\" onclick=\"convertToInteractive('df-69739558-bd31-4c77-b180-ad81c6b063b2')\"\n",
              "              title=\"Convert this dataframe to an interactive table.\"\n",
              "              style=\"display:none;\">\n",
              "        \n",
              "  <svg xmlns=\"http://www.w3.org/2000/svg\" height=\"24px\"viewBox=\"0 0 24 24\"\n",
              "       width=\"24px\">\n",
              "    <path d=\"M0 0h24v24H0V0z\" fill=\"none\"/>\n",
              "    <path d=\"M18.56 5.44l.94 2.06.94-2.06 2.06-.94-2.06-.94-.94-2.06-.94 2.06-2.06.94zm-11 1L8.5 8.5l.94-2.06 2.06-.94-2.06-.94L8.5 2.5l-.94 2.06-2.06.94zm10 10l.94 2.06.94-2.06 2.06-.94-2.06-.94-.94-2.06-.94 2.06-2.06.94z\"/><path d=\"M17.41 7.96l-1.37-1.37c-.4-.4-.92-.59-1.43-.59-.52 0-1.04.2-1.43.59L10.3 9.45l-7.72 7.72c-.78.78-.78 2.05 0 2.83L4 21.41c.39.39.9.59 1.41.59.51 0 1.02-.2 1.41-.59l7.78-7.78 2.81-2.81c.8-.78.8-2.07 0-2.86zM5.41 20L4 18.59l7.72-7.72 1.47 1.35L5.41 20z\"/>\n",
              "  </svg>\n",
              "      </button>\n",
              "      \n",
              "  <style>\n",
              "    .colab-df-container {\n",
              "      display:flex;\n",
              "      flex-wrap:wrap;\n",
              "      gap: 12px;\n",
              "    }\n",
              "\n",
              "    .colab-df-convert {\n",
              "      background-color: #E8F0FE;\n",
              "      border: none;\n",
              "      border-radius: 50%;\n",
              "      cursor: pointer;\n",
              "      display: none;\n",
              "      fill: #1967D2;\n",
              "      height: 32px;\n",
              "      padding: 0 0 0 0;\n",
              "      width: 32px;\n",
              "    }\n",
              "\n",
              "    .colab-df-convert:hover {\n",
              "      background-color: #E2EBFA;\n",
              "      box-shadow: 0px 1px 2px rgba(60, 64, 67, 0.3), 0px 1px 3px 1px rgba(60, 64, 67, 0.15);\n",
              "      fill: #174EA6;\n",
              "    }\n",
              "\n",
              "    [theme=dark] .colab-df-convert {\n",
              "      background-color: #3B4455;\n",
              "      fill: #D2E3FC;\n",
              "    }\n",
              "\n",
              "    [theme=dark] .colab-df-convert:hover {\n",
              "      background-color: #434B5C;\n",
              "      box-shadow: 0px 1px 3px 1px rgba(0, 0, 0, 0.15);\n",
              "      filter: drop-shadow(0px 1px 2px rgba(0, 0, 0, 0.3));\n",
              "      fill: #FFFFFF;\n",
              "    }\n",
              "  </style>\n",
              "\n",
              "      <script>\n",
              "        const buttonEl =\n",
              "          document.querySelector('#df-69739558-bd31-4c77-b180-ad81c6b063b2 button.colab-df-convert');\n",
              "        buttonEl.style.display =\n",
              "          google.colab.kernel.accessAllowed ? 'block' : 'none';\n",
              "\n",
              "        async function convertToInteractive(key) {\n",
              "          const element = document.querySelector('#df-69739558-bd31-4c77-b180-ad81c6b063b2');\n",
              "          const dataTable =\n",
              "            await google.colab.kernel.invokeFunction('convertToInteractive',\n",
              "                                                     [key], {});\n",
              "          if (!dataTable) return;\n",
              "\n",
              "          const docLinkHtml = 'Like what you see? Visit the ' +\n",
              "            '<a target=\"_blank\" href=https://colab.research.google.com/notebooks/data_table.ipynb>data table notebook</a>'\n",
              "            + ' to learn more about interactive tables.';\n",
              "          element.innerHTML = '';\n",
              "          dataTable['output_type'] = 'display_data';\n",
              "          await google.colab.output.renderOutput(dataTable, element);\n",
              "          const docLink = document.createElement('div');\n",
              "          docLink.innerHTML = docLinkHtml;\n",
              "          element.appendChild(docLink);\n",
              "        }\n",
              "      </script>\n",
              "    </div>\n",
              "  </div>\n",
              "  "
            ]
          },
          "metadata": {},
          "execution_count": 4
        }
      ],
      "source": [
        "lst = [216, 232, 242, 245, 247, 249, 251, 252, 253, 256]\n",
        "df1 = pd.concat([df1, df.iloc[:, lst]], axis=1)\n",
        "df1.head()"
      ]
    },
    {
      "cell_type": "code",
      "execution_count": 5,
      "metadata": {
        "id": "wlTg_odJQhCt"
      },
      "outputs": [],
      "source": [
        "dict1 = {\n",
        "        'age': 'age',\n",
        "        'sex': 'sex', 'grade':'grade','race4':'Hispanic or Latino','race7':'race',\n",
        "       'qnobese':'obese','qnowt':'overweight','q67':'sexual identity','q66':'sex/sexual contacts',\n",
        "       'sexid':'sexid','sexid2':'sexid2','sexpart':'sexpart','sexpart2':'sexpart2','q8':'seat belt use','q9':'riding with a drinking driver',\n",
        "       'q10':'drinking and driving','q11':'texting and driving','q12':'weapon carrying','q13':'weapon carrying at school',\n",
        "       'q14':'gun carrying past 12 mos','q15':'safety concerns at school','q16':'threatened at school','q17':'physical fighting',\n",
        "       'q18':'physical fighting at school','q19':'forced sexual intercourse','q20':'sexual violence','q21':'sexual dating violence',\n",
        "       'q22':'physical dating violence','q23':'bullying at school','q24':'electronic bullying','q25':'sad or hopeless',\n",
        "       'q26':'considered suicide','q27':'made a suicide plan','q28':'attempted suicide','q29':'injurious suicide attempt',\n",
        "       'q30':'ever cigarette use','q31':'initation of cigarette smoking','q32':'current cigarette use','q33':'smoking amounts per day',\n",
        "       'q34':'electronic vapor product use','q35':'current electronic vapor product use','q36':'EVP from store','q37':'current smokeless tobacco use',\n",
        "       'q38':'current cigar use','q39':'all tobacco product cessation','q40':'ever alcohol use','q41':'initiation of alcohol use',\n",
        "       'q42':'current alcohol use','q43':'source of alcohol','q44':'current binge drinking','q45':'largest number of drinks',\n",
        "       'q46':'ever marijuana use','q47':'initiation of marijuana use','q48':'current marijuana use','q49':'ever cocaine use',\n",
        "       'q50':'ever inhalant use','q51':'ever heroin use','q52':'ever methamphetamine use','q53':'ever ecstasy use',\n",
        "       'q54':'ever synthetic marijuana use','q55':'ever steroid use','q56':'ever prescription pain medicine use','q57':'illegal injected drug use',\n",
        "       'q58':'illegal drugs at school','q59':'ever sexual intercourse','q60':'first sex intercourse','q61':'multiple sex partners',\n",
        "       'q62':'current sexual activity','q63':'alcohol/drugs at sex','q64':'condom use','q65':'birth control pill use',\n",
        "       'q68':'perception of weight','q69':'weight loss','q70':'fruit juice drinking','q71':'fruit eating','q72':'green salad eating',\n",
        "       'q73':'potato eating','q74':'carrot eating','q75':'other vegetable eating','q76':'soda drinking','q77':'milk drinking',\n",
        "       'q78':'breakfast eating','q79':'physical activity','q80':'television watching','q81':'computer not school work use',\n",
        "        'q82':'PE attendance','q83':'sports team participation','q84':'concussion in last 12 mos','q85':'HIV testing','q86':'oral health care',\n",
        "       'q87':'asthma','q88':'sleep on school night','q89':'grades in school', 'qdrivemarijuana':'drive when using marijuana',\n",
        "       'qhallucdrug':'ever used LSD', 'qsportsdrink':'sports drinks','qwater':'plain water','qfoodallergy':'food allergies',\n",
        "        'qmusclestrength':'muscle stregthening','qindoortanning':'indoor tanning','qsunburn':'sunburn','qconcentrating':'difficulty concentrating',\n",
        "        'qspeakenglish':'how well speak English'}"
      ]
    },
    {
      "cell_type": "code",
      "execution_count": 6,
      "metadata": {
        "id": "VEUzA7-6REt4"
      },
      "outputs": [],
      "source": [
        "df1.rename(columns=dict1, inplace = True)"
      ]
    },
    {
      "cell_type": "code",
      "execution_count": 7,
      "metadata": {
        "colab": {
          "base_uri": "https://localhost:8080/"
        },
        "id": "2oYuj_sWOs7n",
        "outputId": "b8dbf343-7e1f-4ecc-ad93-fb0300d14af2"
      },
      "outputs": [
        {
          "output_type": "execute_result",
          "data": {
            "text/plain": [
              "weight                         0\n",
              "stratum                        0\n",
              "PSU                            0\n",
              "age                           81\n",
              "sex                          127\n",
              "                            ... \n",
              "muscle stregthening         4052\n",
              "indoor tanning              1751\n",
              "sunburn                     4056\n",
              "difficulty concentrating    4097\n",
              "how well speak English      4054\n",
              "Length: 110, dtype: int64"
            ]
          },
          "metadata": {},
          "execution_count": 7
        }
      ],
      "source": [
        "df1.isnull().sum()"
      ]
    },
    {
      "cell_type": "code",
      "execution_count": null,
      "metadata": {
        "id": "uleaSWAROzBa"
      },
      "outputs": [],
      "source": [
        "missing_percentages = df1.isnull().mean() * 100\n",
        "columns_with_missing_gt_25 = missing_percentages[missing_percentages > 25].index\n",
        "\n",
        "# Select the columns with missing values > 25%\n",
        "selected_columns = df1[columns_with_missing_gt_25]\n",
        "\n",
        "# Print the selected columns\n",
        "print(selected_columns)"
      ]
    },
    {
      "cell_type": "code",
      "source": [
        "# Iterate over each variable in the dataframe\n",
        "for column in selected_columns:\n",
        "  # create a new column name by appending\n",
        "  missing_dummy_column = f'{column}_missing_dummy'\n",
        "  df1[missing_dummy_column] = df1[column].isnull().astype(int)\n",
        "\n",
        "# Display the updated dataframe\n",
        "df1.head()"
      ],
      "metadata": {
        "id": "9DHNcgt8m_cO"
      },
      "execution_count": null,
      "outputs": []
    },
    {
      "cell_type": "code",
      "source": [
        "data_num = df1[[\"weight\",\"stratum\",\"PSU\",\"stheight\",\"stweight\",\"bmi\",\"bmipct\",\"obese\",\"overweight\"]]"
      ],
      "metadata": {
        "id": "FX0HxEDkLAM6"
      },
      "execution_count": 10,
      "outputs": []
    },
    {
      "cell_type": "code",
      "source": [
        "data_cat = df1.copy()\n",
        "data_cat = data_cat.drop(data_num.columns, axis = 1)\n",
        "data_cat.head()"
      ],
      "metadata": {
        "colab": {
          "base_uri": "https://localhost:8080/",
          "height": 455
        },
        "id": "k19THnfAMsZd",
        "outputId": "8cff3765-fc55-40fc-bad4-70067ecc71ff"
      },
      "execution_count": 11,
      "outputs": [
        {
          "output_type": "execute_result",
          "data": {
            "text/plain": [
              "   age  sex grade Hispanic or Latino race          sexual identity  \\\n",
              "0  NaN  NaN   NaN                NaN  NaN  Heterosexual (straight)   \n",
              "1  NaN  NaN   NaN                NaN  NaN                 Bisexual   \n",
              "2  NaN  NaN   NaN                NaN  NaN  Heterosexual (straight)   \n",
              "3  NaN  NaN   NaN                NaN  NaN  Heterosexual (straight)   \n",
              "4  NaN  NaN   NaN                NaN  NaN  Heterosexual (straight)   \n",
              "\n",
              "        sex/sexual contacts         sexid           sexid2 sexpart  ...  \\\n",
              "0                   Females  Heterosexual     Heterosexual     NaN  ...   \n",
              "1  Never had sexual contact      Bisexual  Sexual Minority     NaN  ...   \n",
              "2                     Males  Heterosexual     Heterosexual     NaN  ...   \n",
              "3                   Females  Heterosexual     Heterosexual     NaN  ...   \n",
              "4  Never had sexual contact  Heterosexual     Heterosexual     NaN  ...   \n",
              "\n",
              "  source of alcohol_missing_dummy largest number of drinks_missing_dummy  \\\n",
              "0                               0                                      0   \n",
              "1                               0                                      0   \n",
              "2                               1                                      1   \n",
              "3                               0                                      0   \n",
              "4                               0                                      0   \n",
              "\n",
              "  ever used LSD_missing_dummy sports drinks_missing_dummy  \\\n",
              "0                           0                           0   \n",
              "1                           0                           0   \n",
              "2                           0                           0   \n",
              "3                           0                           0   \n",
              "4                           0                           0   \n",
              "\n",
              "  plain water_missing_dummy food allergies_missing_dummy  \\\n",
              "0                         0                            0   \n",
              "1                         0                            0   \n",
              "2                         0                            0   \n",
              "3                         0                            0   \n",
              "4                         0                            0   \n",
              "\n",
              "  muscle stregthening_missing_dummy sunburn_missing_dummy  \\\n",
              "0                                 0                     0   \n",
              "1                                 0                     0   \n",
              "2                                 0                     0   \n",
              "3                                 0                     0   \n",
              "4                                 1                     1   \n",
              "\n",
              "  difficulty concentrating_missing_dummy how well speak English_missing_dummy  \n",
              "0                                      0                                    0  \n",
              "1                                      0                                    0  \n",
              "2                                      0                                    0  \n",
              "3                                      0                                    0  \n",
              "4                                      1                                    1  \n",
              "\n",
              "[5 rows x 114 columns]"
            ],
            "text/html": [
              "\n",
              "  <div id=\"df-8060d2a0-fef6-448a-ba64-5fefe492f283\">\n",
              "    <div class=\"colab-df-container\">\n",
              "      <div>\n",
              "<style scoped>\n",
              "    .dataframe tbody tr th:only-of-type {\n",
              "        vertical-align: middle;\n",
              "    }\n",
              "\n",
              "    .dataframe tbody tr th {\n",
              "        vertical-align: top;\n",
              "    }\n",
              "\n",
              "    .dataframe thead th {\n",
              "        text-align: right;\n",
              "    }\n",
              "</style>\n",
              "<table border=\"1\" class=\"dataframe\">\n",
              "  <thead>\n",
              "    <tr style=\"text-align: right;\">\n",
              "      <th></th>\n",
              "      <th>age</th>\n",
              "      <th>sex</th>\n",
              "      <th>grade</th>\n",
              "      <th>Hispanic or Latino</th>\n",
              "      <th>race</th>\n",
              "      <th>sexual identity</th>\n",
              "      <th>sex/sexual contacts</th>\n",
              "      <th>sexid</th>\n",
              "      <th>sexid2</th>\n",
              "      <th>sexpart</th>\n",
              "      <th>...</th>\n",
              "      <th>source of alcohol_missing_dummy</th>\n",
              "      <th>largest number of drinks_missing_dummy</th>\n",
              "      <th>ever used LSD_missing_dummy</th>\n",
              "      <th>sports drinks_missing_dummy</th>\n",
              "      <th>plain water_missing_dummy</th>\n",
              "      <th>food allergies_missing_dummy</th>\n",
              "      <th>muscle stregthening_missing_dummy</th>\n",
              "      <th>sunburn_missing_dummy</th>\n",
              "      <th>difficulty concentrating_missing_dummy</th>\n",
              "      <th>how well speak English_missing_dummy</th>\n",
              "    </tr>\n",
              "  </thead>\n",
              "  <tbody>\n",
              "    <tr>\n",
              "      <th>0</th>\n",
              "      <td>NaN</td>\n",
              "      <td>NaN</td>\n",
              "      <td>NaN</td>\n",
              "      <td>NaN</td>\n",
              "      <td>NaN</td>\n",
              "      <td>Heterosexual (straight)</td>\n",
              "      <td>Females</td>\n",
              "      <td>Heterosexual</td>\n",
              "      <td>Heterosexual</td>\n",
              "      <td>NaN</td>\n",
              "      <td>...</td>\n",
              "      <td>0</td>\n",
              "      <td>0</td>\n",
              "      <td>0</td>\n",
              "      <td>0</td>\n",
              "      <td>0</td>\n",
              "      <td>0</td>\n",
              "      <td>0</td>\n",
              "      <td>0</td>\n",
              "      <td>0</td>\n",
              "      <td>0</td>\n",
              "    </tr>\n",
              "    <tr>\n",
              "      <th>1</th>\n",
              "      <td>NaN</td>\n",
              "      <td>NaN</td>\n",
              "      <td>NaN</td>\n",
              "      <td>NaN</td>\n",
              "      <td>NaN</td>\n",
              "      <td>Bisexual</td>\n",
              "      <td>Never had sexual contact</td>\n",
              "      <td>Bisexual</td>\n",
              "      <td>Sexual Minority</td>\n",
              "      <td>NaN</td>\n",
              "      <td>...</td>\n",
              "      <td>0</td>\n",
              "      <td>0</td>\n",
              "      <td>0</td>\n",
              "      <td>0</td>\n",
              "      <td>0</td>\n",
              "      <td>0</td>\n",
              "      <td>0</td>\n",
              "      <td>0</td>\n",
              "      <td>0</td>\n",
              "      <td>0</td>\n",
              "    </tr>\n",
              "    <tr>\n",
              "      <th>2</th>\n",
              "      <td>NaN</td>\n",
              "      <td>NaN</td>\n",
              "      <td>NaN</td>\n",
              "      <td>NaN</td>\n",
              "      <td>NaN</td>\n",
              "      <td>Heterosexual (straight)</td>\n",
              "      <td>Males</td>\n",
              "      <td>Heterosexual</td>\n",
              "      <td>Heterosexual</td>\n",
              "      <td>NaN</td>\n",
              "      <td>...</td>\n",
              "      <td>1</td>\n",
              "      <td>1</td>\n",
              "      <td>0</td>\n",
              "      <td>0</td>\n",
              "      <td>0</td>\n",
              "      <td>0</td>\n",
              "      <td>0</td>\n",
              "      <td>0</td>\n",
              "      <td>0</td>\n",
              "      <td>0</td>\n",
              "    </tr>\n",
              "    <tr>\n",
              "      <th>3</th>\n",
              "      <td>NaN</td>\n",
              "      <td>NaN</td>\n",
              "      <td>NaN</td>\n",
              "      <td>NaN</td>\n",
              "      <td>NaN</td>\n",
              "      <td>Heterosexual (straight)</td>\n",
              "      <td>Females</td>\n",
              "      <td>Heterosexual</td>\n",
              "      <td>Heterosexual</td>\n",
              "      <td>NaN</td>\n",
              "      <td>...</td>\n",
              "      <td>0</td>\n",
              "      <td>0</td>\n",
              "      <td>0</td>\n",
              "      <td>0</td>\n",
              "      <td>0</td>\n",
              "      <td>0</td>\n",
              "      <td>0</td>\n",
              "      <td>0</td>\n",
              "      <td>0</td>\n",
              "      <td>0</td>\n",
              "    </tr>\n",
              "    <tr>\n",
              "      <th>4</th>\n",
              "      <td>NaN</td>\n",
              "      <td>NaN</td>\n",
              "      <td>NaN</td>\n",
              "      <td>NaN</td>\n",
              "      <td>NaN</td>\n",
              "      <td>Heterosexual (straight)</td>\n",
              "      <td>Never had sexual contact</td>\n",
              "      <td>Heterosexual</td>\n",
              "      <td>Heterosexual</td>\n",
              "      <td>NaN</td>\n",
              "      <td>...</td>\n",
              "      <td>0</td>\n",
              "      <td>0</td>\n",
              "      <td>0</td>\n",
              "      <td>0</td>\n",
              "      <td>0</td>\n",
              "      <td>0</td>\n",
              "      <td>1</td>\n",
              "      <td>1</td>\n",
              "      <td>1</td>\n",
              "      <td>1</td>\n",
              "    </tr>\n",
              "  </tbody>\n",
              "</table>\n",
              "<p>5 rows × 114 columns</p>\n",
              "</div>\n",
              "      <button class=\"colab-df-convert\" onclick=\"convertToInteractive('df-8060d2a0-fef6-448a-ba64-5fefe492f283')\"\n",
              "              title=\"Convert this dataframe to an interactive table.\"\n",
              "              style=\"display:none;\">\n",
              "        \n",
              "  <svg xmlns=\"http://www.w3.org/2000/svg\" height=\"24px\"viewBox=\"0 0 24 24\"\n",
              "       width=\"24px\">\n",
              "    <path d=\"M0 0h24v24H0V0z\" fill=\"none\"/>\n",
              "    <path d=\"M18.56 5.44l.94 2.06.94-2.06 2.06-.94-2.06-.94-.94-2.06-.94 2.06-2.06.94zm-11 1L8.5 8.5l.94-2.06 2.06-.94-2.06-.94L8.5 2.5l-.94 2.06-2.06.94zm10 10l.94 2.06.94-2.06 2.06-.94-2.06-.94-.94-2.06-.94 2.06-2.06.94z\"/><path d=\"M17.41 7.96l-1.37-1.37c-.4-.4-.92-.59-1.43-.59-.52 0-1.04.2-1.43.59L10.3 9.45l-7.72 7.72c-.78.78-.78 2.05 0 2.83L4 21.41c.39.39.9.59 1.41.59.51 0 1.02-.2 1.41-.59l7.78-7.78 2.81-2.81c.8-.78.8-2.07 0-2.86zM5.41 20L4 18.59l7.72-7.72 1.47 1.35L5.41 20z\"/>\n",
              "  </svg>\n",
              "      </button>\n",
              "      \n",
              "  <style>\n",
              "    .colab-df-container {\n",
              "      display:flex;\n",
              "      flex-wrap:wrap;\n",
              "      gap: 12px;\n",
              "    }\n",
              "\n",
              "    .colab-df-convert {\n",
              "      background-color: #E8F0FE;\n",
              "      border: none;\n",
              "      border-radius: 50%;\n",
              "      cursor: pointer;\n",
              "      display: none;\n",
              "      fill: #1967D2;\n",
              "      height: 32px;\n",
              "      padding: 0 0 0 0;\n",
              "      width: 32px;\n",
              "    }\n",
              "\n",
              "    .colab-df-convert:hover {\n",
              "      background-color: #E2EBFA;\n",
              "      box-shadow: 0px 1px 2px rgba(60, 64, 67, 0.3), 0px 1px 3px 1px rgba(60, 64, 67, 0.15);\n",
              "      fill: #174EA6;\n",
              "    }\n",
              "\n",
              "    [theme=dark] .colab-df-convert {\n",
              "      background-color: #3B4455;\n",
              "      fill: #D2E3FC;\n",
              "    }\n",
              "\n",
              "    [theme=dark] .colab-df-convert:hover {\n",
              "      background-color: #434B5C;\n",
              "      box-shadow: 0px 1px 3px 1px rgba(0, 0, 0, 0.15);\n",
              "      filter: drop-shadow(0px 1px 2px rgba(0, 0, 0, 0.3));\n",
              "      fill: #FFFFFF;\n",
              "    }\n",
              "  </style>\n",
              "\n",
              "      <script>\n",
              "        const buttonEl =\n",
              "          document.querySelector('#df-8060d2a0-fef6-448a-ba64-5fefe492f283 button.colab-df-convert');\n",
              "        buttonEl.style.display =\n",
              "          google.colab.kernel.accessAllowed ? 'block' : 'none';\n",
              "\n",
              "        async function convertToInteractive(key) {\n",
              "          const element = document.querySelector('#df-8060d2a0-fef6-448a-ba64-5fefe492f283');\n",
              "          const dataTable =\n",
              "            await google.colab.kernel.invokeFunction('convertToInteractive',\n",
              "                                                     [key], {});\n",
              "          if (!dataTable) return;\n",
              "\n",
              "          const docLinkHtml = 'Like what you see? Visit the ' +\n",
              "            '<a target=\"_blank\" href=https://colab.research.google.com/notebooks/data_table.ipynb>data table notebook</a>'\n",
              "            + ' to learn more about interactive tables.';\n",
              "          element.innerHTML = '';\n",
              "          dataTable['output_type'] = 'display_data';\n",
              "          await google.colab.output.renderOutput(dataTable, element);\n",
              "          const docLink = document.createElement('div');\n",
              "          docLink.innerHTML = docLinkHtml;\n",
              "          element.appendChild(docLink);\n",
              "        }\n",
              "      </script>\n",
              "    </div>\n",
              "  </div>\n",
              "  "
            ]
          },
          "metadata": {},
          "execution_count": 11
        }
      ]
    },
    {
      "cell_type": "code",
      "source": [
        "#scale on numerical columns--brings the value of each feature into the range of 0 to 1\n",
        "from sklearn.preprocessing import MinMaxScaler\n",
        "\n",
        "min_max_scaler = MinMaxScaler()\n",
        "def scaleNum(df_num, cols):\n",
        "    for col in cols:\n",
        "        df_num[col] = pd.DataFrame(min_max_scaler.fit_transform(pd.DataFrame(data_num[col])),columns=[col])\n",
        "    return df_num\n",
        "data_normal_num = scaleNum(data_num,data_num.columns)"
      ],
      "metadata": {
        "id": "I33muwpSM4q8",
        "colab": {
          "base_uri": "https://localhost:8080/"
        },
        "outputId": "34df3885-6741-462e-bbf1-b1cc32936168"
      },
      "execution_count": 12,
      "outputs": [
        {
          "output_type": "stream",
          "name": "stderr",
          "text": [
            "<ipython-input-12-5a488c6b30b6>:7: SettingWithCopyWarning: \n",
            "A value is trying to be set on a copy of a slice from a DataFrame.\n",
            "Try using .loc[row_indexer,col_indexer] = value instead\n",
            "\n",
            "See the caveats in the documentation: https://pandas.pydata.org/pandas-docs/stable/user_guide/indexing.html#returning-a-view-versus-a-copy\n",
            "  df_num[col] = pd.DataFrame(min_max_scaler.fit_transform(pd.DataFrame(data_num[col])),columns=[col])\n",
            "<ipython-input-12-5a488c6b30b6>:7: SettingWithCopyWarning: \n",
            "A value is trying to be set on a copy of a slice from a DataFrame.\n",
            "Try using .loc[row_indexer,col_indexer] = value instead\n",
            "\n",
            "See the caveats in the documentation: https://pandas.pydata.org/pandas-docs/stable/user_guide/indexing.html#returning-a-view-versus-a-copy\n",
            "  df_num[col] = pd.DataFrame(min_max_scaler.fit_transform(pd.DataFrame(data_num[col])),columns=[col])\n",
            "<ipython-input-12-5a488c6b30b6>:7: SettingWithCopyWarning: \n",
            "A value is trying to be set on a copy of a slice from a DataFrame.\n",
            "Try using .loc[row_indexer,col_indexer] = value instead\n",
            "\n",
            "See the caveats in the documentation: https://pandas.pydata.org/pandas-docs/stable/user_guide/indexing.html#returning-a-view-versus-a-copy\n",
            "  df_num[col] = pd.DataFrame(min_max_scaler.fit_transform(pd.DataFrame(data_num[col])),columns=[col])\n",
            "<ipython-input-12-5a488c6b30b6>:7: SettingWithCopyWarning: \n",
            "A value is trying to be set on a copy of a slice from a DataFrame.\n",
            "Try using .loc[row_indexer,col_indexer] = value instead\n",
            "\n",
            "See the caveats in the documentation: https://pandas.pydata.org/pandas-docs/stable/user_guide/indexing.html#returning-a-view-versus-a-copy\n",
            "  df_num[col] = pd.DataFrame(min_max_scaler.fit_transform(pd.DataFrame(data_num[col])),columns=[col])\n",
            "<ipython-input-12-5a488c6b30b6>:7: SettingWithCopyWarning: \n",
            "A value is trying to be set on a copy of a slice from a DataFrame.\n",
            "Try using .loc[row_indexer,col_indexer] = value instead\n",
            "\n",
            "See the caveats in the documentation: https://pandas.pydata.org/pandas-docs/stable/user_guide/indexing.html#returning-a-view-versus-a-copy\n",
            "  df_num[col] = pd.DataFrame(min_max_scaler.fit_transform(pd.DataFrame(data_num[col])),columns=[col])\n",
            "<ipython-input-12-5a488c6b30b6>:7: SettingWithCopyWarning: \n",
            "A value is trying to be set on a copy of a slice from a DataFrame.\n",
            "Try using .loc[row_indexer,col_indexer] = value instead\n",
            "\n",
            "See the caveats in the documentation: https://pandas.pydata.org/pandas-docs/stable/user_guide/indexing.html#returning-a-view-versus-a-copy\n",
            "  df_num[col] = pd.DataFrame(min_max_scaler.fit_transform(pd.DataFrame(data_num[col])),columns=[col])\n",
            "<ipython-input-12-5a488c6b30b6>:7: SettingWithCopyWarning: \n",
            "A value is trying to be set on a copy of a slice from a DataFrame.\n",
            "Try using .loc[row_indexer,col_indexer] = value instead\n",
            "\n",
            "See the caveats in the documentation: https://pandas.pydata.org/pandas-docs/stable/user_guide/indexing.html#returning-a-view-versus-a-copy\n",
            "  df_num[col] = pd.DataFrame(min_max_scaler.fit_transform(pd.DataFrame(data_num[col])),columns=[col])\n",
            "<ipython-input-12-5a488c6b30b6>:7: SettingWithCopyWarning: \n",
            "A value is trying to be set on a copy of a slice from a DataFrame.\n",
            "Try using .loc[row_indexer,col_indexer] = value instead\n",
            "\n",
            "See the caveats in the documentation: https://pandas.pydata.org/pandas-docs/stable/user_guide/indexing.html#returning-a-view-versus-a-copy\n",
            "  df_num[col] = pd.DataFrame(min_max_scaler.fit_transform(pd.DataFrame(data_num[col])),columns=[col])\n",
            "<ipython-input-12-5a488c6b30b6>:7: SettingWithCopyWarning: \n",
            "A value is trying to be set on a copy of a slice from a DataFrame.\n",
            "Try using .loc[row_indexer,col_indexer] = value instead\n",
            "\n",
            "See the caveats in the documentation: https://pandas.pydata.org/pandas-docs/stable/user_guide/indexing.html#returning-a-view-versus-a-copy\n",
            "  df_num[col] = pd.DataFrame(min_max_scaler.fit_transform(pd.DataFrame(data_num[col])),columns=[col])\n"
          ]
        }
      ]
    },
    {
      "cell_type": "code",
      "source": [
        "data_normal_num.head()"
      ],
      "metadata": {
        "colab": {
          "base_uri": "https://localhost:8080/",
          "height": 206
        },
        "id": "nyvYEhL8Nk8_",
        "outputId": "6f83a2a6-318f-42dd-a6bd-96cfce9a9cb3"
      },
      "execution_count": 13,
      "outputs": [
        {
          "output_type": "execute_result",
          "data": {
            "text/plain": [
              "     weight   stratum       PSU  stheight  stweight  bmi  bmipct  obese  \\\n",
              "0  0.508875  0.088496  0.296542       NaN       NaN  NaN     NaN    NaN   \n",
              "1  0.347927  0.982301  0.295986       NaN       NaN  NaN     NaN    NaN   \n",
              "2  0.142144  0.982301  0.295986       NaN       NaN  NaN     NaN    NaN   \n",
              "3  0.161873  0.982301  0.295986       NaN       NaN  NaN     NaN    NaN   \n",
              "4  0.415955  0.893805  0.276306       NaN       NaN  NaN     NaN    NaN   \n",
              "\n",
              "   overweight  \n",
              "0         NaN  \n",
              "1         NaN  \n",
              "2         NaN  \n",
              "3         NaN  \n",
              "4         NaN  "
            ],
            "text/html": [
              "\n",
              "  <div id=\"df-a9db5142-fa66-4711-b991-90156633a84f\">\n",
              "    <div class=\"colab-df-container\">\n",
              "      <div>\n",
              "<style scoped>\n",
              "    .dataframe tbody tr th:only-of-type {\n",
              "        vertical-align: middle;\n",
              "    }\n",
              "\n",
              "    .dataframe tbody tr th {\n",
              "        vertical-align: top;\n",
              "    }\n",
              "\n",
              "    .dataframe thead th {\n",
              "        text-align: right;\n",
              "    }\n",
              "</style>\n",
              "<table border=\"1\" class=\"dataframe\">\n",
              "  <thead>\n",
              "    <tr style=\"text-align: right;\">\n",
              "      <th></th>\n",
              "      <th>weight</th>\n",
              "      <th>stratum</th>\n",
              "      <th>PSU</th>\n",
              "      <th>stheight</th>\n",
              "      <th>stweight</th>\n",
              "      <th>bmi</th>\n",
              "      <th>bmipct</th>\n",
              "      <th>obese</th>\n",
              "      <th>overweight</th>\n",
              "    </tr>\n",
              "  </thead>\n",
              "  <tbody>\n",
              "    <tr>\n",
              "      <th>0</th>\n",
              "      <td>0.508875</td>\n",
              "      <td>0.088496</td>\n",
              "      <td>0.296542</td>\n",
              "      <td>NaN</td>\n",
              "      <td>NaN</td>\n",
              "      <td>NaN</td>\n",
              "      <td>NaN</td>\n",
              "      <td>NaN</td>\n",
              "      <td>NaN</td>\n",
              "    </tr>\n",
              "    <tr>\n",
              "      <th>1</th>\n",
              "      <td>0.347927</td>\n",
              "      <td>0.982301</td>\n",
              "      <td>0.295986</td>\n",
              "      <td>NaN</td>\n",
              "      <td>NaN</td>\n",
              "      <td>NaN</td>\n",
              "      <td>NaN</td>\n",
              "      <td>NaN</td>\n",
              "      <td>NaN</td>\n",
              "    </tr>\n",
              "    <tr>\n",
              "      <th>2</th>\n",
              "      <td>0.142144</td>\n",
              "      <td>0.982301</td>\n",
              "      <td>0.295986</td>\n",
              "      <td>NaN</td>\n",
              "      <td>NaN</td>\n",
              "      <td>NaN</td>\n",
              "      <td>NaN</td>\n",
              "      <td>NaN</td>\n",
              "      <td>NaN</td>\n",
              "    </tr>\n",
              "    <tr>\n",
              "      <th>3</th>\n",
              "      <td>0.161873</td>\n",
              "      <td>0.982301</td>\n",
              "      <td>0.295986</td>\n",
              "      <td>NaN</td>\n",
              "      <td>NaN</td>\n",
              "      <td>NaN</td>\n",
              "      <td>NaN</td>\n",
              "      <td>NaN</td>\n",
              "      <td>NaN</td>\n",
              "    </tr>\n",
              "    <tr>\n",
              "      <th>4</th>\n",
              "      <td>0.415955</td>\n",
              "      <td>0.893805</td>\n",
              "      <td>0.276306</td>\n",
              "      <td>NaN</td>\n",
              "      <td>NaN</td>\n",
              "      <td>NaN</td>\n",
              "      <td>NaN</td>\n",
              "      <td>NaN</td>\n",
              "      <td>NaN</td>\n",
              "    </tr>\n",
              "  </tbody>\n",
              "</table>\n",
              "</div>\n",
              "      <button class=\"colab-df-convert\" onclick=\"convertToInteractive('df-a9db5142-fa66-4711-b991-90156633a84f')\"\n",
              "              title=\"Convert this dataframe to an interactive table.\"\n",
              "              style=\"display:none;\">\n",
              "        \n",
              "  <svg xmlns=\"http://www.w3.org/2000/svg\" height=\"24px\"viewBox=\"0 0 24 24\"\n",
              "       width=\"24px\">\n",
              "    <path d=\"M0 0h24v24H0V0z\" fill=\"none\"/>\n",
              "    <path d=\"M18.56 5.44l.94 2.06.94-2.06 2.06-.94-2.06-.94-.94-2.06-.94 2.06-2.06.94zm-11 1L8.5 8.5l.94-2.06 2.06-.94-2.06-.94L8.5 2.5l-.94 2.06-2.06.94zm10 10l.94 2.06.94-2.06 2.06-.94-2.06-.94-.94-2.06-.94 2.06-2.06.94z\"/><path d=\"M17.41 7.96l-1.37-1.37c-.4-.4-.92-.59-1.43-.59-.52 0-1.04.2-1.43.59L10.3 9.45l-7.72 7.72c-.78.78-.78 2.05 0 2.83L4 21.41c.39.39.9.59 1.41.59.51 0 1.02-.2 1.41-.59l7.78-7.78 2.81-2.81c.8-.78.8-2.07 0-2.86zM5.41 20L4 18.59l7.72-7.72 1.47 1.35L5.41 20z\"/>\n",
              "  </svg>\n",
              "      </button>\n",
              "      \n",
              "  <style>\n",
              "    .colab-df-container {\n",
              "      display:flex;\n",
              "      flex-wrap:wrap;\n",
              "      gap: 12px;\n",
              "    }\n",
              "\n",
              "    .colab-df-convert {\n",
              "      background-color: #E8F0FE;\n",
              "      border: none;\n",
              "      border-radius: 50%;\n",
              "      cursor: pointer;\n",
              "      display: none;\n",
              "      fill: #1967D2;\n",
              "      height: 32px;\n",
              "      padding: 0 0 0 0;\n",
              "      width: 32px;\n",
              "    }\n",
              "\n",
              "    .colab-df-convert:hover {\n",
              "      background-color: #E2EBFA;\n",
              "      box-shadow: 0px 1px 2px rgba(60, 64, 67, 0.3), 0px 1px 3px 1px rgba(60, 64, 67, 0.15);\n",
              "      fill: #174EA6;\n",
              "    }\n",
              "\n",
              "    [theme=dark] .colab-df-convert {\n",
              "      background-color: #3B4455;\n",
              "      fill: #D2E3FC;\n",
              "    }\n",
              "\n",
              "    [theme=dark] .colab-df-convert:hover {\n",
              "      background-color: #434B5C;\n",
              "      box-shadow: 0px 1px 3px 1px rgba(0, 0, 0, 0.15);\n",
              "      filter: drop-shadow(0px 1px 2px rgba(0, 0, 0, 0.3));\n",
              "      fill: #FFFFFF;\n",
              "    }\n",
              "  </style>\n",
              "\n",
              "      <script>\n",
              "        const buttonEl =\n",
              "          document.querySelector('#df-a9db5142-fa66-4711-b991-90156633a84f button.colab-df-convert');\n",
              "        buttonEl.style.display =\n",
              "          google.colab.kernel.accessAllowed ? 'block' : 'none';\n",
              "\n",
              "        async function convertToInteractive(key) {\n",
              "          const element = document.querySelector('#df-a9db5142-fa66-4711-b991-90156633a84f');\n",
              "          const dataTable =\n",
              "            await google.colab.kernel.invokeFunction('convertToInteractive',\n",
              "                                                     [key], {});\n",
              "          if (!dataTable) return;\n",
              "\n",
              "          const docLinkHtml = 'Like what you see? Visit the ' +\n",
              "            '<a target=\"_blank\" href=https://colab.research.google.com/notebooks/data_table.ipynb>data table notebook</a>'\n",
              "            + ' to learn more about interactive tables.';\n",
              "          element.innerHTML = '';\n",
              "          dataTable['output_type'] = 'display_data';\n",
              "          await google.colab.output.renderOutput(dataTable, element);\n",
              "          const docLink = document.createElement('div');\n",
              "          docLink.innerHTML = docLinkHtml;\n",
              "          element.appendChild(docLink);\n",
              "        }\n",
              "      </script>\n",
              "    </div>\n",
              "  </div>\n",
              "  "
            ]
          },
          "metadata": {},
          "execution_count": 13
        }
      ]
    },
    {
      "cell_type": "code",
      "source": [
        "# onehot_encoder on categorical columns\n",
        "from sklearn.preprocessing import OneHotEncoder\n",
        "\n",
        "onehot_encoder = OneHotEncoder()\n",
        "def scaleCat(df_cat, cols):\n",
        "    for col in cols:\n",
        "        df_cat[col] = pd.DataFrame(onehot_encoder.fit_transform(pd.DataFrame(data_cat[col])),columns=[col])\n",
        "    return df_cat\n",
        "data_normal_cat = scaleCat(data_cat,data_cat.columns)"
      ],
      "metadata": {
        "id": "7j_eGBEONVZZ"
      },
      "execution_count": 40,
      "outputs": []
    },
    {
      "cell_type": "code",
      "source": [
        "data_normal_cat.head()"
      ],
      "metadata": {
        "colab": {
          "base_uri": "https://localhost:8080/",
          "height": 421
        },
        "id": "e-gA3hQ3NhiG",
        "outputId": "f64a11e0-3774-4c0f-be17-a3fa1536fc29"
      },
      "execution_count": 41,
      "outputs": [
        {
          "output_type": "execute_result",
          "data": {
            "text/plain": [
              "             age            sex          grade Hispanic or Latino  \\\n",
              "0    (0, 7)\\t1.0    (0, 2)\\t1.0    (0, 4)\\t1.0        (0, 4)\\t1.0   \n",
              "1    (0, 7)\\t1.0    (0, 2)\\t1.0    (0, 4)\\t1.0        (0, 4)\\t1.0   \n",
              "2    (0, 7)\\t1.0    (0, 2)\\t1.0    (0, 4)\\t1.0        (0, 4)\\t1.0   \n",
              "3    (0, 7)\\t1.0    (0, 2)\\t1.0    (0, 4)\\t1.0        (0, 4)\\t1.0   \n",
              "4    (0, 7)\\t1.0    (0, 2)\\t1.0    (0, 4)\\t1.0        (0, 4)\\t1.0   \n",
              "\n",
              "            race sexual identity sex/sexual contacts          sexid  \\\n",
              "0    (0, 7)\\t1.0     (0, 2)\\t1.0         (0, 0)\\t1.0    (0, 2)\\t1.0   \n",
              "1    (0, 7)\\t1.0     (0, 0)\\t1.0         (0, 3)\\t1.0    (0, 0)\\t1.0   \n",
              "2    (0, 7)\\t1.0     (0, 2)\\t1.0         (0, 2)\\t1.0    (0, 2)\\t1.0   \n",
              "3    (0, 7)\\t1.0     (0, 2)\\t1.0         (0, 0)\\t1.0    (0, 2)\\t1.0   \n",
              "4    (0, 7)\\t1.0     (0, 2)\\t1.0         (0, 3)\\t1.0    (0, 2)\\t1.0   \n",
              "\n",
              "          sexid2        sexpart  ... source of alcohol_missing_dummy  \\\n",
              "0    (0, 0)\\t1.0    (0, 4)\\t1.0  ...                     (0, 0)\\t1.0   \n",
              "1    (0, 1)\\t1.0    (0, 4)\\t1.0  ...                     (0, 0)\\t1.0   \n",
              "2    (0, 0)\\t1.0    (0, 4)\\t1.0  ...                     (0, 1)\\t1.0   \n",
              "3    (0, 0)\\t1.0    (0, 4)\\t1.0  ...                     (0, 0)\\t1.0   \n",
              "4    (0, 0)\\t1.0    (0, 4)\\t1.0  ...                     (0, 0)\\t1.0   \n",
              "\n",
              "  largest number of drinks_missing_dummy ever used LSD_missing_dummy  \\\n",
              "0                            (0, 0)\\t1.0                 (0, 0)\\t1.0   \n",
              "1                            (0, 0)\\t1.0                 (0, 0)\\t1.0   \n",
              "2                            (0, 1)\\t1.0                 (0, 0)\\t1.0   \n",
              "3                            (0, 0)\\t1.0                 (0, 0)\\t1.0   \n",
              "4                            (0, 0)\\t1.0                 (0, 0)\\t1.0   \n",
              "\n",
              "  sports drinks_missing_dummy plain water_missing_dummy  \\\n",
              "0                 (0, 0)\\t1.0               (0, 0)\\t1.0   \n",
              "1                 (0, 0)\\t1.0               (0, 0)\\t1.0   \n",
              "2                 (0, 0)\\t1.0               (0, 0)\\t1.0   \n",
              "3                 (0, 0)\\t1.0               (0, 0)\\t1.0   \n",
              "4                 (0, 0)\\t1.0               (0, 0)\\t1.0   \n",
              "\n",
              "  food allergies_missing_dummy muscle stregthening_missing_dummy  \\\n",
              "0                  (0, 0)\\t1.0                       (0, 0)\\t1.0   \n",
              "1                  (0, 0)\\t1.0                       (0, 0)\\t1.0   \n",
              "2                  (0, 0)\\t1.0                       (0, 0)\\t1.0   \n",
              "3                  (0, 0)\\t1.0                       (0, 0)\\t1.0   \n",
              "4                  (0, 0)\\t1.0                       (0, 1)\\t1.0   \n",
              "\n",
              "  sunburn_missing_dummy difficulty concentrating_missing_dummy  \\\n",
              "0           (0, 0)\\t1.0                            (0, 0)\\t1.0   \n",
              "1           (0, 0)\\t1.0                            (0, 0)\\t1.0   \n",
              "2           (0, 0)\\t1.0                            (0, 0)\\t1.0   \n",
              "3           (0, 0)\\t1.0                            (0, 0)\\t1.0   \n",
              "4           (0, 1)\\t1.0                            (0, 1)\\t1.0   \n",
              "\n",
              "  how well speak English_missing_dummy  \n",
              "0                          (0, 0)\\t1.0  \n",
              "1                          (0, 0)\\t1.0  \n",
              "2                          (0, 0)\\t1.0  \n",
              "3                          (0, 0)\\t1.0  \n",
              "4                          (0, 1)\\t1.0  \n",
              "\n",
              "[5 rows x 114 columns]"
            ],
            "text/html": [
              "\n",
              "  <div id=\"df-b207b82a-b1f2-4972-b5a0-cb91d45c8c17\">\n",
              "    <div class=\"colab-df-container\">\n",
              "      <div>\n",
              "<style scoped>\n",
              "    .dataframe tbody tr th:only-of-type {\n",
              "        vertical-align: middle;\n",
              "    }\n",
              "\n",
              "    .dataframe tbody tr th {\n",
              "        vertical-align: top;\n",
              "    }\n",
              "\n",
              "    .dataframe thead th {\n",
              "        text-align: right;\n",
              "    }\n",
              "</style>\n",
              "<table border=\"1\" class=\"dataframe\">\n",
              "  <thead>\n",
              "    <tr style=\"text-align: right;\">\n",
              "      <th></th>\n",
              "      <th>age</th>\n",
              "      <th>sex</th>\n",
              "      <th>grade</th>\n",
              "      <th>Hispanic or Latino</th>\n",
              "      <th>race</th>\n",
              "      <th>sexual identity</th>\n",
              "      <th>sex/sexual contacts</th>\n",
              "      <th>sexid</th>\n",
              "      <th>sexid2</th>\n",
              "      <th>sexpart</th>\n",
              "      <th>...</th>\n",
              "      <th>source of alcohol_missing_dummy</th>\n",
              "      <th>largest number of drinks_missing_dummy</th>\n",
              "      <th>ever used LSD_missing_dummy</th>\n",
              "      <th>sports drinks_missing_dummy</th>\n",
              "      <th>plain water_missing_dummy</th>\n",
              "      <th>food allergies_missing_dummy</th>\n",
              "      <th>muscle stregthening_missing_dummy</th>\n",
              "      <th>sunburn_missing_dummy</th>\n",
              "      <th>difficulty concentrating_missing_dummy</th>\n",
              "      <th>how well speak English_missing_dummy</th>\n",
              "    </tr>\n",
              "  </thead>\n",
              "  <tbody>\n",
              "    <tr>\n",
              "      <th>0</th>\n",
              "      <td>(0, 7)\\t1.0</td>\n",
              "      <td>(0, 2)\\t1.0</td>\n",
              "      <td>(0, 4)\\t1.0</td>\n",
              "      <td>(0, 4)\\t1.0</td>\n",
              "      <td>(0, 7)\\t1.0</td>\n",
              "      <td>(0, 2)\\t1.0</td>\n",
              "      <td>(0, 0)\\t1.0</td>\n",
              "      <td>(0, 2)\\t1.0</td>\n",
              "      <td>(0, 0)\\t1.0</td>\n",
              "      <td>(0, 4)\\t1.0</td>\n",
              "      <td>...</td>\n",
              "      <td>(0, 0)\\t1.0</td>\n",
              "      <td>(0, 0)\\t1.0</td>\n",
              "      <td>(0, 0)\\t1.0</td>\n",
              "      <td>(0, 0)\\t1.0</td>\n",
              "      <td>(0, 0)\\t1.0</td>\n",
              "      <td>(0, 0)\\t1.0</td>\n",
              "      <td>(0, 0)\\t1.0</td>\n",
              "      <td>(0, 0)\\t1.0</td>\n",
              "      <td>(0, 0)\\t1.0</td>\n",
              "      <td>(0, 0)\\t1.0</td>\n",
              "    </tr>\n",
              "    <tr>\n",
              "      <th>1</th>\n",
              "      <td>(0, 7)\\t1.0</td>\n",
              "      <td>(0, 2)\\t1.0</td>\n",
              "      <td>(0, 4)\\t1.0</td>\n",
              "      <td>(0, 4)\\t1.0</td>\n",
              "      <td>(0, 7)\\t1.0</td>\n",
              "      <td>(0, 0)\\t1.0</td>\n",
              "      <td>(0, 3)\\t1.0</td>\n",
              "      <td>(0, 0)\\t1.0</td>\n",
              "      <td>(0, 1)\\t1.0</td>\n",
              "      <td>(0, 4)\\t1.0</td>\n",
              "      <td>...</td>\n",
              "      <td>(0, 0)\\t1.0</td>\n",
              "      <td>(0, 0)\\t1.0</td>\n",
              "      <td>(0, 0)\\t1.0</td>\n",
              "      <td>(0, 0)\\t1.0</td>\n",
              "      <td>(0, 0)\\t1.0</td>\n",
              "      <td>(0, 0)\\t1.0</td>\n",
              "      <td>(0, 0)\\t1.0</td>\n",
              "      <td>(0, 0)\\t1.0</td>\n",
              "      <td>(0, 0)\\t1.0</td>\n",
              "      <td>(0, 0)\\t1.0</td>\n",
              "    </tr>\n",
              "    <tr>\n",
              "      <th>2</th>\n",
              "      <td>(0, 7)\\t1.0</td>\n",
              "      <td>(0, 2)\\t1.0</td>\n",
              "      <td>(0, 4)\\t1.0</td>\n",
              "      <td>(0, 4)\\t1.0</td>\n",
              "      <td>(0, 7)\\t1.0</td>\n",
              "      <td>(0, 2)\\t1.0</td>\n",
              "      <td>(0, 2)\\t1.0</td>\n",
              "      <td>(0, 2)\\t1.0</td>\n",
              "      <td>(0, 0)\\t1.0</td>\n",
              "      <td>(0, 4)\\t1.0</td>\n",
              "      <td>...</td>\n",
              "      <td>(0, 1)\\t1.0</td>\n",
              "      <td>(0, 1)\\t1.0</td>\n",
              "      <td>(0, 0)\\t1.0</td>\n",
              "      <td>(0, 0)\\t1.0</td>\n",
              "      <td>(0, 0)\\t1.0</td>\n",
              "      <td>(0, 0)\\t1.0</td>\n",
              "      <td>(0, 0)\\t1.0</td>\n",
              "      <td>(0, 0)\\t1.0</td>\n",
              "      <td>(0, 0)\\t1.0</td>\n",
              "      <td>(0, 0)\\t1.0</td>\n",
              "    </tr>\n",
              "    <tr>\n",
              "      <th>3</th>\n",
              "      <td>(0, 7)\\t1.0</td>\n",
              "      <td>(0, 2)\\t1.0</td>\n",
              "      <td>(0, 4)\\t1.0</td>\n",
              "      <td>(0, 4)\\t1.0</td>\n",
              "      <td>(0, 7)\\t1.0</td>\n",
              "      <td>(0, 2)\\t1.0</td>\n",
              "      <td>(0, 0)\\t1.0</td>\n",
              "      <td>(0, 2)\\t1.0</td>\n",
              "      <td>(0, 0)\\t1.0</td>\n",
              "      <td>(0, 4)\\t1.0</td>\n",
              "      <td>...</td>\n",
              "      <td>(0, 0)\\t1.0</td>\n",
              "      <td>(0, 0)\\t1.0</td>\n",
              "      <td>(0, 0)\\t1.0</td>\n",
              "      <td>(0, 0)\\t1.0</td>\n",
              "      <td>(0, 0)\\t1.0</td>\n",
              "      <td>(0, 0)\\t1.0</td>\n",
              "      <td>(0, 0)\\t1.0</td>\n",
              "      <td>(0, 0)\\t1.0</td>\n",
              "      <td>(0, 0)\\t1.0</td>\n",
              "      <td>(0, 0)\\t1.0</td>\n",
              "    </tr>\n",
              "    <tr>\n",
              "      <th>4</th>\n",
              "      <td>(0, 7)\\t1.0</td>\n",
              "      <td>(0, 2)\\t1.0</td>\n",
              "      <td>(0, 4)\\t1.0</td>\n",
              "      <td>(0, 4)\\t1.0</td>\n",
              "      <td>(0, 7)\\t1.0</td>\n",
              "      <td>(0, 2)\\t1.0</td>\n",
              "      <td>(0, 3)\\t1.0</td>\n",
              "      <td>(0, 2)\\t1.0</td>\n",
              "      <td>(0, 0)\\t1.0</td>\n",
              "      <td>(0, 4)\\t1.0</td>\n",
              "      <td>...</td>\n",
              "      <td>(0, 0)\\t1.0</td>\n",
              "      <td>(0, 0)\\t1.0</td>\n",
              "      <td>(0, 0)\\t1.0</td>\n",
              "      <td>(0, 0)\\t1.0</td>\n",
              "      <td>(0, 0)\\t1.0</td>\n",
              "      <td>(0, 0)\\t1.0</td>\n",
              "      <td>(0, 1)\\t1.0</td>\n",
              "      <td>(0, 1)\\t1.0</td>\n",
              "      <td>(0, 1)\\t1.0</td>\n",
              "      <td>(0, 1)\\t1.0</td>\n",
              "    </tr>\n",
              "  </tbody>\n",
              "</table>\n",
              "<p>5 rows × 114 columns</p>\n",
              "</div>\n",
              "      <button class=\"colab-df-convert\" onclick=\"convertToInteractive('df-b207b82a-b1f2-4972-b5a0-cb91d45c8c17')\"\n",
              "              title=\"Convert this dataframe to an interactive table.\"\n",
              "              style=\"display:none;\">\n",
              "        \n",
              "  <svg xmlns=\"http://www.w3.org/2000/svg\" height=\"24px\"viewBox=\"0 0 24 24\"\n",
              "       width=\"24px\">\n",
              "    <path d=\"M0 0h24v24H0V0z\" fill=\"none\"/>\n",
              "    <path d=\"M18.56 5.44l.94 2.06.94-2.06 2.06-.94-2.06-.94-.94-2.06-.94 2.06-2.06.94zm-11 1L8.5 8.5l.94-2.06 2.06-.94-2.06-.94L8.5 2.5l-.94 2.06-2.06.94zm10 10l.94 2.06.94-2.06 2.06-.94-2.06-.94-.94-2.06-.94 2.06-2.06.94z\"/><path d=\"M17.41 7.96l-1.37-1.37c-.4-.4-.92-.59-1.43-.59-.52 0-1.04.2-1.43.59L10.3 9.45l-7.72 7.72c-.78.78-.78 2.05 0 2.83L4 21.41c.39.39.9.59 1.41.59.51 0 1.02-.2 1.41-.59l7.78-7.78 2.81-2.81c.8-.78.8-2.07 0-2.86zM5.41 20L4 18.59l7.72-7.72 1.47 1.35L5.41 20z\"/>\n",
              "  </svg>\n",
              "      </button>\n",
              "      \n",
              "  <style>\n",
              "    .colab-df-container {\n",
              "      display:flex;\n",
              "      flex-wrap:wrap;\n",
              "      gap: 12px;\n",
              "    }\n",
              "\n",
              "    .colab-df-convert {\n",
              "      background-color: #E8F0FE;\n",
              "      border: none;\n",
              "      border-radius: 50%;\n",
              "      cursor: pointer;\n",
              "      display: none;\n",
              "      fill: #1967D2;\n",
              "      height: 32px;\n",
              "      padding: 0 0 0 0;\n",
              "      width: 32px;\n",
              "    }\n",
              "\n",
              "    .colab-df-convert:hover {\n",
              "      background-color: #E2EBFA;\n",
              "      box-shadow: 0px 1px 2px rgba(60, 64, 67, 0.3), 0px 1px 3px 1px rgba(60, 64, 67, 0.15);\n",
              "      fill: #174EA6;\n",
              "    }\n",
              "\n",
              "    [theme=dark] .colab-df-convert {\n",
              "      background-color: #3B4455;\n",
              "      fill: #D2E3FC;\n",
              "    }\n",
              "\n",
              "    [theme=dark] .colab-df-convert:hover {\n",
              "      background-color: #434B5C;\n",
              "      box-shadow: 0px 1px 3px 1px rgba(0, 0, 0, 0.15);\n",
              "      filter: drop-shadow(0px 1px 2px rgba(0, 0, 0, 0.3));\n",
              "      fill: #FFFFFF;\n",
              "    }\n",
              "  </style>\n",
              "\n",
              "      <script>\n",
              "        const buttonEl =\n",
              "          document.querySelector('#df-b207b82a-b1f2-4972-b5a0-cb91d45c8c17 button.colab-df-convert');\n",
              "        buttonEl.style.display =\n",
              "          google.colab.kernel.accessAllowed ? 'block' : 'none';\n",
              "\n",
              "        async function convertToInteractive(key) {\n",
              "          const element = document.querySelector('#df-b207b82a-b1f2-4972-b5a0-cb91d45c8c17');\n",
              "          const dataTable =\n",
              "            await google.colab.kernel.invokeFunction('convertToInteractive',\n",
              "                                                     [key], {});\n",
              "          if (!dataTable) return;\n",
              "\n",
              "          const docLinkHtml = 'Like what you see? Visit the ' +\n",
              "            '<a target=\"_blank\" href=https://colab.research.google.com/notebooks/data_table.ipynb>data table notebook</a>'\n",
              "            + ' to learn more about interactive tables.';\n",
              "          element.innerHTML = '';\n",
              "          dataTable['output_type'] = 'display_data';\n",
              "          await google.colab.output.renderOutput(dataTable, element);\n",
              "          const docLink = document.createElement('div');\n",
              "          docLink.innerHTML = docLinkHtml;\n",
              "          element.appendChild(docLink);\n",
              "        }\n",
              "      </script>\n",
              "    </div>\n",
              "  </div>\n",
              "  "
            ]
          },
          "metadata": {},
          "execution_count": 41
        }
      ]
    },
    {
      "cell_type": "code",
      "source": [
        "# merge numerical columns and categorical columns based on their indices\n",
        "data = data_normal_num.merge(data_normal_cat, left_index = True, right_index = True)"
      ],
      "metadata": {
        "id": "a5jgD1pdNrIB"
      },
      "execution_count": 16,
      "outputs": []
    },
    {
      "cell_type": "code",
      "execution_count": 17,
      "metadata": {
        "colab": {
          "base_uri": "https://localhost:8080/"
        },
        "id": "o_Oe8yvPm7Qv",
        "outputId": "07f0fde8-7da2-4490-d1e3-0fd5f7f744c7"
      },
      "outputs": [
        {
          "output_type": "execute_result",
          "data": {
            "text/plain": [
              "(14765, 123)"
            ]
          },
          "metadata": {},
          "execution_count": 17
        }
      ],
      "source": [
        "data.shape"
      ]
    },
    {
      "cell_type": "code",
      "execution_count": 18,
      "metadata": {
        "id": "wnFGYs0QRhdO"
      },
      "outputs": [],
      "source": [
        "from keras.layers import Input\n",
        "from keras.layers import Dense\n",
        "from keras.layers import BatchNormalization\n",
        "from keras import backend as K\n",
        "\n",
        "\n",
        "# the dimensionality of a latent space in an autoencoder\n",
        "latent_dimension = 1\n",
        "batch_size = 20\n",
        "# the number of nuerons in a hidden layer\n",
        "hidden_nodes = 16\n",
        "\n",
        "# create the input layer for the encoder\n",
        "input_encoder = Input(shape=(123,), name=\"Input_Encoder\")\n",
        "# apply batch normalization to the encoder input layer\n",
        "batch_normalize1 = BatchNormalization()(input_encoder)\n",
        "# create a hidden layer in the encoder\n",
        "hidden_layer = Dense(hidden_nodes, activation=\"relu\", name=\"Hidden_Encoding\")(\n",
        "    batch_normalize1\n",
        ")\n",
        "batch_normalize2 = BatchNormalization()(hidden_layer)\n",
        "# create the output layer of the encoder\n",
        "z = Dense(latent_dimension, name=\"Mean\")(batch_normalize2)"
      ]
    },
    {
      "cell_type": "code",
      "execution_count": 19,
      "metadata": {
        "id": "UOYl_ntDShyq"
      },
      "outputs": [],
      "source": [
        "from keras import Model\n",
        "\n",
        "\n",
        "encoder = Model(input_encoder, z)"
      ]
    },
    {
      "cell_type": "code",
      "execution_count": 20,
      "metadata": {
        "id": "ntfFwElrS2Y1"
      },
      "outputs": [],
      "source": [
        "# create an input layer of the decoder\n",
        "input_decoder = Input(shape=(latent_dimension,), name=\"Input_Decoder\")\n",
        "batch_normalize1 = BatchNormalization()(input_decoder)\n",
        "# create a hidden layer\n",
        "decoder_hidden_layer = Dense(hidden_nodes, activation=\"relu\", name=\"Hidden_Decoding\")(\n",
        "    batch_normalize1\n",
        ")\n",
        "batch_normalize2 = BatchNormalization()(decoder_hidden_layer)\n",
        "# create the output layer of the autoencoder\n",
        "decoded = Dense(123, activation=\"linear\", name=\"Decoded\")(batch_normalize2)"
      ]
    },
    {
      "cell_type": "code",
      "execution_count": 21,
      "metadata": {
        "id": "p4O7Ndu1S48H"
      },
      "outputs": [],
      "source": [
        "# specify the input and output layer of the decoder\n",
        "decoder = Model(input_decoder, decoded, name=\"Decoder\")"
      ]
    },
    {
      "cell_type": "code",
      "execution_count": 22,
      "metadata": {
        "colab": {
          "base_uri": "https://localhost:8080/"
        },
        "id": "LiJVBTcyS8cB",
        "outputId": "b5031d9d-379b-4d45-a011-48efbd38e49c"
      },
      "outputs": [
        {
          "output_type": "stream",
          "name": "stdout",
          "text": [
            "Model: \"model_1\"\n",
            "_________________________________________________________________\n",
            " Layer (type)                Output Shape              Param #   \n",
            "=================================================================\n",
            " Input_Encoder (InputLayer)  [(None, 123)]             0         \n",
            "                                                                 \n",
            " model (Functional)          (None, 1)                 2557      \n",
            "                                                                 \n",
            " Decoder (Functional)        (None, 123)               2191      \n",
            "                                                                 \n",
            "=================================================================\n",
            "Total params: 4,748\n",
            "Trainable params: 4,436\n",
            "Non-trainable params: 312\n",
            "_________________________________________________________________\n"
          ]
        }
      ],
      "source": [
        "# create a complete autoencoder architecture\n",
        "encoder_decoder = decoder(encoder(input_encoder))\n",
        "\n",
        "ae = Model(input_encoder, encoder_decoder)\n",
        "# a summary of the autoencoder model\n",
        "ae.summary()"
      ]
    },
    {
      "cell_type": "code",
      "source": [
        "data.fillna(-1, inplace=True)"
      ],
      "metadata": {
        "id": "EkYKFdMmarmi"
      },
      "execution_count": 23,
      "outputs": []
    },
    {
      "cell_type": "code",
      "execution_count": 27,
      "metadata": {
        "id": "1vIV8KlRS-az"
      },
      "outputs": [],
      "source": [
        "from tensorflow.random import set_seed\n",
        "from tensorflow.keras.callbacks import ModelCheckpoint, EarlyStopping\n",
        "\n",
        "# set the seed for random number generation\n",
        "set_seed(2021)\n",
        "# compile the complete autoencoder model\n",
        "ae.compile(loss=\"mean_squared_error\", optimizer=\"adam\")\n",
        "\n",
        "# use checkpoint during model training\n",
        "checkpointer = ModelCheckpoint(filepath=\"model.h5\",\n",
        "                               verbose=0,\n",
        "                               save_best_only=True)\n",
        "earlystopping = EarlyStopping(monitor='val_loss', patience=1, verbose=0)\n",
        "\n",
        "# train the autoencoder model on the input data\n",
        "history = ae.fit(\n",
        "    data, data, shuffle=True, epochs=10, batch_size=20, validation_split=0.2, verbose=0\n",
        ").history"
      ]
    },
    {
      "cell_type": "code",
      "source": [
        "from tensorflow.keras.models import load_model\n",
        "\n",
        "ae = load_model('model.h5')"
      ],
      "metadata": {
        "id": "xQee7qObn9TZ",
        "colab": {
          "base_uri": "https://localhost:8080/",
          "height": 358
        },
        "outputId": "21ecfc3b-7455-4e0a-b04d-12b227fadcd6"
      },
      "execution_count": 26,
      "outputs": [
        {
          "output_type": "error",
          "ename": "OSError",
          "evalue": "ignored",
          "traceback": [
            "\u001b[0;31m---------------------------------------------------------------------------\u001b[0m",
            "\u001b[0;31mOSError\u001b[0m                                   Traceback (most recent call last)",
            "\u001b[0;32m<ipython-input-26-7b2c289b923a>\u001b[0m in \u001b[0;36m<cell line: 3>\u001b[0;34m()\u001b[0m\n\u001b[1;32m      1\u001b[0m \u001b[0;32mfrom\u001b[0m \u001b[0mtensorflow\u001b[0m\u001b[0;34m.\u001b[0m\u001b[0mkeras\u001b[0m\u001b[0;34m.\u001b[0m\u001b[0mmodels\u001b[0m \u001b[0;32mimport\u001b[0m \u001b[0mload_model\u001b[0m\u001b[0;34m\u001b[0m\u001b[0;34m\u001b[0m\u001b[0m\n\u001b[1;32m      2\u001b[0m \u001b[0;34m\u001b[0m\u001b[0m\n\u001b[0;32m----> 3\u001b[0;31m \u001b[0mae\u001b[0m \u001b[0;34m=\u001b[0m \u001b[0mload_model\u001b[0m\u001b[0;34m(\u001b[0m\u001b[0;34m'model.h5'\u001b[0m\u001b[0;34m)\u001b[0m\u001b[0;34m\u001b[0m\u001b[0;34m\u001b[0m\u001b[0m\n\u001b[0m",
            "\u001b[0;32m/usr/local/lib/python3.10/dist-packages/keras/saving/saving_api.py\u001b[0m in \u001b[0;36mload_model\u001b[0;34m(filepath, custom_objects, compile, safe_mode, **kwargs)\u001b[0m\n\u001b[1;32m    210\u001b[0m \u001b[0;34m\u001b[0m\u001b[0m\n\u001b[1;32m    211\u001b[0m     \u001b[0;31m# Legacy case.\u001b[0m\u001b[0;34m\u001b[0m\u001b[0;34m\u001b[0m\u001b[0m\n\u001b[0;32m--> 212\u001b[0;31m     return legacy_sm_saving_lib.load_model(\n\u001b[0m\u001b[1;32m    213\u001b[0m         \u001b[0mfilepath\u001b[0m\u001b[0;34m,\u001b[0m \u001b[0mcustom_objects\u001b[0m\u001b[0;34m=\u001b[0m\u001b[0mcustom_objects\u001b[0m\u001b[0;34m,\u001b[0m \u001b[0mcompile\u001b[0m\u001b[0;34m=\u001b[0m\u001b[0mcompile\u001b[0m\u001b[0;34m,\u001b[0m \u001b[0;34m**\u001b[0m\u001b[0mkwargs\u001b[0m\u001b[0;34m\u001b[0m\u001b[0;34m\u001b[0m\u001b[0m\n\u001b[1;32m    214\u001b[0m     )\n",
            "\u001b[0;32m/usr/local/lib/python3.10/dist-packages/keras/utils/traceback_utils.py\u001b[0m in \u001b[0;36merror_handler\u001b[0;34m(*args, **kwargs)\u001b[0m\n\u001b[1;32m     68\u001b[0m             \u001b[0;31m# To get the full stack trace, call:\u001b[0m\u001b[0;34m\u001b[0m\u001b[0;34m\u001b[0m\u001b[0m\n\u001b[1;32m     69\u001b[0m             \u001b[0;31m# `tf.debugging.disable_traceback_filtering()`\u001b[0m\u001b[0;34m\u001b[0m\u001b[0;34m\u001b[0m\u001b[0m\n\u001b[0;32m---> 70\u001b[0;31m             \u001b[0;32mraise\u001b[0m \u001b[0me\u001b[0m\u001b[0;34m.\u001b[0m\u001b[0mwith_traceback\u001b[0m\u001b[0;34m(\u001b[0m\u001b[0mfiltered_tb\u001b[0m\u001b[0;34m)\u001b[0m \u001b[0;32mfrom\u001b[0m \u001b[0;32mNone\u001b[0m\u001b[0;34m\u001b[0m\u001b[0;34m\u001b[0m\u001b[0m\n\u001b[0m\u001b[1;32m     71\u001b[0m         \u001b[0;32mfinally\u001b[0m\u001b[0;34m:\u001b[0m\u001b[0;34m\u001b[0m\u001b[0;34m\u001b[0m\u001b[0m\n\u001b[1;32m     72\u001b[0m             \u001b[0;32mdel\u001b[0m \u001b[0mfiltered_tb\u001b[0m\u001b[0;34m\u001b[0m\u001b[0;34m\u001b[0m\u001b[0m\n",
            "\u001b[0;32m/usr/local/lib/python3.10/dist-packages/keras/saving/legacy/save.py\u001b[0m in \u001b[0;36mload_model\u001b[0;34m(filepath, custom_objects, compile, options)\u001b[0m\n\u001b[1;32m    228\u001b[0m                     \u001b[0;32mif\u001b[0m \u001b[0misinstance\u001b[0m\u001b[0;34m(\u001b[0m\u001b[0mfilepath_str\u001b[0m\u001b[0;34m,\u001b[0m \u001b[0mstr\u001b[0m\u001b[0;34m)\u001b[0m\u001b[0;34m:\u001b[0m\u001b[0;34m\u001b[0m\u001b[0;34m\u001b[0m\u001b[0m\n\u001b[1;32m    229\u001b[0m                         \u001b[0;32mif\u001b[0m \u001b[0;32mnot\u001b[0m \u001b[0mtf\u001b[0m\u001b[0;34m.\u001b[0m\u001b[0mio\u001b[0m\u001b[0;34m.\u001b[0m\u001b[0mgfile\u001b[0m\u001b[0;34m.\u001b[0m\u001b[0mexists\u001b[0m\u001b[0;34m(\u001b[0m\u001b[0mfilepath_str\u001b[0m\u001b[0;34m)\u001b[0m\u001b[0;34m:\u001b[0m\u001b[0;34m\u001b[0m\u001b[0;34m\u001b[0m\u001b[0m\n\u001b[0;32m--> 230\u001b[0;31m                             raise IOError(\n\u001b[0m\u001b[1;32m    231\u001b[0m                                 \u001b[0;34mf\"No file or directory found at {filepath_str}\"\u001b[0m\u001b[0;34m\u001b[0m\u001b[0;34m\u001b[0m\u001b[0m\n\u001b[1;32m    232\u001b[0m                             )\n",
            "\u001b[0;31mOSError\u001b[0m: No file or directory found at model.h5"
          ]
        }
      ]
    },
    {
      "cell_type": "code",
      "execution_count": 28,
      "metadata": {
        "colab": {
          "base_uri": "https://localhost:8080/",
          "height": 922
        },
        "id": "PFmMcu5LTG72",
        "outputId": "bb80526a-2ed6-45c4-afe1-9febc81e76c8"
      },
      "outputs": [
        {
          "output_type": "display_data",
          "data": {
            "text/plain": [
              "<Figure size 1600x1200 with 1 Axes>"
            ],
            "image/png": "[encoded data removed]"
          },
          "metadata": {}
        },
        {
          "output_type": "stream",
          "name": "stdout",
          "text": [
            "Training MSE = 1.4080845204853452\n",
            "Validation MSE = 1.3881128315261282\n"
          ]
        }
      ],
      "source": [
        "import numpy as np\n",
        "import matplotlib.pyplot as plt\n",
        "import seaborn as sns\n",
        "\n",
        "\n",
        "sns.set(font_scale=2)\n",
        "sns.set_style(\"white\")\n",
        "\n",
        "\n",
        "def model_analysis(history):\n",
        "    # extract the training loss and validation loss values from the history object\n",
        "    train_loss = history[\"loss\"]\n",
        "    val_loss = history[\"val_loss\"]\n",
        "    # x-axis values for the plot\n",
        "    t = np.linspace(1, len(train_loss), len(train_loss))\n",
        "\n",
        "    plt.figure(figsize=(16, 12))\n",
        "    plt.title(\"Mean squared error\")\n",
        "    # plot the training loss and validation loss against the epoch values on the x-axis\n",
        "    sns.lineplot(x=t, y=train_loss, label=\"Train\", linewidth=3)\n",
        "    sns.lineplot(x=t, y=val_loss, label=\"Validation\", linewidth=3)\n",
        "    plt.xlabel(\"Epochs\")\n",
        "\n",
        "    plt.legend()\n",
        "    plt.savefig(\"FirstNet.png\", dpi=400)\n",
        "    plt.show()\n",
        "    # the square root of the final training loss and validation loss values\n",
        "    print(f\"Training MSE = {np.sqrt(train_loss[-1])}\")\n",
        "    print(f\"Validation MSE = {np.sqrt(val_loss[-1])}\")\n",
        "\n",
        "\n",
        "model_analysis(history)"
      ]
    },
    {
      "cell_type": "code",
      "execution_count": 30,
      "metadata": {
        "colab": {
          "base_uri": "https://localhost:8080/",
          "height": 747
        },
        "id": "AFNcf1zCiNP5",
        "outputId": "5d1f3140-76e7-434e-80e0-88505de2ef13"
      },
      "outputs": [
        {
          "output_type": "stream",
          "name": "stdout",
          "text": [
            "462/462 [==============================] - 1s 1ms/step\n"
          ]
        },
        {
          "output_type": "display_data",
          "data": {
            "text/plain": [
              "<Figure size 1200x800 with 1 Axes>"
            ],
            "image/png": "[encoded data removed]"
          },
          "metadata": {}
        }
      ],
      "source": [
        "plt.figure(figsize=(12, 8))\n",
        "plt.title(\"Empirical distribution function z\")\n",
        "plt.xticks((-8, -6, -4, -2, 0, 2, 4, 6, 8, 10, 12, 14))\n",
        "# use the encoder model to obtain the latent representation (z) of the data input\n",
        "plt.hist(encoder.predict(data), bins=30, density=True)\n",
        "plt.savefig(\"DistInternal.png\", dpi=400)"
      ]
    },
    {
      "cell_type": "code",
      "execution_count": 31,
      "metadata": {
        "id": "qP8jmpGiiWkP",
        "colab": {
          "base_uri": "https://localhost:8080/"
        },
        "outputId": "914a0a44-05d1-4f71-c291-06fadb48f81b"
      },
      "outputs": [
        {
          "output_type": "stream",
          "name": "stdout",
          "text": [
            "462/462 [==============================] - 1s 1ms/step\n"
          ]
        },
        {
          "output_type": "execute_result",
          "data": {
            "text/plain": [
              "array([ 0.2687069 ,  0.46945122,  0.53207034,  0.38273144,  0.14461367,\n",
              "        0.00733005,  0.45154583,  0.6594226 ,  0.6018154 ,  4.227808  ,\n",
              "        0.68057877,  1.3204775 ,  2.1413403 ,  4.352363  ,  1.8434035 ,\n",
              "        1.0949422 ,  1.8370647 ,  0.10321388,  1.8368707 ,  1.0386981 ,\n",
              "        1.1459827 ,  0.49319324,  0.8787838 ,  2.081946  ,  0.85198385,\n",
              "        0.19402179,  0.22864842,  0.3010638 ,  0.238457  ,  1.385504  ,\n",
              "        0.27579457,  0.09206224,  0.41766503,  0.66064423,  0.50001514,\n",
              "        0.19590774,  0.24544549,  0.3938366 ,  0.21539988,  0.20648515,\n",
              "        1.0150988 ,  0.68407494,  0.5982945 ,  3.8423333 ,  0.7768038 ,\n",
              "        3.936083  ,  0.695113  ,  2.4149904 ,  4.219656  ,  0.48265553,\n",
              "        0.61655635,  1.2762188 ,  3.3683836 ,  2.5654259 ,  2.7102365 ,\n",
              "        5.20129   ,  1.6013086 ,  5.299888  ,  2.3412495 ,  3.0731318 ,\n",
              "        1.1412528 ,  0.2148099 ,  0.19904456, -0.02814259,  0.01933879,\n",
              "        0.0512156 ,  0.20951971,  0.16984527,  0.51621145, -0.04571812,\n",
              "        0.25173658,  0.7518065 ,  4.5488873 ,  2.845292  ,  3.165436  ,\n",
              "        0.9327771 ,  1.243723  ,  2.7542994 ,  0.6841251 ,  1.1613723 ,\n",
              "        2.9135768 ,  2.667333  ,  3.3865428 ,  2.9839647 ,  4.052667  ,\n",
              "        2.7460265 ,  3.0585217 ,  3.1162593 ,  3.8282764 ,  4.5018916 ,\n",
              "        3.1375835 ,  3.3489792 ,  2.1472158 ,  1.1101785 ,  0.30944738,\n",
              "        0.2648844 ,  1.2533413 ,  0.4743508 ,  3.5196748 ,  1.581128  ,\n",
              "        0.90650344,  0.11701778,  3.1256435 ,  3.0308506 ,  0.33760166,\n",
              "        3.3862727 , -0.05845404,  1.3699851 ,  0.34136584,  2.1369848 ,\n",
              "        0.17136072,  0.184978  ,  0.27002427,  0.27538553,  0.3255385 ,\n",
              "       -0.01839899, -0.04103583, -0.03130203, -0.04555518, -0.01468673,\n",
              "       -0.02896574, -0.01997475, -0.00781891], dtype=float32)"
            ]
          },
          "metadata": {},
          "execution_count": 31
        }
      ],
      "source": [
        "ae.predict(data)[0,:]"
      ]
    },
    {
      "cell_type": "code",
      "execution_count": 32,
      "metadata": {
        "colab": {
          "base_uri": "https://localhost:8080/",
          "height": 885
        },
        "id": "KuDkaaY6jtMm",
        "outputId": "ac28a356-7304-4f6e-ad71-4acb4a398c0d"
      },
      "outputs": [
        {
          "output_type": "stream",
          "name": "stdout",
          "text": [
            "462/462 [==============================] - 1s 1ms/step\n"
          ]
        },
        {
          "output_type": "display_data",
          "data": {
            "text/plain": [
              "<Figure size 1600x1200 with 1 Axes>"
            ],
            "image/png": "[encoded data removed]"
          },
          "metadata": {}
        }
      ],
      "source": [
        "# plot the empirical distribution function for the values obtained from the encoder's predictions on the dataset\n",
        "from statsmodels.distributions.empirical_distribution import ECDF\n",
        "\n",
        "\n",
        "ecdf = ECDF(encoder.predict(data)[:, 0])\n",
        "plt.figure(figsize=(16, 12))\n",
        "plt.title(\"Empirical distribution function z\")\n",
        "x = (-5, -4, -3, -2, -1, 0, 1, 2, 3, 4, 5)\n",
        "plt.yticks(np.linspace(0, 1, 11))\n",
        "plt.xticks(x)\n",
        "plt.grid()\n",
        "plt.plot(x, ecdf(x), linewidth=3)\n",
        "plt.savefig(\"EmpiricalDF.png\", dpi=400)"
      ]
    },
    {
      "cell_type": "code",
      "execution_count": 33,
      "metadata": {
        "id": "O-bb5VdbrKNb"
      },
      "outputs": [],
      "source": [
        "from scipy.interpolate import interp1d\n",
        "\n",
        "\n",
        "x = (-5, -4, -3, -2, -1, 0, 1, 2, 3, 4, 5)\n",
        "# calculate the sample EDF values at the specified x-values\n",
        "sample_edf_values_at_slope_changes = [ecdf(i) for i in x]\n",
        "inverted_edf = interp1d(sample_edf_values_at_slope_changes, x)"
      ]
    },
    {
      "cell_type": "code",
      "execution_count": 34,
      "metadata": {
        "colab": {
          "base_uri": "https://localhost:8080/",
          "height": 850
        },
        "id": "hI-p2VDnrRib",
        "outputId": "2b53594f-4484-49d3-f754-bcf7d3a2c2ef"
      },
      "outputs": [
        {
          "output_type": "display_data",
          "data": {
            "text/plain": [
              "<Figure size 1600x1200 with 1 Axes>"
            ],
            "image/png": "[encoded data removed]"
          },
          "metadata": {}
        }
      ],
      "source": [
        "from numpy.random import uniform\n",
        "from numpy.random import seed\n",
        "\n",
        "# number of data points to generate\n",
        "N = 10000\n",
        "seed(2021)\n",
        "plt.figure(figsize=(16, 12))\n",
        "plt.title(\"Inverted empirical distribution function\")\n",
        "x = np.linspace(0.30, 0.80, 80)\n",
        "plt.xticks(np.linspace(0, 1.0, 11))\n",
        "plt.grid()\n",
        "plt.plot(x, inverted_edf(x), linewidth=3)\n",
        "plt.savefig(\"InvertedEmpiricalDF.png\", dpi=400)"
      ]
    },
    {
      "cell_type": "code",
      "execution_count": 35,
      "metadata": {
        "colab": {
          "base_uri": "https://localhost:8080/",
          "height": 862
        },
        "id": "n_UbhP10rVJ1",
        "outputId": "289cb6b2-bd75-485a-eb51-1bdfc59aedbf"
      },
      "outputs": [
        {
          "output_type": "display_data",
          "data": {
            "text/plain": [
              "<Figure size 1600x1200 with 1 Axes>"
            ],
            "image/png": "[encoded data removed]"
          },
          "metadata": {}
        }
      ],
      "source": [
        "# number of data points to generate\n",
        "N = 10000\n",
        "seed(2021)\n",
        "plt.figure(figsize=(16, 12))\n",
        "plt.title(\"Empirical distribution function z\")\n",
        "plt.xticks((-5, -4, -3, -2, -1, 0, 1, 2, 3, 4))\n",
        "# N random values from a uniform distribution are transformed to follow a specific distribution using the inverted EDF\n",
        "plt.hist(inverted_edf(uniform(0.30, 0.80, N)), bins=30, density=True)\n",
        "plt.savefig(\"DistGenerated.png\", dpi=400)"
      ]
    },
    {
      "cell_type": "code",
      "source": [
        "import tensorflow as tf\n",
        "\n",
        "plt.figure(figsize=(20, 8))\n",
        "# reconstruct the original data\n",
        "normal_reconstructions = ae.predict(data)\n",
        "# compute the Mean Absolute Error between the reconstructed data and the original data\n",
        "normal_loss = tf.losses.mae(normal_reconstructions, data)\n",
        "plt.hist(normal_loss, bins=10)\n",
        "plt.show()"
      ],
      "metadata": {
        "colab": {
          "base_uri": "https://localhost:8080/",
          "height": 485
        },
        "id": "P4b5cOqTafyi",
        "outputId": "baf2b6e8-91ba-4d62-faa3-994c3b62bc42"
      },
      "execution_count": 36,
      "outputs": [
        {
          "output_type": "stream",
          "name": "stdout",
          "text": [
            "462/462 [==============================] - 1s 1ms/step\n"
          ]
        },
        {
          "output_type": "display_data",
          "data": {
            "text/plain": [
              "<Figure size 2000x800 with 1 Axes>"
            ],
            "image/png": "[encoded data removed]"
          },
          "metadata": {}
        }
      ]
    },
    {
      "cell_type": "code",
      "source": [
        "threshold = np.mean(normal_loss) + 2*np.std(normal_loss)\n",
        "print(threshold)"
      ],
      "metadata": {
        "colab": {
          "base_uri": "https://localhost:8080/"
        },
        "id": "zDj2gmAybTEx",
        "outputId": "57ffb3c7-54d9-478e-eb47-6d28ff0090e3"
      },
      "execution_count": 37,
      "outputs": [
        {
          "output_type": "stream",
          "name": "stdout",
          "text": [
            "1.3392946932561585\n"
          ]
        }
      ]
    },
    {
      "cell_type": "code",
      "source": [
        "plt.figure(figsize=(20, 8))\n",
        "plt.hist(normal_loss, bins=10, color='b', label=\"normal loss\")\n",
        "# add a vertical line to the plot at the position of the threshold value\n",
        "plt.axvline(threshold, color='r', label=\"threshold\")\n",
        "plt.legend()\n",
        "plt.show()"
      ],
      "metadata": {
        "colab": {
          "base_uri": "https://localhost:8080/",
          "height": 467
        },
        "id": "8J_bBLRpbWKH",
        "outputId": "64e65ff2-b1db-4568-bed4-f460e2991586"
      },
      "execution_count": 38,
      "outputs": [
        {
          "output_type": "display_data",
          "data": {
            "text/plain": [
              "<Figure size 2000x800 with 1 Axes>"
            ],
            "image/png": "[encoded data removed]"
          },
          "metadata": {}
        }
      ]
    },
    {
      "cell_type": "code",
      "source": [
        "# Get the indices that would sort the mae array in descending order\n",
        "sorted_indices = np.argsort(normal_loss)[::-1]"
      ],
      "metadata": {
        "id": "1EJ9vFLIorUK"
      },
      "execution_count": 39,
      "outputs": []
    },
    {
      "cell_type": "code",
      "source": [
        "k = 100  # Number of samples to select\n",
        "samples_with_high_error = data.iloc[sorted_indices[:k]]\n",
        "samples_with_high_error.head()"
      ],
      "metadata": {
        "id": "pzkZLpOWovDc"
      },
      "execution_count": null,
      "outputs": []
    },
    {
      "cell_type": "code",
      "source": [
        "# Find indices of tuples with reconstruction values larger than the threshold\n",
        "anomaly_indices = np.where(normal_loss > threshold)[0]\n",
        "\n",
        "# Select the corresponding tuples from the original data\n",
        "anomaly_tuples = data.iloc[anomaly_indices]\n",
        "\n",
        "# Print the anomaly tuples\n",
        "anomaly_tuples.head()\n"
      ],
      "metadata": {
        "id": "m5mb9wZso06U"
      },
      "execution_count": null,
      "outputs": []
    },
    {
      "cell_type": "code",
      "source": [
        "anomaly_tuples.shape"
      ],
      "metadata": {
        "id": "whzq8OvKsOPO"
      },
      "execution_count": null,
      "outputs": []
    },
    {
      "cell_type": "code",
      "source": [],
      "metadata": {
        "id": "qbkf9IEWuO6f"
      },
      "execution_count": null,
      "outputs": []
    }
  ],
  "metadata": {
    "colab": {
      "machine_shape": "hm",
      "provenance": [],
      "gpuType": "V100",
      "include_colab_link": true
    },
    "kernelspec": {
      "display_name": "Python 3",
      "name": "python3"
    },
    "language_info": {
      "name": "python"
    },
    "accelerator": "GPU"
  },
  "nbformat": 4,
  "nbformat_minor": 0
}