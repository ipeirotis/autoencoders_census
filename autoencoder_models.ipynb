{
  "nbformat": 4,
  "nbformat_minor": 0,
  "metadata": {
    "colab": {
      "private_outputs": true,
      "provenance": [],
      "authorship_tag": "ABX9TyOlEVO522sUU0QlytRMa17+",
      "include_colab_link": true
    },
    "kernelspec": {
      "name": "python3",
      "display_name": "Python 3"
    },
    "language_info": {
      "name": "python"
    }
  },
  "cells": [
    {
      "cell_type": "markdown",
      "metadata": {
        "id": "view-in-github",
        "colab_type": "text"
      },
      "source": [
        "<a href=\"https://colab.research.google.com/github/ipeirotis/autoencoders_census/blob/main/autoencoder_models.ipynb\" target=\"_parent\"><img src=\"https://colab.research.google.com/assets/colab-badge.svg\" alt=\"Open In Colab\"/></a>"
      ]
    },
    {
      "cell_type": "code",
      "execution_count": null,
      "metadata": {
        "id": "a0118yZ3tJqr"
      },
      "outputs": [],
      "source": [
        "from tensorflow.keras.layers import Input, Dense, BatchNormalization\n",
        "from tensorflow.keras.models import Model\n",
        "\n",
        "def create_autoencoder(input_dim, latent_dim=1, hidden_nodes=16):\n",
        "    \"\"\"\n",
        "    Create an autoencoder model.\n",
        "\n",
        "    Parameters:\n",
        "    input_dim (int): The dimension of the input data.\n",
        "    latent_dim (int): The dimension of the latent space. Default is 1.\n",
        "    hidden_nodes (int): The number of nodes in the hidden layer. Default is 16.\n",
        "\n",
        "    Returns:\n",
        "    encoder (Model): The encoder part of the autoencoder.\n",
        "    decoder (Model): The decoder part of the autoencoder.\n",
        "    autoencoder (Model): The whole autoencoder.\n",
        "    \"\"\"\n",
        "\n",
        "    # ENCODER PART\n",
        "    # Define the input to the encoder\n",
        "    input_encoder = Input(shape=(input_dim,), name=\"Encoder_Input\")\n",
        "\n",
        "    # Apply batch normalization\n",
        "    encoder_batch_norm1 = BatchNormalization()(input_encoder)\n",
        "\n",
        "    # Hidden layer of the encoder\n",
        "    encoder_hidden = Dense(hidden_nodes, activation=\"relu\", name=\"Encoder_Hidden\")(encoder_batch_norm1)\n",
        "\n",
        "    # Apply another batch normalization\n",
        "    encoder_batch_norm2 = BatchNormalization()(encoder_hidden)\n",
        "\n",
        "    # Output of the encoder\n",
        "    z = Dense(latent_dim, name=\"Encoder_Output\")(encoder_batch_norm2)\n",
        "\n",
        "    # Define the whole encoder model\n",
        "    encoder = Model(input_encoder, z, name=\"Encoder\")\n",
        "\n",
        "    # DECODER PART\n",
        "    # Define the input to the decoder\n",
        "    input_decoder = Input(shape=(latent_dim,), name=\"Decoder_Input\")\n",
        "\n",
        "    # Apply batch normalization\n",
        "    decoder_batch_norm1 = BatchNormalization()(input_decoder)\n",
        "\n",
        "    # Hidden layer of the decoder\n",
        "    decoder_hidden = Dense(hidden_nodes, activation=\"relu\", name=\"Decoder_Hidden\")(decoder_batch_norm1)\n",
        "\n",
        "    # Apply another batch normalization\n",
        "    decoder_batch_norm2 = BatchNormalization()(decoder_hidden)\n",
        "\n",
        "    # Output of the decoder\n",
        "    decoded = Dense(input_dim, activation=\"linear\", name=\"Decoder_Output\")(decoder_batch_norm2)\n",
        "\n",
        "    # Define the whole decoder model\n",
        "    decoder = Model(input_decoder, decoded, name=\"Decoder\")\n",
        "\n",
        "    # AUTOENCODER\n",
        "    # Pass the input through the encoder and the decoder\n",
        "    encoder_decoder = decoder(encoder(input_encoder))\n",
        "\n",
        "    # Define the whole autoencoder model\n",
        "    autoencoder = Model(input_encoder, encoder_decoder)\n",
        "\n",
        "    return encoder, decoder, autoencoder\n"
      ]
    }
  ]
}