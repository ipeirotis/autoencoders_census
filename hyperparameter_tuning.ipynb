{
  "cells": [
    {
      "cell_type": "markdown",
      "metadata": {
        "id": "view-in-github",
        "colab_type": "text"
      },
      "source": [
        "<a href=\"https://colab.research.google.com/github/ipeirotis/autoencoders_census/blob/main/hyperparameter_tuning.ipynb\" target=\"_parent\"><img src=\"https://colab.research.google.com/assets/colab-badge.svg\" alt=\"Open In Colab\"/></a>"
      ]
    },
    {
      "cell_type": "markdown",
      "source": [
        "# **Autoencoders and Data Quality for Tabular Data**\n",
        "\n",
        "This notebook searches the parameter space to create the best possible architecture for our autoencoder and saves the file into a Google Storage Bucket."
      ],
      "metadata": {
        "id": "9K3IqN1rReVp"
      }
    },
    {
      "cell_type": "code",
      "source": [
        "!rm -rf autoencoders_census\n",
        "!git clone https://github.com/ipeirotis/autoencoders_census.git\n",
        "%cd autoencoders_census"
      ],
      "metadata": {
        "id": "5xeAY39sz-rF",
        "outputId": "d04aae77-dea0-4f8d-eb4d-b3711b1e2f86",
        "colab": {
          "base_uri": "https://localhost:8080/"
        }
      },
      "execution_count": null,
      "outputs": [
        {
          "output_type": "stream",
          "name": "stdout",
          "text": [
            "Cloning into 'autoencoders_census'...\n",
            "remote: Enumerating objects: 194, done.\u001b[K\n",
            "remote: Counting objects: 100% (71/71), done.\u001b[K\n",
            "remote: Compressing objects: 100% (71/71), done.\u001b[K\n",
            "remote: Total 194 (delta 43), reused 0 (delta 0), pack-reused 123\u001b[K\n",
            "Receiving objects: 100% (194/194), 3.86 MiB | 15.14 MiB/s, done.\n",
            "Resolving deltas: 100% (109/109), done.\n",
            "/content/autoencoders_census\n"
          ]
        }
      ]
    },
    {
      "cell_type": "code",
      "source": [
        "from google.colab import auth\n",
        "\n",
        "# Login using the account that has access to the Google project\n",
        "# in order to access the resources for the project\n",
        "auth.authenticate_user()"
      ],
      "metadata": {
        "id": "yPY1_oSpyDTj"
      },
      "execution_count": null,
      "outputs": []
    },
    {
      "cell_type": "code",
      "source": [
        "# This code imports the DataTransformer object from\n",
        "# the notebook pandas2vector.ipynb\n",
        "!pip install -q import_ipynb keras-tuner\n",
        "import import_ipynb\n",
        "from pandas2vector import Table2Vector\n",
        "from data_loader import DataLoader\n",
        "from autoencoder import AutoencoderModel"
      ],
      "metadata": {
        "id": "Ex9evWOZ0DF3",
        "outputId": "c49ccf63-71a3-4c5b-b491-7663d7d9b2d7",
        "colab": {
          "base_uri": "https://localhost:8080/"
        }
      },
      "execution_count": null,
      "outputs": [
        {
          "output_type": "stream",
          "name": "stdout",
          "text": [
            "\u001b[2K     \u001b[90m━━━━━━━━━━━━━━━━━━━━━━━━━━━━━━━━━━━━━━\u001b[0m \u001b[32m176.1/176.1 kB\u001b[0m \u001b[31m12.1 MB/s\u001b[0m eta \u001b[36m0:00:00\u001b[0m\n",
            "\u001b[2K     \u001b[90m━━━━━━━━━━━━━━━━━━━━━━━━━━━━━━━━━━━━━━━━\u001b[0m \u001b[32m1.6/1.6 MB\u001b[0m \u001b[31m57.9 MB/s\u001b[0m eta \u001b[36m0:00:00\u001b[0m\n",
            "\u001b[?25himporting Jupyter notebook from pandas2vector.ipynb\n",
            "importing Jupyter notebook from data_loader.ipynb\n",
            "importing Jupyter notebook from autoencoder.ipynb\n"
          ]
        }
      ]
    },
    {
      "cell_type": "markdown",
      "source": [
        "# Data Source\n",
        "\n",
        "The used data stems from the Youth Risk Behavior Surveillance System by CDC (Centers for Disease Control and Prevention). It includes data on a set of surveys that track behaviors that can lead to poor health in students grades 9 through 12. [Here](https://www.cdc.gov/healthyyouth/data/yrbs/data.htm) is the link to the dataset.\n",
        "\n",
        "Note: The dataset is updated every two years. We use the 2017 version of the national high school YRBS dataset."
      ],
      "metadata": {
        "id": "dIKX1fZeEwml"
      }
    },
    {
      "cell_type": "markdown",
      "source": [
        "## Libraries"
      ],
      "metadata": {
        "id": "KzyIVNMp_xzs"
      }
    },
    {
      "cell_type": "code",
      "source": [
        "import pandas as pd\n",
        "import numpy as np\n",
        "import matplotlib.pyplot as plt\n",
        "import seaborn as sns"
      ],
      "metadata": {
        "id": "ehzw09wzq97i"
      },
      "execution_count": null,
      "outputs": []
    },
    {
      "cell_type": "code",
      "source": [
        "from sklearn.preprocessing import OneHotEncoder, MinMaxScaler\n",
        "from sklearn.metrics import roc_auc_score\n",
        "from sklearn.metrics import roc_curve, auc\n",
        "from sklearn.model_selection import train_test_split\n",
        "from pandas.api.types import is_numeric_dtype\n",
        "from matplotlib.offsetbox import TransformedBbox"
      ],
      "metadata": {
        "id": "U4vMhpJqrXPp"
      },
      "execution_count": null,
      "outputs": []
    },
    {
      "cell_type": "code",
      "source": [
        "from statsmodels.distributions.empirical_distribution import ECDF\n",
        "from scipy.interpolate import interp1d\n",
        "from numpy.random import uniform\n",
        "from numpy.random import seed"
      ],
      "metadata": {
        "id": "GVwSgGeSsXB5"
      },
      "execution_count": null,
      "outputs": []
    },
    {
      "cell_type": "code",
      "source": [
        "from keras.layers import Input\n",
        "from keras.layers import Dense\n",
        "from keras.layers import BatchNormalization\n",
        "from keras import backend as K\n",
        "from keras import Model"
      ],
      "metadata": {
        "id": "SmB8kD9ZscsW"
      },
      "execution_count": null,
      "outputs": []
    },
    {
      "cell_type": "code",
      "source": [
        "import tensorflow as tf\n",
        "from tensorflow.random import set_seed\n",
        "from tensorflow.keras.callbacks import ModelCheckpoint, EarlyStopping\n",
        "from tensorflow import keras"
      ],
      "metadata": {
        "id": "UONh1X4nsgnH"
      },
      "execution_count": null,
      "outputs": []
    },
    {
      "cell_type": "markdown",
      "source": [
        "# Load Original Dataset"
      ],
      "metadata": {
        "id": "ixwUP7RmrXk4"
      }
    },
    {
      "cell_type": "code",
      "source": [
        "# Data Source\n",
        "data_loader = DataLoader()\n",
        "original_df = data_loader.load_original_data()\n",
        "project_data, variable_types = data_loader.prepare_original_dataset(original_df)\n",
        "\n"
      ],
      "metadata": {
        "id": "aYREUl3F0Krs"
      },
      "execution_count": null,
      "outputs": []
    },
    {
      "cell_type": "code",
      "source": [
        "original_df.shape"
      ],
      "metadata": {
        "id": "LRBB5eT6nt9L",
        "outputId": "11191361-df37-4832-b213-c681a7a45f94",
        "colab": {
          "base_uri": "https://localhost:8080/"
        }
      },
      "execution_count": null,
      "outputs": [
        {
          "output_type": "execute_result",
          "data": {
            "text/plain": [
              "(14765, 305)"
            ]
          },
          "metadata": {},
          "execution_count": 10
        }
      ]
    },
    {
      "cell_type": "code",
      "execution_count": null,
      "metadata": {
        "id": "Jcx7nyTXPyvm",
        "colab": {
          "base_uri": "https://localhost:8080/"
        },
        "outputId": "e834d11b-e926-452b-9343-b798c4b338a2"
      },
      "outputs": [
        {
          "output_type": "execute_result",
          "data": {
            "text/plain": [
              "(14765, 108)"
            ]
          },
          "metadata": {},
          "execution_count": 11
        }
      ],
      "source": [
        "project_data.shape"
      ]
    },
    {
      "cell_type": "code",
      "source": [],
      "metadata": {
        "id": "-nZoOmxioDrN"
      },
      "execution_count": null,
      "outputs": []
    },
    {
      "cell_type": "markdown",
      "source": [
        "# Transforming the original data set"
      ],
      "metadata": {
        "id": "EIe0-IpKoD7D"
      }
    },
    {
      "cell_type": "code",
      "source": [
        "# Data Transformation\n",
        "vectorizer = Table2Vector(variable_types)\n",
        "\n",
        "\n",
        "# Without indicator variables for missingness\n",
        "vectorized_df = vectorizer.vectorize_table(project_data)\n",
        "\n",
        "# If we want to add indicators for missing values, but we need to also add the appropriate variable types for the missing\n",
        "# project_data_missing = data_transformer.add_missing_indicators(project_data)\n",
        "# transformed_df = data_transformer.transform_dataframe(project_data_missing)\n"
      ],
      "metadata": {
        "id": "x__x4uYp13zZ"
      },
      "execution_count": null,
      "outputs": []
    },
    {
      "cell_type": "code",
      "source": [
        "vectorized_df.shape"
      ],
      "metadata": {
        "id": "AgNQzWeK2S4x",
        "outputId": "6961525e-b6d0-478e-ce48-db9545422324",
        "colab": {
          "base_uri": "https://localhost:8080/"
        }
      },
      "execution_count": null,
      "outputs": [
        {
          "output_type": "execute_result",
          "data": {
            "text/plain": [
              "(14765, 563)"
            ]
          },
          "metadata": {},
          "execution_count": 13
        }
      ]
    },
    {
      "cell_type": "code",
      "source": [
        "# This does not work. Need to figure out why.\n",
        "vectorizer.tabularize_vector(vectorized_df).shape"
      ],
      "metadata": {
        "id": "gowOjPGAHRI3",
        "outputId": "303f0d51-c5f0-4f69-a925-dacd369b8598",
        "colab": {
          "base_uri": "https://localhost:8080/"
        }
      },
      "execution_count": null,
      "outputs": [
        {
          "output_type": "execute_result",
          "data": {
            "text/plain": [
              "(14765, 108)"
            ]
          },
          "metadata": {},
          "execution_count": 15
        }
      ]
    },
    {
      "cell_type": "markdown",
      "source": [
        "# Autoencoder training"
      ],
      "metadata": {
        "id": "Gq2Q4-y7qHll"
      }
    },
    {
      "cell_type": "markdown",
      "source": [
        "## Hyperparameter search and model training"
      ],
      "metadata": {
        "id": "mfs9eS6P8qID"
      }
    },
    {
      "cell_type": "markdown",
      "source": [
        "The training of an autoencoder model while effectively handling missing data with mask variables."
      ],
      "metadata": {
        "id": "Ls6VIG74QtWC"
      }
    },
    {
      "cell_type": "code",
      "source": [
        "# Instantiate the class\n",
        "model = AutoencoderModel()\n",
        "\n",
        "# Preprocess the data\n",
        "X_train, X_test = model.split_train_test(vectorized_df)"
      ],
      "metadata": {
        "id": "EpoiRJWKySEb"
      },
      "execution_count": null,
      "outputs": []
    },
    {
      "cell_type": "code",
      "source": [
        "# Define the tuner\n",
        "tuner = model.define_tuner()\n",
        "\n",
        "# Perform hyperparameter search\n",
        "tuner.search(X_train, X_train, epochs=model.EPOCHS,\n",
        "             # batch_size=model.BATCH_SIZE,\n",
        "             validation_data=(X_test, X_test))\n",
        "\n",
        "# Get the best hyperparameters and build the final model\n",
        "best_hps = tuner.get_best_hyperparameters(num_trials=model.NUM_TRIALS)[0]\n",
        "final_model = model.build_autoencoder(best_hps)"
      ],
      "metadata": {
        "colab": {
          "base_uri": "https://localhost:8080/"
        },
        "id": "rdQuBFGYBL9K",
        "outputId": "1efcdb52-f48c-43a7-b55e-1411fb131435"
      },
      "execution_count": null,
      "outputs": [
        {
          "output_type": "stream",
          "name": "stdout",
          "text": [
            "Trial 20 Complete [00h 00m 23s]\n",
            "val_loss: 0.06444705277681351\n",
            "\n",
            "Best val_loss So Far: 0.06444705277681351\n",
            "Total elapsed time: 00h 07m 14s\n"
          ]
        }
      ]
    },
    {
      "cell_type": "code",
      "source": [
        "# Train the final model\n",
        "history = final_model.fit(X_train, X_train,\n",
        "                           epochs=5*model.EPOCHS,\n",
        "                           verbose=1,\n",
        "                           validation_data=(X_test, X_test))"
      ],
      "metadata": {
        "id": "kpreQbv5-PBb",
        "outputId": "541e0ad1-7aa8-4ff4-8b4f-0bcd73956833",
        "colab": {
          "base_uri": "https://localhost:8080/"
        }
      },
      "execution_count": null,
      "outputs": [
        {
          "output_type": "stream",
          "name": "stdout",
          "text": [
            "Epoch 1/25\n",
            "329/329 [==============================] - 6s 7ms/step - loss: 0.0833 - val_loss: 0.0672\n",
            "Epoch 2/25\n",
            "329/329 [==============================] - 2s 7ms/step - loss: 0.0662 - val_loss: 0.0647\n",
            "Epoch 3/25\n",
            "329/329 [==============================] - 3s 8ms/step - loss: 0.0653 - val_loss: 0.0652\n",
            "Epoch 4/25\n",
            "329/329 [==============================] - 3s 8ms/step - loss: 0.0648 - val_loss: 0.0654\n",
            "Epoch 5/25\n",
            "329/329 [==============================] - 2s 7ms/step - loss: 0.0644 - val_loss: 0.0642\n",
            "Epoch 6/25\n",
            "329/329 [==============================] - 2s 7ms/step - loss: 0.0643 - val_loss: 0.0637\n",
            "Epoch 7/25\n",
            "329/329 [==============================] - 2s 7ms/step - loss: 0.0640 - val_loss: 0.0646\n",
            "Epoch 8/25\n",
            "329/329 [==============================] - 3s 8ms/step - loss: 0.0639 - val_loss: 0.0663\n",
            "Epoch 9/25\n",
            "329/329 [==============================] - 3s 8ms/step - loss: 0.0638 - val_loss: 0.0641\n",
            "Epoch 10/25\n",
            "329/329 [==============================] - 2s 7ms/step - loss: 0.0638 - val_loss: 0.0630\n",
            "Epoch 11/25\n",
            "329/329 [==============================] - 2s 7ms/step - loss: 0.0637 - val_loss: 0.0631\n",
            "Epoch 12/25\n",
            "329/329 [==============================] - 2s 7ms/step - loss: 0.0636 - val_loss: 0.0637\n",
            "Epoch 13/25\n",
            "329/329 [==============================] - 3s 9ms/step - loss: 0.0635 - val_loss: 0.0625\n",
            "Epoch 14/25\n",
            "329/329 [==============================] - 3s 8ms/step - loss: 0.0634 - val_loss: 0.0626\n",
            "Epoch 15/25\n",
            "329/329 [==============================] - 3s 9ms/step - loss: 0.0634 - val_loss: 0.0630\n",
            "Epoch 16/25\n",
            "329/329 [==============================] - 2s 7ms/step - loss: 0.0634 - val_loss: 0.0625\n",
            "Epoch 17/25\n",
            "329/329 [==============================] - 2s 7ms/step - loss: 0.0634 - val_loss: 0.0621\n",
            "Epoch 18/25\n",
            "329/329 [==============================] - 3s 10ms/step - loss: 0.0632 - val_loss: 0.0630\n",
            "Epoch 19/25\n",
            "329/329 [==============================] - 2s 7ms/step - loss: 0.0633 - val_loss: 0.0627\n",
            "Epoch 20/25\n",
            "329/329 [==============================] - 2s 7ms/step - loss: 0.0633 - val_loss: 0.0622\n",
            "Epoch 21/25\n",
            "329/329 [==============================] - 2s 7ms/step - loss: 0.0632 - val_loss: 0.0625\n",
            "Epoch 22/25\n",
            "329/329 [==============================] - 2s 7ms/step - loss: 0.0633 - val_loss: 0.0622\n",
            "Epoch 23/25\n",
            "329/329 [==============================] - 3s 9ms/step - loss: 0.0631 - val_loss: 0.0625\n",
            "Epoch 24/25\n",
            "329/329 [==============================] - 2s 7ms/step - loss: 0.0632 - val_loss: 0.0628\n",
            "Epoch 25/25\n",
            "329/329 [==============================] - 2s 7ms/step - loss: 0.0632 - val_loss: 0.0619\n"
          ]
        }
      ]
    },
    {
      "cell_type": "markdown",
      "source": [
        "Visualize the training and validation loss values over epochs."
      ],
      "metadata": {
        "id": "ypmzVSeefKbq"
      }
    },
    {
      "cell_type": "code",
      "source": [
        "def model_analysis(train_loss, val_loss):\n",
        "    epochs = range(1, len(train_loss) + 1)\n",
        "\n",
        "    plt.figure(figsize=(8, 6))\n",
        "    plt.title(\"Mean squared error\")\n",
        "    sns.lineplot(x=epochs, y=train_loss, label=\"Train\", linewidth=3)\n",
        "    sns.lineplot(x=epochs, y=val_loss, label=\"Validation\", linewidth=3)\n",
        "    plt.xlabel(\"Epochs\")\n",
        "\n",
        "    plt.legend()\n",
        "    plt.show()\n",
        "\n",
        "    print(f\"Training MSE = {np.sqrt(train_loss[-1])}\")\n",
        "    print(f\"Validation MSE = {np.sqrt(val_loss[-1])}\")\n",
        "\n",
        "model_analysis(history.history['loss'], history.history['val_loss'])"
      ],
      "metadata": {
        "colab": {
          "base_uri": "https://localhost:8080/",
          "height": 599
        },
        "id": "FvjUGiv9aGHk",
        "outputId": "4e473902-ddae-4290-837a-7fb48d95c080"
      },
      "execution_count": null,
      "outputs": [
        {
          "output_type": "display_data",
          "data": {
            "text/plain": [
              "<Figure size 800x600 with 1 Axes>"
            ],
            "image/png": "[encoded data removed]"
          },
          "metadata": {}
        },
        {
          "output_type": "stream",
          "name": "stdout",
          "text": [
            "Training MSE = 0.2513822697736363\n",
            "Validation MSE = 0.24876916656982545\n"
          ]
        }
      ]
    },
    {
      "cell_type": "code",
      "source": [
        "import gcsfs\n",
        "\n",
        "# Save the model locally\n",
        "model_filename = \"best_parameters_autoencoder.h5\"\n",
        "final_model.save(model_filename)\n",
        "\n",
        "# Create a GCS filesystem object using your project ID\n",
        "fs = gcsfs.GCSFileSystem(project='autoencoder_census')\n",
        "\n",
        "# Define the path to the file on GCS\n",
        "gcs_model_path = \"gs://autoencoder_census_models/best_parameters_autoencoder.h5\"\n",
        "\n",
        "# Open the local file in binary mode and upload its content to GCS\n",
        "with open(model_filename, 'rb') as local_file:\n",
        "    with fs.open(gcs_model_path, 'wb') as gcs_file:\n",
        "        gcs_file.write(local_file.read())\n"
      ],
      "metadata": {
        "id": "AU-4m0_m4pzY"
      },
      "execution_count": null,
      "outputs": []
    },
    {
      "cell_type": "code",
      "source": [
        "\n",
        "\n",
        "# Store the hyperparameters and evaluation metrics in a dictionary\n",
        "hyperparameters_dict = {\"learning_rate\": best_hps.get('learning_rate'),\n",
        "                        \"batch_size\": best_hps.get('batch_size'),\n",
        "                        \"num_epochs\": 10,\n",
        "                        \"loss\": history.history['loss'][-1],\n",
        "                        \"val_loss\": history.history['val_loss'][-1]}"
      ],
      "metadata": {
        "id": "jMEhtaZvi9eU"
      },
      "execution_count": null,
      "outputs": []
    }
  ],
  "metadata": {
    "colab": {
      "provenance": [],
      "gpuType": "T4",
      "include_colab_link": true
    },
    "kernelspec": {
      "display_name": "Python 3",
      "name": "python3"
    },
    "language_info": {
      "name": "python"
    },
    "accelerator": "GPU"
  },
  "nbformat": 4,
  "nbformat_minor": 0
}