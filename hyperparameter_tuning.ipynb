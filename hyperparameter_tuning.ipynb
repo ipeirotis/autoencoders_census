{
  "cells": [
    {
      "cell_type": "markdown",
      "metadata": {
        "id": "view-in-github",
        "colab_type": "text"
      },
      "source": [
        "<a href=\"https://colab.research.google.com/github/ipeirotis/autoencoders_census/blob/main/hyperparameter_tuning.ipynb\" target=\"_parent\"><img src=\"https://colab.research.google.com/assets/colab-badge.svg\" alt=\"Open In Colab\"/></a>"
      ]
    },
    {
      "cell_type": "markdown",
      "source": [
        "# **Autoencoders and Data Quality for Tabular Data**\n",
        "\n",
        "This notebook searches the parameter space to create the best possible architecture for our autoencoder and saves the file into a Google Storage Bucket."
      ],
      "metadata": {
        "id": "9K3IqN1rReVp"
      }
    },
    {
      "cell_type": "code",
      "source": [
        "!rm -rf autoencoders_census\n",
        "!git clone https://github.com/ipeirotis/autoencoders_census.git\n",
        "%cd autoencoders_census"
      ],
      "metadata": {
        "id": "5xeAY39sz-rF",
        "outputId": "57a964f2-b7bb-4c84-8ca2-f75b3549779d",
        "colab": {
          "base_uri": "https://localhost:8080/"
        }
      },
      "execution_count": 2,
      "outputs": [
        {
          "output_type": "stream",
          "name": "stdout",
          "text": [
            "Cloning into 'autoencoders_census'...\n",
            "remote: Enumerating objects: 349, done.\u001b[K\n",
            "remote: Counting objects: 100% (226/226), done.\u001b[K\n",
            "remote: Compressing objects: 100% (154/154), done.\u001b[K\n",
            "remote: Total 349 (delta 136), reused 123 (delta 72), pack-reused 123\u001b[K\n",
            "Receiving objects: 100% (349/349), 32.72 MiB | 9.12 MiB/s, done.\n",
            "Resolving deltas: 100% (202/202), done.\n",
            "/content/autoencoders_census\n"
          ]
        }
      ]
    },
    {
      "cell_type": "code",
      "source": [
        "from google.colab import auth\n",
        "\n",
        "# Login using the account that has access to the Google project\n",
        "# in order to access the resources for the project\n",
        "auth.authenticate_user()"
      ],
      "metadata": {
        "id": "yPY1_oSpyDTj"
      },
      "execution_count": 3,
      "outputs": []
    },
    {
      "cell_type": "code",
      "source": [
        "!pip install -q import_ipynb keras-tuner\n",
        "import import_ipynb\n",
        "from pandas2vector import Table2Vector\n",
        "from data_loader import DataLoader\n",
        "from autoencoder import AutoencoderModel"
      ],
      "metadata": {
        "id": "Ex9evWOZ0DF3",
        "outputId": "70ae7268-20eb-4f23-b2da-5ef3e4c516c7",
        "colab": {
          "base_uri": "https://localhost:8080/"
        }
      },
      "execution_count": 4,
      "outputs": [
        {
          "output_type": "stream",
          "name": "stdout",
          "text": [
            "\u001b[2K     \u001b[90m━━━━━━━━━━━━━━━━━━━━━━━━━━━━━━━━━━━━━━━\u001b[0m \u001b[32m176.1/176.1 kB\u001b[0m \u001b[31m3.2 MB/s\u001b[0m eta \u001b[36m0:00:00\u001b[0m\n",
            "\u001b[2K     \u001b[90m━━━━━━━━━━━━━━━━━━━━━━━━━━━━━━━━━━━━━━━━\u001b[0m \u001b[32m1.6/1.6 MB\u001b[0m \u001b[31m63.0 MB/s\u001b[0m eta \u001b[36m0:00:00\u001b[0m\n",
            "\u001b[?25himporting Jupyter notebook from pandas2vector.ipynb\n",
            "importing Jupyter notebook from data_loader.ipynb\n",
            "importing Jupyter notebook from autoencoder.ipynb\n",
            "Requirement already satisfied: keras-tuner in /usr/local/lib/python3.10/dist-packages (1.3.5)\n",
            "Requirement already satisfied: packaging in /usr/local/lib/python3.10/dist-packages (from keras-tuner) (23.1)\n",
            "Requirement already satisfied: requests in /usr/local/lib/python3.10/dist-packages (from keras-tuner) (2.31.0)\n",
            "Requirement already satisfied: kt-legacy in /usr/local/lib/python3.10/dist-packages (from keras-tuner) (1.0.5)\n",
            "Requirement already satisfied: charset-normalizer<4,>=2 in /usr/local/lib/python3.10/dist-packages (from requests->keras-tuner) (3.2.0)\n",
            "Requirement already satisfied: idna<4,>=2.5 in /usr/local/lib/python3.10/dist-packages (from requests->keras-tuner) (3.4)\n",
            "Requirement already satisfied: urllib3<3,>=1.21.1 in /usr/local/lib/python3.10/dist-packages (from requests->keras-tuner) (2.0.4)\n",
            "Requirement already satisfied: certifi>=2017.4.17 in /usr/local/lib/python3.10/dist-packages (from requests->keras-tuner) (2023.7.22)\n"
          ]
        }
      ]
    },
    {
      "cell_type": "markdown",
      "source": [
        "# Data Source\n",
        "\n",
        "The used data stems from the Youth Risk Behavior Surveillance System by CDC (Centers for Disease Control and Prevention). It includes data on a set of surveys that track behaviors that can lead to poor health in students grades 9 through 12. [Here](https://www.cdc.gov/healthyyouth/data/yrbs/data.htm) is the link to the dataset.\n",
        "\n",
        "Note: The dataset is updated every two years. We use the 2017 version of the national high school YRBS dataset."
      ],
      "metadata": {
        "id": "dIKX1fZeEwml"
      }
    },
    {
      "cell_type": "markdown",
      "source": [
        "## Libraries"
      ],
      "metadata": {
        "id": "KzyIVNMp_xzs"
      }
    },
    {
      "cell_type": "code",
      "source": [
        "import matplotlib.pyplot as plt\n",
        "import seaborn as sns\n",
        "import numpy as np\n",
        "import pandas as pd\n",
        "import tensorflow as tf\n",
        "from tensorflow import keras"
      ],
      "metadata": {
        "id": "ehzw09wzq97i"
      },
      "execution_count": 5,
      "outputs": []
    },
    {
      "cell_type": "markdown",
      "source": [
        "# Load Original Dataset"
      ],
      "metadata": {
        "id": "ixwUP7RmrXk4"
      }
    },
    {
      "cell_type": "code",
      "source": [
        "# Data Source\n",
        "data_loader = DataLoader()\n"
      ],
      "metadata": {
        "id": "aYREUl3F0Krs"
      },
      "execution_count": 6,
      "outputs": []
    },
    {
      "cell_type": "code",
      "source": [
        "project_data, variable_types  = data_loader.load_2017()"
      ],
      "metadata": {
        "id": "PZuw8q6bygGA"
      },
      "execution_count": 7,
      "outputs": []
    },
    {
      "cell_type": "code",
      "execution_count": 8,
      "metadata": {
        "id": "Jcx7nyTXPyvm",
        "colab": {
          "base_uri": "https://localhost:8080/"
        },
        "outputId": "387115ad-d10e-42cf-bdc9-b07b8a8e2f12"
      },
      "outputs": [
        {
          "output_type": "execute_result",
          "data": {
            "text/plain": [
              "(14765, 98)"
            ]
          },
          "metadata": {},
          "execution_count": 8
        }
      ],
      "source": [
        "project_data.shape"
      ]
    },
    {
      "cell_type": "markdown",
      "source": [
        "# Transforming the original data set"
      ],
      "metadata": {
        "id": "EIe0-IpKoD7D"
      }
    },
    {
      "cell_type": "code",
      "source": [
        "# Data Transformation\n",
        "vectorizer = Table2Vector(variable_types)\n",
        "\n",
        "\n",
        "# Without indicator variables for missingness\n",
        "vectorized_df = vectorizer.vectorize_table(project_data)"
      ],
      "metadata": {
        "id": "x__x4uYp13zZ"
      },
      "execution_count": 9,
      "outputs": []
    },
    {
      "cell_type": "code",
      "source": [
        "vectorized_df.shape"
      ],
      "metadata": {
        "id": "AgNQzWeK2S4x",
        "outputId": "4739321d-5785-4f4a-a73d-f68ebda9f0b4",
        "colab": {
          "base_uri": "https://localhost:8080/"
        }
      },
      "execution_count": 10,
      "outputs": [
        {
          "output_type": "execute_result",
          "data": {
            "text/plain": [
              "(14765, 607)"
            ]
          },
          "metadata": {},
          "execution_count": 10
        }
      ]
    },
    {
      "cell_type": "code",
      "source": [
        "vectorizer.tabularize_vector(vectorized_df).shape"
      ],
      "metadata": {
        "id": "gowOjPGAHRI3",
        "outputId": "8e36e844-5388-43c0-8255-842f7f0d0818",
        "colab": {
          "base_uri": "https://localhost:8080/"
        }
      },
      "execution_count": 11,
      "outputs": [
        {
          "output_type": "execute_result",
          "data": {
            "text/plain": [
              "(14765, 98)"
            ]
          },
          "metadata": {},
          "execution_count": 11
        }
      ]
    },
    {
      "cell_type": "markdown",
      "source": [
        "# Autoencoder training"
      ],
      "metadata": {
        "id": "Gq2Q4-y7qHll"
      }
    },
    {
      "cell_type": "markdown",
      "source": [
        "## Hyperparameter search and model training"
      ],
      "metadata": {
        "id": "mfs9eS6P8qID"
      }
    },
    {
      "cell_type": "markdown",
      "source": [
        "The training of an autoencoder model while effectively handling missing data with mask variables."
      ],
      "metadata": {
        "id": "Ls6VIG74QtWC"
      }
    },
    {
      "cell_type": "code",
      "source": [
        "project_data.describe().T"
      ],
      "metadata": {
        "id": "t4-m9zLH9nzh",
        "outputId": "f5c98d94-5398-42d0-ecdd-19ee0b7f914b",
        "colab": {
          "base_uri": "https://localhost:8080/",
          "height": 424
        }
      },
      "execution_count": 12,
      "outputs": [
        {
          "output_type": "execute_result",
          "data": {
            "text/plain": [
              "                    count unique           top   freq\n",
              "age                 14765      8  16 years old   3688\n",
              "sex                 14765      3        Female   7526\n",
              "grade               14765      5           9th   3921\n",
              "Hispanic_or_Latino  14765      5         White   6261\n",
              "race                14765      8         White   6261\n",
              "...                   ...    ...           ...    ...\n",
              "weight_cat          14765      2        normal  14428\n",
              "stheight_cat        14765      4        normal  13127\n",
              "stweight_cat        14765      3        normal  12955\n",
              "bmi_cat             14765      4        normal  13037\n",
              "bmipct_cat          14765      2        normal  13146\n",
              "\n",
              "[98 rows x 4 columns]"
            ],
            "text/html": [
              "\n",
              "  <div id=\"df-171ea184-f993-49b2-9e53-78800fa0f1b9\" class=\"colab-df-container\">\n",
              "    <div>\n",
              "<style scoped>\n",
              "    .dataframe tbody tr th:only-of-type {\n",
              "        vertical-align: middle;\n",
              "    }\n",
              "\n",
              "    .dataframe tbody tr th {\n",
              "        vertical-align: top;\n",
              "    }\n",
              "\n",
              "    .dataframe thead th {\n",
              "        text-align: right;\n",
              "    }\n",
              "</style>\n",
              "<table border=\"1\" class=\"dataframe\">\n",
              "  <thead>\n",
              "    <tr style=\"text-align: right;\">\n",
              "      <th></th>\n",
              "      <th>count</th>\n",
              "      <th>unique</th>\n",
              "      <th>top</th>\n",
              "      <th>freq</th>\n",
              "    </tr>\n",
              "  </thead>\n",
              "  <tbody>\n",
              "    <tr>\n",
              "      <th>age</th>\n",
              "      <td>14765</td>\n",
              "      <td>8</td>\n",
              "      <td>16 years old</td>\n",
              "      <td>3688</td>\n",
              "    </tr>\n",
              "    <tr>\n",
              "      <th>sex</th>\n",
              "      <td>14765</td>\n",
              "      <td>3</td>\n",
              "      <td>Female</td>\n",
              "      <td>7526</td>\n",
              "    </tr>\n",
              "    <tr>\n",
              "      <th>grade</th>\n",
              "      <td>14765</td>\n",
              "      <td>5</td>\n",
              "      <td>9th</td>\n",
              "      <td>3921</td>\n",
              "    </tr>\n",
              "    <tr>\n",
              "      <th>Hispanic_or_Latino</th>\n",
              "      <td>14765</td>\n",
              "      <td>5</td>\n",
              "      <td>White</td>\n",
              "      <td>6261</td>\n",
              "    </tr>\n",
              "    <tr>\n",
              "      <th>race</th>\n",
              "      <td>14765</td>\n",
              "      <td>8</td>\n",
              "      <td>White</td>\n",
              "      <td>6261</td>\n",
              "    </tr>\n",
              "    <tr>\n",
              "      <th>...</th>\n",
              "      <td>...</td>\n",
              "      <td>...</td>\n",
              "      <td>...</td>\n",
              "      <td>...</td>\n",
              "    </tr>\n",
              "    <tr>\n",
              "      <th>weight_cat</th>\n",
              "      <td>14765</td>\n",
              "      <td>2</td>\n",
              "      <td>normal</td>\n",
              "      <td>14428</td>\n",
              "    </tr>\n",
              "    <tr>\n",
              "      <th>stheight_cat</th>\n",
              "      <td>14765</td>\n",
              "      <td>4</td>\n",
              "      <td>normal</td>\n",
              "      <td>13127</td>\n",
              "    </tr>\n",
              "    <tr>\n",
              "      <th>stweight_cat</th>\n",
              "      <td>14765</td>\n",
              "      <td>3</td>\n",
              "      <td>normal</td>\n",
              "      <td>12955</td>\n",
              "    </tr>\n",
              "    <tr>\n",
              "      <th>bmi_cat</th>\n",
              "      <td>14765</td>\n",
              "      <td>4</td>\n",
              "      <td>normal</td>\n",
              "      <td>13037</td>\n",
              "    </tr>\n",
              "    <tr>\n",
              "      <th>bmipct_cat</th>\n",
              "      <td>14765</td>\n",
              "      <td>2</td>\n",
              "      <td>normal</td>\n",
              "      <td>13146</td>\n",
              "    </tr>\n",
              "  </tbody>\n",
              "</table>\n",
              "<p>98 rows × 4 columns</p>\n",
              "</div>\n",
              "    <div class=\"colab-df-buttons\">\n",
              "\n",
              "  <div class=\"colab-df-container\">\n",
              "    <button class=\"colab-df-convert\" onclick=\"convertToInteractive('df-171ea184-f993-49b2-9e53-78800fa0f1b9')\"\n",
              "            title=\"Convert this dataframe to an interactive table.\"\n",
              "            style=\"display:none;\">\n",
              "\n",
              "  <svg xmlns=\"http://www.w3.org/2000/svg\" height=\"24px\" viewBox=\"0 -960 960 960\">\n",
              "    <path d=\"M120-120v-720h720v720H120Zm60-500h600v-160H180v160Zm220 220h160v-160H400v160Zm0 220h160v-160H400v160ZM180-400h160v-160H180v160Zm440 0h160v-160H620v160ZM180-180h160v-160H180v160Zm440 0h160v-160H620v160Z\"/>\n",
              "  </svg>\n",
              "    </button>\n",
              "\n",
              "  <style>\n",
              "    .colab-df-container {\n",
              "      display:flex;\n",
              "      gap: 12px;\n",
              "    }\n",
              "\n",
              "    .colab-df-convert {\n",
              "      background-color: #E8F0FE;\n",
              "      border: none;\n",
              "      border-radius: 50%;\n",
              "      cursor: pointer;\n",
              "      display: none;\n",
              "      fill: #1967D2;\n",
              "      height: 32px;\n",
              "      padding: 0 0 0 0;\n",
              "      width: 32px;\n",
              "    }\n",
              "\n",
              "    .colab-df-convert:hover {\n",
              "      background-color: #E2EBFA;\n",
              "      box-shadow: 0px 1px 2px rgba(60, 64, 67, 0.3), 0px 1px 3px 1px rgba(60, 64, 67, 0.15);\n",
              "      fill: #174EA6;\n",
              "    }\n",
              "\n",
              "    .colab-df-buttons div {\n",
              "      margin-bottom: 4px;\n",
              "    }\n",
              "\n",
              "    [theme=dark] .colab-df-convert {\n",
              "      background-color: #3B4455;\n",
              "      fill: #D2E3FC;\n",
              "    }\n",
              "\n",
              "    [theme=dark] .colab-df-convert:hover {\n",
              "      background-color: #434B5C;\n",
              "      box-shadow: 0px 1px 3px 1px rgba(0, 0, 0, 0.15);\n",
              "      filter: drop-shadow(0px 1px 2px rgba(0, 0, 0, 0.3));\n",
              "      fill: #FFFFFF;\n",
              "    }\n",
              "  </style>\n",
              "\n",
              "    <script>\n",
              "      const buttonEl =\n",
              "        document.querySelector('#df-171ea184-f993-49b2-9e53-78800fa0f1b9 button.colab-df-convert');\n",
              "      buttonEl.style.display =\n",
              "        google.colab.kernel.accessAllowed ? 'block' : 'none';\n",
              "\n",
              "      async function convertToInteractive(key) {\n",
              "        const element = document.querySelector('#df-171ea184-f993-49b2-9e53-78800fa0f1b9');\n",
              "        const dataTable =\n",
              "          await google.colab.kernel.invokeFunction('convertToInteractive',\n",
              "                                                    [key], {});\n",
              "        if (!dataTable) return;\n",
              "\n",
              "        const docLinkHtml = 'Like what you see? Visit the ' +\n",
              "          '<a target=\"_blank\" href=https://colab.research.google.com/notebooks/data_table.ipynb>data table notebook</a>'\n",
              "          + ' to learn more about interactive tables.';\n",
              "        element.innerHTML = '';\n",
              "        dataTable['output_type'] = 'display_data';\n",
              "        await google.colab.output.renderOutput(dataTable, element);\n",
              "        const docLink = document.createElement('div');\n",
              "        docLink.innerHTML = docLinkHtml;\n",
              "        element.appendChild(docLink);\n",
              "      }\n",
              "    </script>\n",
              "  </div>\n",
              "\n",
              "\n",
              "<div id=\"df-b4492331-2d69-48e7-99aa-b75ed94f3e30\">\n",
              "  <button class=\"colab-df-quickchart\" onclick=\"quickchart('df-b4492331-2d69-48e7-99aa-b75ed94f3e30')\"\n",
              "            title=\"Suggest charts.\"\n",
              "            style=\"display:none;\">\n",
              "\n",
              "<svg xmlns=\"http://www.w3.org/2000/svg\" height=\"24px\"viewBox=\"0 0 24 24\"\n",
              "     width=\"24px\">\n",
              "    <g>\n",
              "        <path d=\"M19 3H5c-1.1 0-2 .9-2 2v14c0 1.1.9 2 2 2h14c1.1 0 2-.9 2-2V5c0-1.1-.9-2-2-2zM9 17H7v-7h2v7zm4 0h-2V7h2v10zm4 0h-2v-4h2v4z\"/>\n",
              "    </g>\n",
              "</svg>\n",
              "  </button>\n",
              "\n",
              "<style>\n",
              "  .colab-df-quickchart {\n",
              "      --bg-color: #E8F0FE;\n",
              "      --fill-color: #1967D2;\n",
              "      --hover-bg-color: #E2EBFA;\n",
              "      --hover-fill-color: #174EA6;\n",
              "      --disabled-fill-color: #AAA;\n",
              "      --disabled-bg-color: #DDD;\n",
              "  }\n",
              "\n",
              "  [theme=dark] .colab-df-quickchart {\n",
              "      --bg-color: #3B4455;\n",
              "      --fill-color: #D2E3FC;\n",
              "      --hover-bg-color: #434B5C;\n",
              "      --hover-fill-color: #FFFFFF;\n",
              "      --disabled-bg-color: #3B4455;\n",
              "      --disabled-fill-color: #666;\n",
              "  }\n",
              "\n",
              "  .colab-df-quickchart {\n",
              "    background-color: var(--bg-color);\n",
              "    border: none;\n",
              "    border-radius: 50%;\n",
              "    cursor: pointer;\n",
              "    display: none;\n",
              "    fill: var(--fill-color);\n",
              "    height: 32px;\n",
              "    padding: 0;\n",
              "    width: 32px;\n",
              "  }\n",
              "\n",
              "  .colab-df-quickchart:hover {\n",
              "    background-color: var(--hover-bg-color);\n",
              "    box-shadow: 0 1px 2px rgba(60, 64, 67, 0.3), 0 1px 3px 1px rgba(60, 64, 67, 0.15);\n",
              "    fill: var(--button-hover-fill-color);\n",
              "  }\n",
              "\n",
              "  .colab-df-quickchart-complete:disabled,\n",
              "  .colab-df-quickchart-complete:disabled:hover {\n",
              "    background-color: var(--disabled-bg-color);\n",
              "    fill: var(--disabled-fill-color);\n",
              "    box-shadow: none;\n",
              "  }\n",
              "\n",
              "  .colab-df-spinner {\n",
              "    border: 2px solid var(--fill-color);\n",
              "    border-color: transparent;\n",
              "    border-bottom-color: var(--fill-color);\n",
              "    animation:\n",
              "      spin 1s steps(1) infinite;\n",
              "  }\n",
              "\n",
              "  @keyframes spin {\n",
              "    0% {\n",
              "      border-color: transparent;\n",
              "      border-bottom-color: var(--fill-color);\n",
              "      border-left-color: var(--fill-color);\n",
              "    }\n",
              "    20% {\n",
              "      border-color: transparent;\n",
              "      border-left-color: var(--fill-color);\n",
              "      border-top-color: var(--fill-color);\n",
              "    }\n",
              "    30% {\n",
              "      border-color: transparent;\n",
              "      border-left-color: var(--fill-color);\n",
              "      border-top-color: var(--fill-color);\n",
              "      border-right-color: var(--fill-color);\n",
              "    }\n",
              "    40% {\n",
              "      border-color: transparent;\n",
              "      border-right-color: var(--fill-color);\n",
              "      border-top-color: var(--fill-color);\n",
              "    }\n",
              "    60% {\n",
              "      border-color: transparent;\n",
              "      border-right-color: var(--fill-color);\n",
              "    }\n",
              "    80% {\n",
              "      border-color: transparent;\n",
              "      border-right-color: var(--fill-color);\n",
              "      border-bottom-color: var(--fill-color);\n",
              "    }\n",
              "    90% {\n",
              "      border-color: transparent;\n",
              "      border-bottom-color: var(--fill-color);\n",
              "    }\n",
              "  }\n",
              "</style>\n",
              "\n",
              "  <script>\n",
              "    async function quickchart(key) {\n",
              "      const quickchartButtonEl =\n",
              "        document.querySelector('#' + key + ' button');\n",
              "      quickchartButtonEl.disabled = true;  // To prevent multiple clicks.\n",
              "      quickchartButtonEl.classList.add('colab-df-spinner');\n",
              "      try {\n",
              "        const charts = await google.colab.kernel.invokeFunction(\n",
              "            'suggestCharts', [key], {});\n",
              "      } catch (error) {\n",
              "        console.error('Error during call to suggestCharts:', error);\n",
              "      }\n",
              "      quickchartButtonEl.classList.remove('colab-df-spinner');\n",
              "      quickchartButtonEl.classList.add('colab-df-quickchart-complete');\n",
              "    }\n",
              "    (() => {\n",
              "      let quickchartButtonEl =\n",
              "        document.querySelector('#df-b4492331-2d69-48e7-99aa-b75ed94f3e30 button');\n",
              "      quickchartButtonEl.style.display =\n",
              "        google.colab.kernel.accessAllowed ? 'block' : 'none';\n",
              "    })();\n",
              "  </script>\n",
              "</div>\n",
              "\n",
              "    </div>\n",
              "  </div>\n"
            ]
          },
          "metadata": {},
          "execution_count": 12
        }
      ]
    },
    {
      "cell_type": "code",
      "source": [
        "attr_cardinalities = list(project_data.describe().T['unique'].values)\n",
        "print(attr_cardinalities)"
      ],
      "metadata": {
        "id": "KGM4egsikQKM",
        "outputId": "74670958-8621-409a-eb6a-e5e014f55a25",
        "colab": {
          "base_uri": "https://localhost:8080/"
        }
      },
      "execution_count": 13,
      "outputs": [
        {
          "output_type": "stream",
          "name": "stdout",
          "text": [
            "[8, 3, 5, 5, 8, 3, 3, 5, 5, 5, 4, 5, 4, 6, 6, 7, 9, 6, 6, 6, 9, 9, 9, 3, 7, 7, 3, 3, 3, 3, 3, 6, 4, 3, 8, 8, 3, 8, 8, 8, 8, 8, 9, 9, 8, 8, 7, 7, 7, 7, 7, 7, 7, 7, 4, 3, 3, 9, 8, 9, 4, 4, 9, 6, 5, 8, 8, 8, 8, 8, 8, 8, 8, 9, 9, 8, 8, 7, 5, 4, 6, 4, 8, 8, 7, 8, 8, 4, 9, 7, 7, 3, 5, 2, 4, 3, 4, 2]\n"
          ]
        }
      ]
    },
    {
      "cell_type": "code",
      "source": [
        "# Instantiate the class\n",
        "model = AutoencoderModel(attr_cardinalities)\n",
        "# Preprocess the data\n",
        "X_train, X_test = model.split_train_test(vectorized_df)\n",
        "\n",
        "# Define the search space\n",
        "\n",
        "# how many times to run with the same configuration: offers better statistical significance\n",
        "model.EXECUTIONS_PER_TRIAL=1\n",
        "\n",
        "# how many runs over the training data: the more the better accuracy but takes time\n",
        "model.EPOCHS=3\n",
        "\n",
        "# how many different parameter configurations to try\n",
        "model.MAX_TRIALS=10\n",
        "\n"
      ],
      "metadata": {
        "id": "EpoiRJWKySEb"
      },
      "execution_count": 14,
      "outputs": []
    },
    {
      "cell_type": "code",
      "source": [
        "# Define the tuner\n",
        "tuner = model.define_tuner()\n",
        "\n",
        "# Perform hyperparameter search\n",
        "tuner.search(X_train, X_train, epochs=model.EPOCHS,\n",
        "             batch_size=64,\n",
        "             validation_data=(X_test, X_test))\n",
        "\n",
        "# Get the best hyperparameters and build the final model\n",
        "best_hps = tuner.get_best_hyperparameters()[0]\n",
        "final_model = model.build_autoencoder(best_hps)"
      ],
      "metadata": {
        "colab": {
          "base_uri": "https://localhost:8080/"
        },
        "id": "rdQuBFGYBL9K",
        "outputId": "45967a82-7597-4808-f12c-3240d9f84c4c"
      },
      "execution_count": 15,
      "outputs": [
        {
          "output_type": "stream",
          "name": "stdout",
          "text": [
            "Trial 10 Complete [00h 01m 39s]\n",
            "val_loss: 15.402154922485352\n",
            "\n",
            "Best val_loss So Far: 0.5263448357582092\n",
            "Total elapsed time: 00h 16m 25s\n"
          ]
        }
      ]
    },
    {
      "cell_type": "code",
      "source": [
        "best_hps.values"
      ],
      "metadata": {
        "id": "ZDJNReL_XpYp"
      },
      "execution_count": null,
      "outputs": []
    },
    {
      "cell_type": "code",
      "source": [
        "# Train the final model\n",
        "history = final_model.fit(X_train, X_train,\n",
        "                           epochs=100*model.EPOCHS,\n",
        "                           verbose=1,\n",
        "                           validation_data=(X_test, X_test))"
      ],
      "metadata": {
        "id": "kpreQbv5-PBb"
      },
      "execution_count": null,
      "outputs": []
    },
    {
      "cell_type": "markdown",
      "source": [
        "Visualize the training and validation loss values over epochs."
      ],
      "metadata": {
        "id": "ypmzVSeefKbq"
      }
    },
    {
      "cell_type": "code",
      "source": [
        "def model_analysis(train_loss, val_loss):\n",
        "    epochs = range(1, len(train_loss) + 1)\n",
        "\n",
        "    plt.figure(figsize=(8, 6))\n",
        "    plt.title(\"Cross categorical entropy loss\")\n",
        "    sns.lineplot(x=epochs[1:], y=train_loss[1:], label=\"Train\", linewidth=3)\n",
        "    sns.lineplot(x=epochs[1:], y=val_loss[1:], label=\"Validation\", linewidth=3)\n",
        "    plt.xlabel(\"Epochs\")\n",
        "\n",
        "    plt.legend()\n",
        "    plt.show()\n",
        "\n",
        "    print(f\"Training = {(train_loss[-1])}\")\n",
        "    print(f\"Validation = {(val_loss[-1])}\")\n",
        "\n",
        "model_analysis(history.history['loss'], history.history['val_loss'])"
      ],
      "metadata": {
        "id": "FvjUGiv9aGHk"
      },
      "execution_count": null,
      "outputs": []
    },
    {
      "cell_type": "code",
      "source": [
        "import gcsfs\n",
        "# Create a GCS filesystem object using your project ID\n",
        "fs = gcsfs.GCSFileSystem(project='autoencoder_census')\n",
        "\n",
        "# Save the model locally\n",
        "model_filename = \"best_parameters_autoencoder.keras\"\n",
        "final_model.save(model_filename)\n",
        "\n",
        "\n",
        "\n",
        "# Define the path to the file on GCS\n",
        "gcs_model_path = f\"gs://autoencoder_census_models/{model_filename}\"\n",
        "\n",
        "# Open the local file in binary mode and upload its content to GCS\n",
        "with open(model_filename, 'rb') as local_file:\n",
        "    with fs.open(gcs_model_path, 'wb') as gcs_file:\n",
        "        gcs_file.write(local_file.read())\n"
      ],
      "metadata": {
        "id": "AU-4m0_m4pzY"
      },
      "execution_count": null,
      "outputs": []
    },
    {
      "cell_type": "code",
      "source": [
        "\n",
        "\n",
        "# Store the hyperparameters and evaluation metrics in a dictionary\n",
        "hyperparameters_dict = {\"params\": best_hps.values,\n",
        "                        \"loss\": history.history['loss'][-1],\n",
        "                        \"val_loss\": history.history['val_loss'][-1]}\n",
        "\n",
        "hyperparameters_dict"
      ],
      "metadata": {
        "id": "jMEhtaZvi9eU"
      },
      "execution_count": null,
      "outputs": []
    }
  ],
  "metadata": {
    "colab": {
      "provenance": [],
      "gpuType": "A100",
      "machine_shape": "hm",
      "include_colab_link": true
    },
    "kernelspec": {
      "display_name": "Python 3",
      "name": "python3"
    },
    "language_info": {
      "name": "python"
    },
    "accelerator": "GPU"
  },
  "nbformat": 4,
  "nbformat_minor": 0
}