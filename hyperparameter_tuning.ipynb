{
  "cells": [
    {
      "cell_type": "markdown",
      "metadata": {
        "id": "view-in-github",
        "colab_type": "text"
      },
      "source": [
        "<a href=\"https://colab.research.google.com/github/ipeirotis/autoencoders_census/blob/main/hyperparameter_tuning.ipynb\" target=\"_parent\"><img src=\"https://colab.research.google.com/assets/colab-badge.svg\" alt=\"Open In Colab\"/></a>"
      ]
    },
    {
      "cell_type": "markdown",
      "source": [
        "# **Autoencoders and Data Quality for Tabular Data**\n",
        "\n",
        "This notebook searches the parameter space to create the best possible architecture for our autoencoder and saves the file into a Google Storage Bucket."
      ],
      "metadata": {
        "id": "9K3IqN1rReVp"
      }
    },
    {
      "cell_type": "code",
      "source": [
        "!rm -rf autoencoders_census\n",
        "!git clone https://github.com/ipeirotis/autoencoders_census.git\n",
        "%cd autoencoders_census"
      ],
      "metadata": {
        "id": "5xeAY39sz-rF",
        "outputId": "866b8e2d-e57c-4c83-c60f-9f90b462f0d0",
        "colab": {
          "base_uri": "https://localhost:8080/"
        }
      },
      "execution_count": 1,
      "outputs": [
        {
          "output_type": "stream",
          "name": "stdout",
          "text": [
            "Cloning into 'autoencoders_census'...\n",
            "remote: Enumerating objects: 211, done.\u001b[K\n",
            "remote: Counting objects: 100% (88/88), done.\u001b[K\n",
            "remote: Compressing objects: 100% (88/88), done.\u001b[K\n",
            "remote: Total 211 (delta 52), reused 0 (delta 0), pack-reused 123\u001b[K\n",
            "Receiving objects: 100% (211/211), 7.35 MiB | 16.01 MiB/s, done.\n",
            "Resolving deltas: 100% (118/118), done.\n",
            "/content/autoencoders_census\n"
          ]
        }
      ]
    },
    {
      "cell_type": "code",
      "source": [
        "from google.colab import auth\n",
        "\n",
        "# Login using the account that has access to the Google project\n",
        "# in order to access the resources for the project\n",
        "auth.authenticate_user()"
      ],
      "metadata": {
        "id": "yPY1_oSpyDTj"
      },
      "execution_count": 2,
      "outputs": []
    },
    {
      "cell_type": "code",
      "source": [
        "# This code imports the DataTransformer object from\n",
        "# the notebook pandas2vector.ipynb\n",
        "!pip install -q import_ipynb keras-tuner\n",
        "import import_ipynb\n",
        "from pandas2vector import Table2Vector\n",
        "from data_loader import DataLoader\n",
        "from autoencoder import AutoencoderModel"
      ],
      "metadata": {
        "id": "Ex9evWOZ0DF3",
        "outputId": "cc581cdc-2d6e-4a39-92eb-c6d0d7c4cc1b",
        "colab": {
          "base_uri": "https://localhost:8080/"
        }
      },
      "execution_count": 3,
      "outputs": [
        {
          "output_type": "stream",
          "name": "stdout",
          "text": [
            "\u001b[2K     \u001b[90m━━━━━━━━━━━━━━━━━━━━━━━━━━━━━━━━━━━━━━\u001b[0m \u001b[32m176.1/176.1 kB\u001b[0m \u001b[31m15.4 MB/s\u001b[0m eta \u001b[36m0:00:00\u001b[0m\n",
            "\u001b[2K     \u001b[90m━━━━━━━━━━━━━━━━━━━━━━━━━━━━━━━━━━━━━━━━\u001b[0m \u001b[32m1.6/1.6 MB\u001b[0m \u001b[31m77.2 MB/s\u001b[0m eta \u001b[36m0:00:00\u001b[0m\n",
            "\u001b[?25himporting Jupyter notebook from pandas2vector.ipynb\n",
            "importing Jupyter notebook from data_loader.ipynb\n",
            "importing Jupyter notebook from autoencoder.ipynb\n"
          ]
        }
      ]
    },
    {
      "cell_type": "markdown",
      "source": [
        "# Data Source\n",
        "\n",
        "The used data stems from the Youth Risk Behavior Surveillance System by CDC (Centers for Disease Control and Prevention). It includes data on a set of surveys that track behaviors that can lead to poor health in students grades 9 through 12. [Here](https://www.cdc.gov/healthyyouth/data/yrbs/data.htm) is the link to the dataset.\n",
        "\n",
        "Note: The dataset is updated every two years. We use the 2017 version of the national high school YRBS dataset."
      ],
      "metadata": {
        "id": "dIKX1fZeEwml"
      }
    },
    {
      "cell_type": "markdown",
      "source": [
        "## Libraries"
      ],
      "metadata": {
        "id": "KzyIVNMp_xzs"
      }
    },
    {
      "cell_type": "code",
      "source": [
        "import pandas as pd\n",
        "import numpy as np\n",
        "import matplotlib.pyplot as plt\n",
        "import seaborn as sns"
      ],
      "metadata": {
        "id": "ehzw09wzq97i"
      },
      "execution_count": 4,
      "outputs": []
    },
    {
      "cell_type": "code",
      "source": [
        "from sklearn.preprocessing import OneHotEncoder, MinMaxScaler\n",
        "from sklearn.metrics import roc_auc_score\n",
        "from sklearn.metrics import roc_curve, auc\n",
        "from sklearn.model_selection import train_test_split\n",
        "from pandas.api.types import is_numeric_dtype\n",
        "from matplotlib.offsetbox import TransformedBbox"
      ],
      "metadata": {
        "id": "U4vMhpJqrXPp"
      },
      "execution_count": 5,
      "outputs": []
    },
    {
      "cell_type": "code",
      "source": [
        "from statsmodels.distributions.empirical_distribution import ECDF\n",
        "from scipy.interpolate import interp1d\n",
        "from numpy.random import uniform\n",
        "from numpy.random import seed"
      ],
      "metadata": {
        "id": "GVwSgGeSsXB5"
      },
      "execution_count": 6,
      "outputs": []
    },
    {
      "cell_type": "code",
      "source": [
        "from keras.layers import Input\n",
        "from keras.layers import Dense\n",
        "from keras.layers import BatchNormalization\n",
        "from keras import backend as K\n",
        "from keras import Model"
      ],
      "metadata": {
        "id": "SmB8kD9ZscsW"
      },
      "execution_count": 7,
      "outputs": []
    },
    {
      "cell_type": "code",
      "source": [
        "import tensorflow as tf\n",
        "from tensorflow.random import set_seed\n",
        "from tensorflow.keras.callbacks import ModelCheckpoint, EarlyStopping\n",
        "from tensorflow import keras"
      ],
      "metadata": {
        "id": "UONh1X4nsgnH"
      },
      "execution_count": 8,
      "outputs": []
    },
    {
      "cell_type": "markdown",
      "source": [
        "# Load Original Dataset"
      ],
      "metadata": {
        "id": "ixwUP7RmrXk4"
      }
    },
    {
      "cell_type": "code",
      "source": [
        "# Data Source\n",
        "data_loader = DataLoader()\n",
        "original_df = data_loader.load_original_data()\n",
        "project_data, variable_types = data_loader.prepare_original_dataset(original_df)\n",
        "\n"
      ],
      "metadata": {
        "id": "aYREUl3F0Krs"
      },
      "execution_count": 9,
      "outputs": []
    },
    {
      "cell_type": "code",
      "source": [
        "original_df.shape"
      ],
      "metadata": {
        "id": "LRBB5eT6nt9L",
        "outputId": "536b46ea-8a2a-4f23-c4f6-84ce22759b2f",
        "colab": {
          "base_uri": "https://localhost:8080/"
        }
      },
      "execution_count": 10,
      "outputs": [
        {
          "output_type": "execute_result",
          "data": {
            "text/plain": [
              "(14765, 305)"
            ]
          },
          "metadata": {},
          "execution_count": 10
        }
      ]
    },
    {
      "cell_type": "code",
      "execution_count": 11,
      "metadata": {
        "id": "Jcx7nyTXPyvm",
        "colab": {
          "base_uri": "https://localhost:8080/"
        },
        "outputId": "7ff57b3b-bb65-4407-d37d-ceb0860ee77c"
      },
      "outputs": [
        {
          "output_type": "execute_result",
          "data": {
            "text/plain": [
              "(14765, 108)"
            ]
          },
          "metadata": {},
          "execution_count": 11
        }
      ],
      "source": [
        "project_data.shape"
      ]
    },
    {
      "cell_type": "code",
      "source": [],
      "metadata": {
        "id": "-nZoOmxioDrN"
      },
      "execution_count": 11,
      "outputs": []
    },
    {
      "cell_type": "markdown",
      "source": [
        "# Transforming the original data set"
      ],
      "metadata": {
        "id": "EIe0-IpKoD7D"
      }
    },
    {
      "cell_type": "code",
      "source": [
        "# Data Transformation\n",
        "vectorizer = Table2Vector(variable_types)\n",
        "\n",
        "\n",
        "# Without indicator variables for missingness\n",
        "vectorized_df = vectorizer.vectorize_table(project_data)"
      ],
      "metadata": {
        "id": "x__x4uYp13zZ"
      },
      "execution_count": 12,
      "outputs": []
    },
    {
      "cell_type": "code",
      "source": [
        "vectorized_df.shape"
      ],
      "metadata": {
        "id": "AgNQzWeK2S4x",
        "outputId": "14f7d9aa-e52f-497a-ba23-987a92de4a99",
        "colab": {
          "base_uri": "https://localhost:8080/"
        }
      },
      "execution_count": 13,
      "outputs": [
        {
          "output_type": "execute_result",
          "data": {
            "text/plain": [
              "(14765, 563)"
            ]
          },
          "metadata": {},
          "execution_count": 13
        }
      ]
    },
    {
      "cell_type": "code",
      "source": [
        "vectorizer.tabularize_vector(vectorized_df).shape"
      ],
      "metadata": {
        "id": "gowOjPGAHRI3",
        "outputId": "27eddfb3-34f2-472b-db44-be16583c7e23",
        "colab": {
          "base_uri": "https://localhost:8080/"
        }
      },
      "execution_count": 14,
      "outputs": [
        {
          "output_type": "execute_result",
          "data": {
            "text/plain": [
              "(14765, 108)"
            ]
          },
          "metadata": {},
          "execution_count": 14
        }
      ]
    },
    {
      "cell_type": "markdown",
      "source": [
        "# Autoencoder training"
      ],
      "metadata": {
        "id": "Gq2Q4-y7qHll"
      }
    },
    {
      "cell_type": "markdown",
      "source": [
        "## Hyperparameter search and model training"
      ],
      "metadata": {
        "id": "mfs9eS6P8qID"
      }
    },
    {
      "cell_type": "markdown",
      "source": [
        "The training of an autoencoder model while effectively handling missing data with mask variables."
      ],
      "metadata": {
        "id": "Ls6VIG74QtWC"
      }
    },
    {
      "cell_type": "code",
      "source": [
        "# Instantiate the class\n",
        "model = AutoencoderModel()\n",
        "model.EXECUTIONS_PER_TRIAL=5\n",
        "model.EPOCHS=50\n",
        "model.MAX_TRIALS=100\n",
        "\n",
        "# Preprocess the data\n",
        "X_train, X_test = model.split_train_test(vectorized_df)"
      ],
      "metadata": {
        "id": "EpoiRJWKySEb"
      },
      "execution_count": 15,
      "outputs": []
    },
    {
      "cell_type": "code",
      "source": [
        "# Define the tuner\n",
        "tuner = model.define_tuner()\n",
        "\n",
        "# Perform hyperparameter search\n",
        "tuner.search(X_train, X_train, epochs=model.EPOCHS,\n",
        "             # batch_size=model.BATCH_SIZE,\n",
        "             validation_data=(X_test, X_test))\n",
        "\n",
        "# Get the best hyperparameters and build the final model\n",
        "best_hps = tuner.get_best_hyperparameters()[0]\n",
        "final_model = model.build_autoencoder(best_hps)"
      ],
      "metadata": {
        "colab": {
          "base_uri": "https://localhost:8080/"
        },
        "id": "rdQuBFGYBL9K",
        "outputId": "b4181151-831b-42d1-b3b9-137842bc9d15"
      },
      "execution_count": 16,
      "outputs": [
        {
          "output_type": "stream",
          "name": "stdout",
          "text": [
            "Trial 20 Complete [00h 04m 06s]\n",
            "val_loss: 0.06215492387612661\n",
            "\n",
            "Best val_loss So Far: 0.061886709183454514\n",
            "Total elapsed time: 01h 22m 45s\n"
          ]
        }
      ]
    },
    {
      "cell_type": "code",
      "source": [
        "# Train the final model\n",
        "history = final_model.fit(X_train, X_train,\n",
        "                           epochs=10*model.EPOCHS,\n",
        "                           verbose=1,\n",
        "                           validation_data=(X_test, X_test))"
      ],
      "metadata": {
        "id": "kpreQbv5-PBb",
        "outputId": "b746df2e-ede0-419e-9a75-ddf028c4b28c",
        "colab": {
          "base_uri": "https://localhost:8080/"
        }
      },
      "execution_count": 17,
      "outputs": [
        {
          "output_type": "stream",
          "name": "stdout",
          "text": [
            "Epoch 1/125\n",
            "329/329 [==============================] - 7s 10ms/step - loss: 0.0994 - val_loss: 0.0762\n",
            "Epoch 2/125\n",
            "329/329 [==============================] - 3s 9ms/step - loss: 0.0704 - val_loss: 0.0692\n",
            "Epoch 3/125\n",
            "329/329 [==============================] - 3s 9ms/step - loss: 0.0692 - val_loss: 0.0684\n",
            "Epoch 4/125\n",
            "329/329 [==============================] - 3s 8ms/step - loss: 0.0683 - val_loss: 0.0667\n",
            "Epoch 5/125\n",
            "329/329 [==============================] - 3s 8ms/step - loss: 0.0677 - val_loss: 0.0661\n",
            "Epoch 6/125\n",
            "329/329 [==============================] - 3s 10ms/step - loss: 0.0672 - val_loss: 0.0659\n",
            "Epoch 7/125\n",
            "329/329 [==============================] - 3s 9ms/step - loss: 0.0667 - val_loss: 0.0649\n",
            "Epoch 8/125\n",
            "329/329 [==============================] - 3s 8ms/step - loss: 0.0663 - val_loss: 0.0648\n",
            "Epoch 9/125\n",
            "329/329 [==============================] - 3s 8ms/step - loss: 0.0659 - val_loss: 0.0644\n",
            "Epoch 10/125\n",
            "329/329 [==============================] - 3s 10ms/step - loss: 0.0655 - val_loss: 0.0640\n",
            "Epoch 11/125\n",
            "329/329 [==============================] - 3s 9ms/step - loss: 0.0654 - val_loss: 0.0638\n",
            "Epoch 12/125\n",
            "329/329 [==============================] - 3s 9ms/step - loss: 0.0651 - val_loss: 0.0636\n",
            "Epoch 13/125\n",
            "329/329 [==============================] - 3s 8ms/step - loss: 0.0648 - val_loss: 0.0639\n",
            "Epoch 14/125\n",
            "329/329 [==============================] - 3s 10ms/step - loss: 0.0647 - val_loss: 0.0632\n",
            "Epoch 15/125\n",
            "329/329 [==============================] - 3s 9ms/step - loss: 0.0646 - val_loss: 0.0630\n",
            "Epoch 16/125\n",
            "329/329 [==============================] - 3s 9ms/step - loss: 0.0645 - val_loss: 0.0634\n",
            "Epoch 17/125\n",
            "329/329 [==============================] - 3s 8ms/step - loss: 0.0643 - val_loss: 0.0634\n",
            "Epoch 18/125\n",
            "329/329 [==============================] - 3s 9ms/step - loss: 0.0642 - val_loss: 0.0629\n",
            "Epoch 19/125\n",
            "329/329 [==============================] - 3s 9ms/step - loss: 0.0642 - val_loss: 0.0627\n",
            "Epoch 20/125\n",
            "329/329 [==============================] - 3s 8ms/step - loss: 0.0639 - val_loss: 0.0627\n",
            "Epoch 21/125\n",
            "329/329 [==============================] - 3s 9ms/step - loss: 0.0637 - val_loss: 0.0627\n",
            "Epoch 22/125\n",
            "329/329 [==============================] - 3s 10ms/step - loss: 0.0638 - val_loss: 0.0626\n",
            "Epoch 23/125\n",
            "329/329 [==============================] - 3s 10ms/step - loss: 0.0637 - val_loss: 0.0629\n",
            "Epoch 24/125\n",
            "329/329 [==============================] - 3s 9ms/step - loss: 0.0635 - val_loss: 0.0624\n",
            "Epoch 25/125\n",
            "329/329 [==============================] - 3s 9ms/step - loss: 0.0634 - val_loss: 0.0624\n",
            "Epoch 26/125\n",
            "329/329 [==============================] - 3s 8ms/step - loss: 0.0633 - val_loss: 0.0623\n",
            "Epoch 27/125\n",
            "329/329 [==============================] - 3s 10ms/step - loss: 0.0633 - val_loss: 0.0620\n",
            "Epoch 28/125\n",
            "329/329 [==============================] - 3s 9ms/step - loss: 0.0632 - val_loss: 0.0621\n",
            "Epoch 29/125\n",
            "329/329 [==============================] - 3s 8ms/step - loss: 0.0631 - val_loss: 0.0621\n",
            "Epoch 30/125\n",
            "329/329 [==============================] - 3s 8ms/step - loss: 0.0631 - val_loss: 0.0620\n",
            "Epoch 31/125\n",
            "329/329 [==============================] - 4s 11ms/step - loss: 0.0630 - val_loss: 0.0619\n",
            "Epoch 32/125\n",
            "329/329 [==============================] - 3s 8ms/step - loss: 0.0630 - val_loss: 0.0621\n",
            "Epoch 33/125\n",
            "329/329 [==============================] - 3s 9ms/step - loss: 0.0629 - val_loss: 0.0618\n",
            "Epoch 34/125\n",
            "329/329 [==============================] - 3s 9ms/step - loss: 0.0628 - val_loss: 0.0619\n",
            "Epoch 35/125\n",
            "329/329 [==============================] - 3s 11ms/step - loss: 0.0627 - val_loss: 0.0618\n",
            "Epoch 36/125\n",
            "329/329 [==============================] - 3s 8ms/step - loss: 0.0628 - val_loss: 0.0617\n",
            "Epoch 37/125\n",
            "329/329 [==============================] - 3s 9ms/step - loss: 0.0626 - val_loss: 0.0617\n",
            "Epoch 38/125\n",
            "329/329 [==============================] - 3s 9ms/step - loss: 0.0626 - val_loss: 0.0615\n",
            "Epoch 39/125\n",
            "329/329 [==============================] - 3s 10ms/step - loss: 0.0626 - val_loss: 0.0617\n",
            "Epoch 40/125\n",
            "329/329 [==============================] - 3s 9ms/step - loss: 0.0625 - val_loss: 0.0619\n",
            "Epoch 41/125\n",
            "329/329 [==============================] - 3s 9ms/step - loss: 0.0625 - val_loss: 0.0617\n",
            "Epoch 42/125\n",
            "329/329 [==============================] - 3s 8ms/step - loss: 0.0625 - val_loss: 0.0621\n",
            "Epoch 43/125\n",
            "329/329 [==============================] - 3s 9ms/step - loss: 0.0623 - val_loss: 0.0615\n",
            "Epoch 44/125\n",
            "329/329 [==============================] - 3s 10ms/step - loss: 0.0624 - val_loss: 0.0616\n",
            "Epoch 45/125\n",
            "329/329 [==============================] - 3s 8ms/step - loss: 0.0623 - val_loss: 0.0618\n",
            "Epoch 46/125\n",
            "329/329 [==============================] - 3s 8ms/step - loss: 0.0623 - val_loss: 0.0616\n",
            "Epoch 47/125\n",
            "329/329 [==============================] - 3s 9ms/step - loss: 0.0623 - val_loss: 0.0616\n",
            "Epoch 48/125\n",
            "329/329 [==============================] - 3s 10ms/step - loss: 0.0622 - val_loss: 0.0615\n",
            "Epoch 49/125\n",
            "329/329 [==============================] - 3s 8ms/step - loss: 0.0623 - val_loss: 0.0614\n",
            "Epoch 50/125\n",
            "329/329 [==============================] - 3s 9ms/step - loss: 0.0621 - val_loss: 0.0615\n",
            "Epoch 51/125\n",
            "329/329 [==============================] - 3s 9ms/step - loss: 0.0621 - val_loss: 0.0613\n",
            "Epoch 52/125\n",
            "329/329 [==============================] - 4s 11ms/step - loss: 0.0620 - val_loss: 0.0614\n",
            "Epoch 53/125\n",
            "329/329 [==============================] - 3s 9ms/step - loss: 0.0621 - val_loss: 0.0615\n",
            "Epoch 54/125\n",
            "329/329 [==============================] - 3s 9ms/step - loss: 0.0619 - val_loss: 0.0612\n",
            "Epoch 55/125\n",
            "329/329 [==============================] - 3s 9ms/step - loss: 0.0620 - val_loss: 0.0620\n",
            "Epoch 56/125\n",
            "329/329 [==============================] - 4s 11ms/step - loss: 0.0620 - val_loss: 0.0614\n",
            "Epoch 57/125\n",
            "329/329 [==============================] - 3s 8ms/step - loss: 0.0620 - val_loss: 0.0622\n",
            "Epoch 58/125\n",
            "329/329 [==============================] - 3s 8ms/step - loss: 0.0619 - val_loss: 0.0614\n",
            "Epoch 59/125\n",
            "329/329 [==============================] - 3s 9ms/step - loss: 0.0619 - val_loss: 0.0613\n",
            "Epoch 60/125\n",
            "329/329 [==============================] - 4s 11ms/step - loss: 0.0619 - val_loss: 0.0612\n",
            "Epoch 61/125\n",
            "329/329 [==============================] - 3s 9ms/step - loss: 0.0619 - val_loss: 0.0613\n",
            "Epoch 62/125\n",
            "329/329 [==============================] - 3s 9ms/step - loss: 0.0620 - val_loss: 0.0614\n",
            "Epoch 63/125\n",
            "329/329 [==============================] - 3s 9ms/step - loss: 0.0618 - val_loss: 0.0612\n",
            "Epoch 64/125\n",
            "329/329 [==============================] - 4s 11ms/step - loss: 0.0618 - val_loss: 0.0614\n",
            "Epoch 65/125\n",
            "329/329 [==============================] - 3s 8ms/step - loss: 0.0619 - val_loss: 0.0612\n",
            "Epoch 66/125\n",
            "329/329 [==============================] - 3s 8ms/step - loss: 0.0617 - val_loss: 0.0611\n",
            "Epoch 67/125\n",
            "329/329 [==============================] - 3s 9ms/step - loss: 0.0618 - val_loss: 0.0612\n",
            "Epoch 68/125\n",
            "329/329 [==============================] - 3s 10ms/step - loss: 0.0616 - val_loss: 0.0612\n",
            "Epoch 69/125\n",
            "329/329 [==============================] - 3s 9ms/step - loss: 0.0616 - val_loss: 0.0613\n",
            "Epoch 70/125\n",
            "329/329 [==============================] - 3s 9ms/step - loss: 0.0616 - val_loss: 0.0614\n",
            "Epoch 71/125\n",
            "329/329 [==============================] - 3s 8ms/step - loss: 0.0617 - val_loss: 0.0613\n",
            "Epoch 72/125\n",
            "329/329 [==============================] - 3s 10ms/step - loss: 0.0617 - val_loss: 0.0612\n",
            "Epoch 73/125\n",
            "329/329 [==============================] - 3s 10ms/step - loss: 0.0616 - val_loss: 0.0614\n",
            "Epoch 74/125\n",
            "329/329 [==============================] - 3s 9ms/step - loss: 0.0616 - val_loss: 0.0615\n",
            "Epoch 75/125\n",
            "329/329 [==============================] - 3s 8ms/step - loss: 0.0615 - val_loss: 0.0616\n",
            "Epoch 76/125\n",
            "329/329 [==============================] - 3s 9ms/step - loss: 0.0616 - val_loss: 0.0612\n",
            "Epoch 77/125\n",
            "329/329 [==============================] - 3s 10ms/step - loss: 0.0615 - val_loss: 0.0613\n",
            "Epoch 78/125\n",
            "329/329 [==============================] - 3s 9ms/step - loss: 0.0616 - val_loss: 0.0613\n",
            "Epoch 79/125\n",
            "329/329 [==============================] - 3s 9ms/step - loss: 0.0615 - val_loss: 0.0611\n",
            "Epoch 80/125\n",
            "329/329 [==============================] - 3s 9ms/step - loss: 0.0614 - val_loss: 0.0610\n",
            "Epoch 81/125\n",
            "329/329 [==============================] - 3s 10ms/step - loss: 0.0615 - val_loss: 0.0611\n",
            "Epoch 82/125\n",
            "329/329 [==============================] - 3s 9ms/step - loss: 0.0614 - val_loss: 0.0612\n",
            "Epoch 83/125\n",
            "329/329 [==============================] - 3s 9ms/step - loss: 0.0615 - val_loss: 0.0614\n",
            "Epoch 84/125\n",
            "329/329 [==============================] - 3s 9ms/step - loss: 0.0614 - val_loss: 0.0613\n",
            "Epoch 85/125\n",
            "329/329 [==============================] - 4s 12ms/step - loss: 0.0613 - val_loss: 0.0609\n",
            "Epoch 86/125\n",
            "329/329 [==============================] - 3s 9ms/step - loss: 0.0614 - val_loss: 0.0612\n",
            "Epoch 87/125\n",
            "329/329 [==============================] - 3s 9ms/step - loss: 0.0614 - val_loss: 0.0617\n",
            "Epoch 88/125\n",
            "329/329 [==============================] - 3s 9ms/step - loss: 0.0614 - val_loss: 0.0614\n",
            "Epoch 89/125\n",
            "329/329 [==============================] - 4s 11ms/step - loss: 0.0614 - val_loss: 0.0611\n",
            "Epoch 90/125\n",
            "329/329 [==============================] - 3s 9ms/step - loss: 0.0614 - val_loss: 0.0610\n",
            "Epoch 91/125\n",
            "329/329 [==============================] - 3s 9ms/step - loss: 0.0614 - val_loss: 0.0614\n",
            "Epoch 92/125\n",
            "329/329 [==============================] - 3s 9ms/step - loss: 0.0614 - val_loss: 0.0620\n",
            "Epoch 93/125\n",
            "329/329 [==============================] - 4s 11ms/step - loss: 0.0613 - val_loss: 0.0610\n",
            "Epoch 94/125\n",
            "329/329 [==============================] - 3s 8ms/step - loss: 0.0613 - val_loss: 0.0612\n",
            "Epoch 95/125\n",
            "329/329 [==============================] - 3s 9ms/step - loss: 0.0613 - val_loss: 0.0610\n",
            "Epoch 96/125\n",
            "329/329 [==============================] - 3s 9ms/step - loss: 0.0614 - val_loss: 0.0613\n",
            "Epoch 97/125\n",
            "329/329 [==============================] - 4s 11ms/step - loss: 0.0613 - val_loss: 0.0609\n",
            "Epoch 98/125\n",
            "329/329 [==============================] - 3s 9ms/step - loss: 0.0613 - val_loss: 0.0613\n",
            "Epoch 99/125\n",
            "329/329 [==============================] - 3s 9ms/step - loss: 0.0612 - val_loss: 0.0608\n",
            "Epoch 100/125\n",
            "329/329 [==============================] - 3s 9ms/step - loss: 0.0613 - val_loss: 0.0611\n",
            "Epoch 101/125\n",
            "329/329 [==============================] - 4s 11ms/step - loss: 0.0613 - val_loss: 0.0609\n",
            "Epoch 102/125\n",
            "329/329 [==============================] - 3s 9ms/step - loss: 0.0613 - val_loss: 0.0609\n",
            "Epoch 103/125\n",
            "329/329 [==============================] - 3s 8ms/step - loss: 0.0612 - val_loss: 0.0609\n",
            "Epoch 104/125\n",
            "329/329 [==============================] - 3s 9ms/step - loss: 0.0612 - val_loss: 0.0608\n",
            "Epoch 105/125\n",
            "329/329 [==============================] - 4s 11ms/step - loss: 0.0612 - val_loss: 0.0610\n",
            "Epoch 106/125\n",
            "329/329 [==============================] - 3s 8ms/step - loss: 0.0612 - val_loss: 0.0609\n",
            "Epoch 107/125\n",
            "329/329 [==============================] - 3s 9ms/step - loss: 0.0612 - val_loss: 0.0605\n",
            "Epoch 108/125\n",
            "329/329 [==============================] - 3s 9ms/step - loss: 0.0611 - val_loss: 0.0604\n",
            "Epoch 109/125\n",
            "329/329 [==============================] - 3s 10ms/step - loss: 0.0612 - val_loss: 0.0608\n",
            "Epoch 110/125\n",
            "329/329 [==============================] - 3s 9ms/step - loss: 0.0611 - val_loss: 0.0606\n",
            "Epoch 111/125\n",
            "329/329 [==============================] - 3s 9ms/step - loss: 0.0611 - val_loss: 0.0609\n",
            "Epoch 112/125\n",
            "329/329 [==============================] - 3s 8ms/step - loss: 0.0611 - val_loss: 0.0607\n",
            "Epoch 113/125\n",
            "329/329 [==============================] - 3s 10ms/step - loss: 0.0610 - val_loss: 0.0605\n",
            "Epoch 114/125\n",
            "329/329 [==============================] - 3s 9ms/step - loss: 0.0610 - val_loss: 0.0604\n",
            "Epoch 115/125\n",
            "329/329 [==============================] - 3s 9ms/step - loss: 0.0609 - val_loss: 0.0606\n",
            "Epoch 116/125\n",
            "329/329 [==============================] - 3s 9ms/step - loss: 0.0610 - val_loss: 0.0605\n",
            "Epoch 117/125\n",
            "329/329 [==============================] - 3s 9ms/step - loss: 0.0610 - val_loss: 0.0610\n",
            "Epoch 118/125\n",
            "329/329 [==============================] - 3s 10ms/step - loss: 0.0610 - val_loss: 0.0608\n",
            "Epoch 119/125\n",
            "329/329 [==============================] - 3s 8ms/step - loss: 0.0609 - val_loss: 0.0605\n",
            "Epoch 120/125\n",
            "329/329 [==============================] - 3s 8ms/step - loss: 0.0609 - val_loss: 0.0602\n",
            "Epoch 121/125\n",
            "329/329 [==============================] - 3s 8ms/step - loss: 0.0608 - val_loss: 0.0606\n",
            "Epoch 122/125\n",
            "329/329 [==============================] - 4s 11ms/step - loss: 0.0608 - val_loss: 0.0605\n",
            "Epoch 123/125\n",
            "329/329 [==============================] - 3s 8ms/step - loss: 0.0609 - val_loss: 0.0603\n",
            "Epoch 124/125\n",
            "329/329 [==============================] - 3s 8ms/step - loss: 0.0608 - val_loss: 0.0603\n",
            "Epoch 125/125\n",
            "329/329 [==============================] - 3s 9ms/step - loss: 0.0608 - val_loss: 0.0603\n"
          ]
        }
      ]
    },
    {
      "cell_type": "markdown",
      "source": [
        "Visualize the training and validation loss values over epochs."
      ],
      "metadata": {
        "id": "ypmzVSeefKbq"
      }
    },
    {
      "cell_type": "code",
      "source": [
        "def model_analysis(train_loss, val_loss):\n",
        "    epochs = range(1, len(train_loss) + 1)\n",
        "\n",
        "    plt.figure(figsize=(8, 6))\n",
        "    plt.title(\"Mean squared error\")\n",
        "    sns.lineplot(x=epochs, y=train_loss, label=\"Train\", linewidth=3)\n",
        "    sns.lineplot(x=epochs, y=val_loss, label=\"Validation\", linewidth=3)\n",
        "    plt.xlabel(\"Epochs\")\n",
        "\n",
        "    plt.legend()\n",
        "    plt.show()\n",
        "\n",
        "    print(f\"Training MSE = {np.sqrt(train_loss[-1])}\")\n",
        "    print(f\"Validation MSE = {np.sqrt(val_loss[-1])}\")\n",
        "\n",
        "model_analysis(history.history['loss'], history.history['val_loss'])"
      ],
      "metadata": {
        "colab": {
          "base_uri": "https://localhost:8080/",
          "height": 599
        },
        "id": "FvjUGiv9aGHk",
        "outputId": "474edebc-d7b6-436b-885c-1aa9cf790151"
      },
      "execution_count": 18,
      "outputs": [
        {
          "output_type": "display_data",
          "data": {
            "text/plain": [
              "<Figure size 800x600 with 1 Axes>"
            ],
            "image/png": "[encoded data removed]"
          },
          "metadata": {}
        },
        {
          "output_type": "stream",
          "name": "stdout",
          "text": [
            "Training MSE = 0.24654792323132316\n",
            "Validation MSE = 0.2456595511074541\n"
          ]
        }
      ]
    },
    {
      "cell_type": "code",
      "source": [
        "import gcsfs\n",
        "# Create a GCS filesystem object using your project ID\n",
        "fs = gcsfs.GCSFileSystem(project='autoencoder_census')\n",
        "\n",
        "# Save the model locally\n",
        "model_filename = \"best_parameters_autoencoder.h5\"\n",
        "final_model.save(model_filename)\n",
        "\n",
        "\n",
        "\n",
        "# Define the path to the file on GCS\n",
        "gcs_model_path = \"gs://autoencoder_census_models/best_parameters_autoencoder.h5\"\n",
        "\n",
        "# Open the local file in binary mode and upload its content to GCS\n",
        "with open(model_filename, 'rb') as local_file:\n",
        "    with fs.open(gcs_model_path, 'wb') as gcs_file:\n",
        "        gcs_file.write(local_file.read())\n"
      ],
      "metadata": {
        "id": "AU-4m0_m4pzY"
      },
      "execution_count": 19,
      "outputs": []
    },
    {
      "cell_type": "code",
      "source": [
        "\n",
        "\n",
        "# Store the hyperparameters and evaluation metrics in a dictionary\n",
        "hyperparameters_dict = {\"learning_rate\": best_hps.get('learning_rate'),\n",
        "                        \"batch_size\": best_hps.get('batch_size'),\n",
        "                        \"num_epochs\": 10,\n",
        "                        \"loss\": history.history['loss'][-1],\n",
        "                        \"val_loss\": history.history['val_loss'][-1]}"
      ],
      "metadata": {
        "id": "jMEhtaZvi9eU"
      },
      "execution_count": 20,
      "outputs": []
    }
  ],
  "metadata": {
    "colab": {
      "provenance": [],
      "gpuType": "T4",
      "include_colab_link": true
    },
    "kernelspec": {
      "display_name": "Python 3",
      "name": "python3"
    },
    "language_info": {
      "name": "python"
    },
    "accelerator": "GPU"
  },
  "nbformat": 4,
  "nbformat_minor": 0
}