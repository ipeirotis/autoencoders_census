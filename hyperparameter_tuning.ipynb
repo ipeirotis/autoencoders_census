{
  "cells": [
    {
      "cell_type": "markdown",
      "metadata": {
        "id": "view-in-github",
        "colab_type": "text"
      },
      "source": [
        "<a href=\"https://colab.research.google.com/github/ipeirotis/autoencoders_census/blob/main/hyperparameter_tuning.ipynb\" target=\"_parent\"><img src=\"https://colab.research.google.com/assets/colab-badge.svg\" alt=\"Open In Colab\"/></a>"
      ]
    },
    {
      "cell_type": "markdown",
      "source": [
        "# **Autoencoders and Data Quality for Tabular Data**\n",
        "\n",
        "This notebook searches the parameter space to create the best possible architecture for our autoencoder and saves the file into a Google Storage Bucket."
      ],
      "metadata": {
        "id": "9K3IqN1rReVp"
      }
    },
    {
      "cell_type": "code",
      "source": [
        "!rm -rf autoencoders_census\n",
        "!git clone https://github.com/ipeirotis/autoencoders_census.git\n",
        "%cd autoencoders_census"
      ],
      "metadata": {
        "id": "5xeAY39sz-rF",
        "outputId": "82b79fe9-926f-4cc0-9272-110d7540a320",
        "colab": {
          "base_uri": "https://localhost:8080/"
        }
      },
      "execution_count": 1,
      "outputs": [
        {
          "output_type": "stream",
          "name": "stdout",
          "text": [
            "Cloning into 'autoencoders_census'...\n",
            "remote: Enumerating objects: 220, done.\u001b[K\n",
            "remote: Counting objects: 100% (97/97), done.\u001b[K\n",
            "remote: Compressing objects: 100% (97/97), done.\u001b[K\n",
            "remote: Total 220 (delta 57), reused 0 (delta 0), pack-reused 123\u001b[K\n",
            "Receiving objects: 100% (220/220), 7.38 MiB | 11.07 MiB/s, done.\n",
            "Resolving deltas: 100% (123/123), done.\n",
            "/content/autoencoders_census\n"
          ]
        }
      ]
    },
    {
      "cell_type": "code",
      "source": [
        "from google.colab import auth\n",
        "\n",
        "# Login using the account that has access to the Google project\n",
        "# in order to access the resources for the project\n",
        "auth.authenticate_user()"
      ],
      "metadata": {
        "id": "yPY1_oSpyDTj"
      },
      "execution_count": 2,
      "outputs": []
    },
    {
      "cell_type": "code",
      "source": [
        "!pip install -q import_ipynb keras-tuner\n",
        "import import_ipynb\n",
        "from pandas2vector import Table2Vector\n",
        "from data_loader import DataLoader\n",
        "from autoencoder import AutoencoderModel"
      ],
      "metadata": {
        "id": "Ex9evWOZ0DF3",
        "outputId": "3b426914-7c40-4789-8458-ed7526d1441c",
        "colab": {
          "base_uri": "https://localhost:8080/"
        }
      },
      "execution_count": 3,
      "outputs": [
        {
          "output_type": "stream",
          "name": "stdout",
          "text": [
            "\u001b[?25l     \u001b[90m━━━━━━━━━━━━━━━━━━━━━━━━━━━━━━━━━━━━━━━━\u001b[0m \u001b[32m0.0/176.1 kB\u001b[0m \u001b[31m?\u001b[0m eta \u001b[36m-:--:--\u001b[0m\r\u001b[2K     \u001b[90m━━━━━━━━━━━━━━━━━━━━━━━━━━━━━━━━━━━━━━━\u001b[0m \u001b[32m176.1/176.1 kB\u001b[0m \u001b[31m9.4 MB/s\u001b[0m eta \u001b[36m0:00:00\u001b[0m\n",
            "\u001b[?25h\u001b[?25l     \u001b[90m━━━━━━━━━━━━━━━━━━━━━━━━━━━━━━━━━━━━━━━━\u001b[0m \u001b[32m0.0/1.6 MB\u001b[0m \u001b[31m?\u001b[0m eta \u001b[36m-:--:--\u001b[0m\r\u001b[2K     \u001b[90m━━━━━━━━━━━━━━━━━━━━━━━━━━━━━━━━━━━━━━━━\u001b[0m \u001b[32m1.6/1.6 MB\u001b[0m \u001b[31m72.3 MB/s\u001b[0m eta \u001b[36m0:00:00\u001b[0m\n",
            "\u001b[?25himporting Jupyter notebook from pandas2vector.ipynb\n",
            "importing Jupyter notebook from data_loader.ipynb\n",
            "importing Jupyter notebook from autoencoder.ipynb\n"
          ]
        }
      ]
    },
    {
      "cell_type": "markdown",
      "source": [
        "# Data Source\n",
        "\n",
        "The used data stems from the Youth Risk Behavior Surveillance System by CDC (Centers for Disease Control and Prevention). It includes data on a set of surveys that track behaviors that can lead to poor health in students grades 9 through 12. [Here](https://www.cdc.gov/healthyyouth/data/yrbs/data.htm) is the link to the dataset.\n",
        "\n",
        "Note: The dataset is updated every two years. We use the 2017 version of the national high school YRBS dataset."
      ],
      "metadata": {
        "id": "dIKX1fZeEwml"
      }
    },
    {
      "cell_type": "markdown",
      "source": [
        "## Libraries"
      ],
      "metadata": {
        "id": "KzyIVNMp_xzs"
      }
    },
    {
      "cell_type": "code",
      "source": [
        "import matplotlib.pyplot as plt\n",
        "import seaborn as sns\n",
        "import numpy as np\n",
        "import pandas as pd\n",
        "import tensorflow as tf\n",
        "from tensorflow import keras"
      ],
      "metadata": {
        "id": "ehzw09wzq97i"
      },
      "execution_count": 4,
      "outputs": []
    },
    {
      "cell_type": "markdown",
      "source": [
        "# Load Original Dataset"
      ],
      "metadata": {
        "id": "ixwUP7RmrXk4"
      }
    },
    {
      "cell_type": "code",
      "source": [
        "# Data Source\n",
        "data_loader = DataLoader()\n",
        "original_df = data_loader.load_original_data()\n",
        "project_data, variable_types = data_loader.prepare_original_dataset(original_df)"
      ],
      "metadata": {
        "id": "aYREUl3F0Krs"
      },
      "execution_count": 5,
      "outputs": []
    },
    {
      "cell_type": "code",
      "source": [
        "original_df.shape"
      ],
      "metadata": {
        "id": "LRBB5eT6nt9L",
        "outputId": "8d854009-af45-43a8-c0c2-0b24a8961f7f",
        "colab": {
          "base_uri": "https://localhost:8080/"
        }
      },
      "execution_count": 6,
      "outputs": [
        {
          "output_type": "execute_result",
          "data": {
            "text/plain": [
              "(14765, 305)"
            ]
          },
          "metadata": {},
          "execution_count": 6
        }
      ]
    },
    {
      "cell_type": "code",
      "execution_count": 7,
      "metadata": {
        "id": "Jcx7nyTXPyvm",
        "colab": {
          "base_uri": "https://localhost:8080/"
        },
        "outputId": "be5404e5-7579-4aca-8d98-2ea348e02997"
      },
      "outputs": [
        {
          "output_type": "execute_result",
          "data": {
            "text/plain": [
              "(14765, 108)"
            ]
          },
          "metadata": {},
          "execution_count": 7
        }
      ],
      "source": [
        "project_data.shape"
      ]
    },
    {
      "cell_type": "markdown",
      "source": [
        "# Transforming the original data set"
      ],
      "metadata": {
        "id": "EIe0-IpKoD7D"
      }
    },
    {
      "cell_type": "code",
      "source": [
        "# Data Transformation\n",
        "vectorizer = Table2Vector(variable_types)\n",
        "\n",
        "\n",
        "# Without indicator variables for missingness\n",
        "vectorized_df = vectorizer.vectorize_table(project_data)"
      ],
      "metadata": {
        "id": "x__x4uYp13zZ"
      },
      "execution_count": 8,
      "outputs": []
    },
    {
      "cell_type": "code",
      "source": [
        "vectorized_df.shape"
      ],
      "metadata": {
        "id": "AgNQzWeK2S4x",
        "outputId": "2a42dcb3-45c5-46c0-f67c-0a2e6bb9981f",
        "colab": {
          "base_uri": "https://localhost:8080/"
        }
      },
      "execution_count": 9,
      "outputs": [
        {
          "output_type": "execute_result",
          "data": {
            "text/plain": [
              "(14765, 563)"
            ]
          },
          "metadata": {},
          "execution_count": 9
        }
      ]
    },
    {
      "cell_type": "code",
      "source": [
        "vectorizer.tabularize_vector(vectorized_df).shape"
      ],
      "metadata": {
        "id": "gowOjPGAHRI3",
        "outputId": "06d6347b-853c-4cb2-f20f-65429923c935",
        "colab": {
          "base_uri": "https://localhost:8080/"
        }
      },
      "execution_count": 10,
      "outputs": [
        {
          "output_type": "execute_result",
          "data": {
            "text/plain": [
              "(14765, 108)"
            ]
          },
          "metadata": {},
          "execution_count": 10
        }
      ]
    },
    {
      "cell_type": "markdown",
      "source": [
        "# Autoencoder training"
      ],
      "metadata": {
        "id": "Gq2Q4-y7qHll"
      }
    },
    {
      "cell_type": "markdown",
      "source": [
        "## Hyperparameter search and model training"
      ],
      "metadata": {
        "id": "mfs9eS6P8qID"
      }
    },
    {
      "cell_type": "markdown",
      "source": [
        "The training of an autoencoder model while effectively handling missing data with mask variables."
      ],
      "metadata": {
        "id": "Ls6VIG74QtWC"
      }
    },
    {
      "cell_type": "code",
      "source": [
        "# Instantiate the class\n",
        "model = AutoencoderModel()\n",
        "model.EXECUTIONS_PER_TRIAL=5\n",
        "model.EPOCHS=50\n",
        "model.MAX_TRIALS=100\n",
        "\n",
        "# Preprocess the data\n",
        "X_train, X_test = model.split_train_test(vectorized_df)"
      ],
      "metadata": {
        "id": "EpoiRJWKySEb"
      },
      "execution_count": 11,
      "outputs": []
    },
    {
      "cell_type": "code",
      "source": [
        "# Define the tuner\n",
        "tuner = model.define_tuner()\n",
        "\n",
        "# Perform hyperparameter search\n",
        "tuner.search(X_train, X_train, epochs=model.EPOCHS,\n",
        "             # batch_size=model.BATCH_SIZE,\n",
        "             validation_data=(X_test, X_test))\n",
        "\n",
        "# Get the best hyperparameters and build the final model\n",
        "best_hps = tuner.get_best_hyperparameters()[0]\n",
        "final_model = model.build_autoencoder(best_hps)"
      ],
      "metadata": {
        "colab": {
          "base_uri": "https://localhost:8080/"
        },
        "id": "rdQuBFGYBL9K",
        "outputId": "7288e6b1-2a24-4b19-ce5c-39c356283c33"
      },
      "execution_count": null,
      "outputs": [
        {
          "output_type": "stream",
          "name": "stdout",
          "text": [
            "Trial 1 Complete [00h 15m 10s]\n",
            "val_loss: 0.060883885622024535\n",
            "\n",
            "Best val_loss So Far: 0.060883885622024535\n",
            "Total elapsed time: 00h 15m 10s\n",
            "\n",
            "Search: Running Trial #2\n",
            "\n",
            "Value             |Best Value So Far |Hyperparameter\n",
            "0.001             |0.001             |learning_rate\n",
            "32                |16                |batch_size\n",
            "128               |112               |encoder_units_1\n",
            "32                |48                |encoder_units_2\n",
            "256               |240               |decoder_units_1\n",
            "160               |96                |decoder_units_2\n",
            "\n",
            "Epoch 1/50\n",
            "329/329 [==============================] - 7s 9ms/step - loss: 0.0990 - val_loss: 0.0782\n",
            "Epoch 2/50\n",
            "329/329 [==============================] - 3s 8ms/step - loss: 0.0712 - val_loss: 0.0704\n",
            "Epoch 3/50\n",
            "329/329 [==============================] - 3s 10ms/step - loss: 0.0697 - val_loss: 0.0689\n",
            "Epoch 4/50\n",
            "329/329 [==============================] - 3s 8ms/step - loss: 0.0687 - val_loss: 0.0674\n",
            "Epoch 5/50\n",
            "329/329 [==============================] - 2s 8ms/step - loss: 0.0682 - val_loss: 0.0666\n",
            "Epoch 6/50\n",
            "329/329 [==============================] - 3s 8ms/step - loss: 0.0676 - val_loss: 0.0667\n",
            "Epoch 7/50\n",
            "329/329 [==============================] - 3s 10ms/step - loss: 0.0673 - val_loss: 0.0662\n",
            "Epoch 8/50\n",
            "329/329 [==============================] - 3s 9ms/step - loss: 0.0670 - val_loss: 0.0659\n",
            "Epoch 9/50\n",
            "329/329 [==============================] - 3s 8ms/step - loss: 0.0667 - val_loss: 0.0659\n",
            "Epoch 10/50\n",
            "329/329 [==============================] - 3s 8ms/step - loss: 0.0665 - val_loss: 0.0653\n",
            "Epoch 11/50\n",
            "329/329 [==============================] - 3s 8ms/step - loss: 0.0663 - val_loss: 0.0652\n",
            "Epoch 12/50\n",
            "329/329 [==============================] - 3s 10ms/step - loss: 0.0661 - val_loss: 0.0648\n",
            "Epoch 13/50\n",
            "329/329 [==============================] - 3s 8ms/step - loss: 0.0658 - val_loss: 0.0646\n",
            "Epoch 14/50\n",
            "329/329 [==============================] - 2s 7ms/step - loss: 0.0656 - val_loss: 0.0649\n",
            "Epoch 15/50\n",
            "329/329 [==============================] - 3s 8ms/step - loss: 0.0654 - val_loss: 0.0645\n",
            "Epoch 16/50\n",
            "329/329 [==============================] - 3s 10ms/step - loss: 0.0652 - val_loss: 0.0642\n",
            "Epoch 17/50\n",
            "329/329 [==============================] - 3s 8ms/step - loss: 0.0650 - val_loss: 0.0639\n",
            "Epoch 18/50\n",
            "329/329 [==============================] - 3s 8ms/step - loss: 0.0650 - val_loss: 0.0640\n",
            "Epoch 19/50\n",
            "329/329 [==============================] - 3s 8ms/step - loss: 0.0647 - val_loss: 0.0637\n",
            "Epoch 20/50\n",
            "329/329 [==============================] - 3s 8ms/step - loss: 0.0647 - val_loss: 0.0637\n",
            "Epoch 21/50\n",
            "329/329 [==============================] - 3s 11ms/step - loss: 0.0644 - val_loss: 0.0632\n",
            "Epoch 22/50\n",
            "329/329 [==============================] - 3s 8ms/step - loss: 0.0642 - val_loss: 0.0633\n",
            "Epoch 23/50\n",
            "329/329 [==============================] - 3s 8ms/step - loss: 0.0642 - val_loss: 0.0632\n",
            "Epoch 24/50\n",
            "329/329 [==============================] - 2s 8ms/step - loss: 0.0641 - val_loss: 0.0632\n",
            "Epoch 25/50\n",
            "329/329 [==============================] - 3s 10ms/step - loss: 0.0639 - val_loss: 0.0629\n",
            "Epoch 26/50\n",
            "329/329 [==============================] - 3s 9ms/step - loss: 0.0639 - val_loss: 0.0630\n",
            "Epoch 27/50\n",
            "329/329 [==============================] - 2s 7ms/step - loss: 0.0637 - val_loss: 0.0632\n",
            "Epoch 28/50\n",
            "329/329 [==============================] - 3s 8ms/step - loss: 0.0637 - val_loss: 0.0631\n",
            "Epoch 29/50\n",
            "329/329 [==============================] - 3s 8ms/step - loss: 0.0636 - val_loss: 0.0629\n",
            "Epoch 30/50\n",
            "329/329 [==============================] - 3s 10ms/step - loss: 0.0635 - val_loss: 0.0629\n",
            "Epoch 31/50\n",
            "329/329 [==============================] - 3s 8ms/step - loss: 0.0634 - val_loss: 0.0627\n",
            "Epoch 32/50\n",
            "329/329 [==============================] - 2s 8ms/step - loss: 0.0635 - val_loss: 0.0629\n",
            "Epoch 33/50\n",
            "329/329 [==============================] - 3s 8ms/step - loss: 0.0633 - val_loss: 0.0627\n",
            "Epoch 34/50\n",
            "329/329 [==============================] - 3s 9ms/step - loss: 0.0633 - val_loss: 0.0624\n",
            "Epoch 35/50\n",
            "329/329 [==============================] - 3s 9ms/step - loss: 0.0632 - val_loss: 0.0627\n",
            "Epoch 36/50\n",
            "329/329 [==============================] - 2s 7ms/step - loss: 0.0633 - val_loss: 0.0625\n",
            "Epoch 37/50\n",
            "329/329 [==============================] - 3s 9ms/step - loss: 0.0631 - val_loss: 0.0624\n",
            "Epoch 38/50\n",
            "329/329 [==============================] - 3s 8ms/step - loss: 0.0631 - val_loss: 0.0626\n",
            "Epoch 39/50\n",
            "329/329 [==============================] - 3s 10ms/step - loss: 0.0631 - val_loss: 0.0625\n",
            "Epoch 40/50\n",
            "329/329 [==============================] - 3s 8ms/step - loss: 0.0630 - val_loss: 0.0627\n",
            "Epoch 41/50\n",
            "329/329 [==============================] - 3s 8ms/step - loss: 0.0631 - val_loss: 0.0624\n",
            "Epoch 42/50\n",
            "329/329 [==============================] - 3s 8ms/step - loss: 0.0630 - val_loss: 0.0623\n",
            "Epoch 43/50\n",
            "329/329 [==============================] - 3s 9ms/step - loss: 0.0629 - val_loss: 0.0624\n",
            "Epoch 44/50\n",
            "329/329 [==============================] - 3s 9ms/step - loss: 0.0629 - val_loss: 0.0627\n",
            "Epoch 45/50\n",
            "329/329 [==============================] - 2s 8ms/step - loss: 0.0629 - val_loss: 0.0621\n",
            "Epoch 46/50\n",
            "329/329 [==============================] - 3s 8ms/step - loss: 0.0630 - val_loss: 0.0624\n",
            "Epoch 47/50\n",
            "329/329 [==============================] - 3s 8ms/step - loss: 0.0629 - val_loss: 0.0621\n",
            "Epoch 48/50\n",
            "329/329 [==============================] - 4s 11ms/step - loss: 0.0628 - val_loss: 0.0622\n",
            "Epoch 49/50\n",
            "329/329 [==============================] - 2s 8ms/step - loss: 0.0628 - val_loss: 0.0623\n",
            "Epoch 50/50\n",
            "329/329 [==============================] - 3s 8ms/step - loss: 0.0628 - val_loss: 0.0623\n",
            "Epoch 1/50\n",
            "329/329 [==============================] - 7s 11ms/step - loss: 0.0976 - val_loss: 0.0731\n",
            "Epoch 2/50\n",
            "329/329 [==============================] - 3s 8ms/step - loss: 0.0702 - val_loss: 0.0691\n",
            "Epoch 3/50\n",
            "329/329 [==============================] - 3s 8ms/step - loss: 0.0689 - val_loss: 0.0673\n",
            "Epoch 4/50\n",
            "329/329 [==============================] - 3s 8ms/step - loss: 0.0684 - val_loss: 0.0670\n",
            "Epoch 5/50\n",
            "329/329 [==============================] - 3s 10ms/step - loss: 0.0679 - val_loss: 0.0665\n",
            "Epoch 6/50\n",
            "329/329 [==============================] - 3s 8ms/step - loss: 0.0675 - val_loss: 0.0663\n",
            "Epoch 7/50\n",
            "329/329 [==============================] - 3s 8ms/step - loss: 0.0671 - val_loss: 0.0658\n",
            "Epoch 8/50\n",
            "329/329 [==============================] - 3s 8ms/step - loss: 0.0667 - val_loss: 0.0656\n",
            "Epoch 9/50\n",
            "329/329 [==============================] - 3s 8ms/step - loss: 0.0664 - val_loss: 0.0653\n",
            "Epoch 10/50\n",
            "329/329 [==============================] - 3s 9ms/step - loss: 0.0661 - val_loss: 0.0646\n",
            "Epoch 11/50\n",
            "329/329 [==============================] - 3s 8ms/step - loss: 0.0660 - val_loss: 0.0647\n",
            "Epoch 12/50\n",
            "329/329 [==============================] - 3s 8ms/step - loss: 0.0657 - val_loss: 0.0645\n",
            "Epoch 13/50\n",
            "329/329 [==============================] - 3s 8ms/step - loss: 0.0654 - val_loss: 0.0644\n",
            "Epoch 14/50\n",
            "329/329 [==============================] - 3s 9ms/step - loss: 0.0651 - val_loss: 0.0642\n",
            "Epoch 15/50\n",
            "329/329 [==============================] - 3s 8ms/step - loss: 0.0651 - val_loss: 0.0638\n",
            "Epoch 16/50\n",
            "329/329 [==============================] - 2s 7ms/step - loss: 0.0647 - val_loss: 0.0632\n",
            "Epoch 17/50\n",
            "329/329 [==============================] - 2s 7ms/step - loss: 0.0646 - val_loss: 0.0630\n",
            "Epoch 18/50\n",
            "329/329 [==============================] - 2s 7ms/step - loss: 0.0643 - val_loss: 0.0629\n",
            "Epoch 19/50\n",
            "329/329 [==============================] - 3s 10ms/step - loss: 0.0639 - val_loss: 0.0630\n",
            "Epoch 20/50\n",
            "329/329 [==============================] - 3s 8ms/step - loss: 0.0639 - val_loss: 0.0624\n",
            "Epoch 21/50\n",
            "329/329 [==============================] - 2s 7ms/step - loss: 0.0636 - val_loss: 0.0625\n",
            "Epoch 22/50\n",
            "329/329 [==============================] - 3s 8ms/step - loss: 0.0635 - val_loss: 0.0623\n",
            "Epoch 23/50\n",
            "329/329 [==============================] - 3s 8ms/step - loss: 0.0633 - val_loss: 0.0620\n",
            "Epoch 24/50\n",
            "329/329 [==============================] - 3s 10ms/step - loss: 0.0631 - val_loss: 0.0621\n",
            "Epoch 25/50\n",
            "329/329 [==============================] - 3s 8ms/step - loss: 0.0630 - val_loss: 0.0617\n",
            "Epoch 26/50\n",
            "329/329 [==============================] - 2s 8ms/step - loss: 0.0628 - val_loss: 0.0618\n",
            "Epoch 27/50\n",
            "329/329 [==============================] - 3s 8ms/step - loss: 0.0628 - val_loss: 0.0615\n",
            "Epoch 28/50\n",
            "329/329 [==============================] - 3s 9ms/step - loss: 0.0627 - val_loss: 0.0617\n",
            "Epoch 29/50\n",
            "329/329 [==============================] - 3s 9ms/step - loss: 0.0625 - val_loss: 0.0615\n",
            "Epoch 30/50\n",
            "329/329 [==============================] - 3s 8ms/step - loss: 0.0625 - val_loss: 0.0614\n",
            "Epoch 31/50\n",
            "329/329 [==============================] - 3s 8ms/step - loss: 0.0623 - val_loss: 0.0612\n",
            "Epoch 32/50\n",
            "329/329 [==============================] - 3s 8ms/step - loss: 0.0623 - val_loss: 0.0613\n",
            "Epoch 33/50\n",
            "329/329 [==============================] - 3s 11ms/step - loss: 0.0622 - val_loss: 0.0612\n",
            "Epoch 34/50\n",
            "329/329 [==============================] - 3s 8ms/step - loss: 0.0621 - val_loss: 0.0610\n",
            "Epoch 35/50\n",
            "329/329 [==============================] - 3s 8ms/step - loss: 0.0621 - val_loss: 0.0611\n",
            "Epoch 36/50\n",
            "329/329 [==============================] - 3s 8ms/step - loss: 0.0620 - val_loss: 0.0608\n",
            "Epoch 37/50\n",
            "329/329 [==============================] - 3s 10ms/step - loss: 0.0619 - val_loss: 0.0607\n",
            "Epoch 38/50\n",
            "329/329 [==============================] - 3s 8ms/step - loss: 0.0618 - val_loss: 0.0612\n",
            "Epoch 39/50\n",
            "329/329 [==============================] - 3s 8ms/step - loss: 0.0617 - val_loss: 0.0607\n",
            "Epoch 40/50\n",
            "329/329 [==============================] - 3s 9ms/step - loss: 0.0617 - val_loss: 0.0606\n",
            "Epoch 41/50\n",
            "329/329 [==============================] - 3s 8ms/step - loss: 0.0617 - val_loss: 0.0609\n",
            "Epoch 42/50\n",
            "329/329 [==============================] - 3s 10ms/step - loss: 0.0617 - val_loss: 0.0608\n",
            "Epoch 43/50\n",
            "329/329 [==============================] - 3s 8ms/step - loss: 0.0616 - val_loss: 0.0612\n",
            "Epoch 44/50\n",
            "329/329 [==============================] - 3s 8ms/step - loss: 0.0615 - val_loss: 0.0609\n",
            "Epoch 45/50\n",
            "148/329 [============>.................] - ETA: 1s - loss: 0.0615"
          ]
        }
      ]
    },
    {
      "cell_type": "code",
      "source": [
        "# Train the final model\n",
        "history = final_model.fit(X_train, X_train,\n",
        "                           epochs=10*model.EPOCHS,\n",
        "                           verbose=1,\n",
        "                           validation_data=(X_test, X_test))"
      ],
      "metadata": {
        "id": "kpreQbv5-PBb"
      },
      "execution_count": null,
      "outputs": []
    },
    {
      "cell_type": "markdown",
      "source": [
        "Visualize the training and validation loss values over epochs."
      ],
      "metadata": {
        "id": "ypmzVSeefKbq"
      }
    },
    {
      "cell_type": "code",
      "source": [
        "def model_analysis(train_loss, val_loss):\n",
        "    epochs = range(1, len(train_loss) + 1)\n",
        "\n",
        "    plt.figure(figsize=(8, 6))\n",
        "    plt.title(\"Mean squared error\")\n",
        "    sns.lineplot(x=epochs, y=train_loss, label=\"Train\", linewidth=3)\n",
        "    sns.lineplot(x=epochs, y=val_loss, label=\"Validation\", linewidth=3)\n",
        "    plt.xlabel(\"Epochs\")\n",
        "\n",
        "    plt.legend()\n",
        "    plt.show()\n",
        "\n",
        "    print(f\"Training MSE = {np.sqrt(train_loss[-1])}\")\n",
        "    print(f\"Validation MSE = {np.sqrt(val_loss[-1])}\")\n",
        "\n",
        "model_analysis(history.history['loss'], history.history['val_loss'])"
      ],
      "metadata": {
        "id": "FvjUGiv9aGHk"
      },
      "execution_count": null,
      "outputs": []
    },
    {
      "cell_type": "code",
      "source": [
        "import gcsfs\n",
        "# Create a GCS filesystem object using your project ID\n",
        "fs = gcsfs.GCSFileSystem(project='autoencoder_census')\n",
        "\n",
        "# Save the model locally\n",
        "model_filename = \"best_parameters_autoencoder.h5\"\n",
        "final_model.save(model_filename)\n",
        "\n",
        "\n",
        "\n",
        "# Define the path to the file on GCS\n",
        "gcs_model_path = \"gs://autoencoder_census_models/best_parameters_autoencoder.h5\"\n",
        "\n",
        "# Open the local file in binary mode and upload its content to GCS\n",
        "with open(model_filename, 'rb') as local_file:\n",
        "    with fs.open(gcs_model_path, 'wb') as gcs_file:\n",
        "        gcs_file.write(local_file.read())\n"
      ],
      "metadata": {
        "id": "AU-4m0_m4pzY"
      },
      "execution_count": null,
      "outputs": []
    },
    {
      "cell_type": "code",
      "source": [
        "\n",
        "\n",
        "# Store the hyperparameters and evaluation metrics in a dictionary\n",
        "hyperparameters_dict = {\"learning_rate\": best_hps.get('learning_rate'),\n",
        "                        \"batch_size\": best_hps.get('batch_size'),\n",
        "                        \"num_epochs\": 10,\n",
        "                        \"loss\": history.history['loss'][-1],\n",
        "                        \"val_loss\": history.history['val_loss'][-1]}"
      ],
      "metadata": {
        "id": "jMEhtaZvi9eU"
      },
      "execution_count": null,
      "outputs": []
    }
  ],
  "metadata": {
    "colab": {
      "provenance": [],
      "gpuType": "T4",
      "include_colab_link": true
    },
    "kernelspec": {
      "display_name": "Python 3",
      "name": "python3"
    },
    "language_info": {
      "name": "python"
    },
    "accelerator": "GPU"
  },
  "nbformat": 4,
  "nbformat_minor": 0
}